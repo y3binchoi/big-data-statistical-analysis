{
 "cells": [
  {
   "cell_type": "code",
   "execution_count": 1,
   "id": "50bfcf63",
   "metadata": {},
   "outputs": [],
   "source": [
    "# spark\n",
    "## Employee.csv 한글 포함"
   ]
  },
  {
   "cell_type": "code",
   "execution_count": 2,
   "id": "43d68c97",
   "metadata": {},
   "outputs": [],
   "source": [
    "import os\n",
    "import sys"
   ]
  },
  {
   "cell_type": "code",
   "execution_count": 3,
   "id": "cb81f164",
   "metadata": {},
   "outputs": [],
   "source": [
    "os.environ['JAVA_HOME'] = \"C:\\Java\""
   ]
  },
  {
   "cell_type": "code",
   "execution_count": 10,
   "id": "ffca61f4",
   "metadata": {},
   "outputs": [],
   "source": [
    "import pyspark\n",
    "import pandas as pd "
   ]
  },
  {
   "cell_type": "code",
   "execution_count": 11,
   "id": "491cde61",
   "metadata": {},
   "outputs": [],
   "source": [
    "pandasDF = pd.read_csv('Employee.csv', encoding=\"ansi\")\n",
    "pandasDF.head()"
   ]
  },
  {
   "cell_type": "code",
   "execution_count": 5,
   "id": "16ccbe4f",
   "metadata": {},
   "outputs": [],
   "source": [
    "from pyspark.sql import SparkSession"
   ]
  },
  {
   "cell_type": "code",
   "execution_count": 6,
   "id": "1a88376f",
   "metadata": {},
   "outputs": [],
   "source": [
    "스파크 = SparkSession.builder.appName('Test').getOrCreate()"
   ]
  },
  {
   "cell_type": "code",
   "execution_count": 7,
   "id": "93c72043",
   "metadata": {},
   "outputs": [],
   "source": [
    "스파크"
   ]
  },
  {
   "cell_type": "code",
   "execution_count": null,
   "id": "b9c68d5b",
   "metadata": {},
   "outputs": [],
   "source": []
  }
 ],
 "metadata": {
  "kernelspec": {
   "display_name": "Python 3 (ipykernel)",
   "language": "python",
   "name": "python3"
  },
  "language_info": {
   "codemirror_mode": {
    "name": "ipython",
    "version": 3
   },
   "file_extension": ".py",
   "mimetype": "text/x-python",
   "name": "python",
   "nbconvert_exporter": "python",
   "pygments_lexer": "ipython3",
   "version": "3.9.13"
  }
 },
 "nbformat": 4,
 "nbformat_minor": 5
}
