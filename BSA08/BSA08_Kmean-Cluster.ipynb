{
 "cells": [
  {
   "cell_type": "markdown",
   "id": "abf9e6af",
   "metadata": {},
   "source": [
    "## KMeans Clustering"
   ]
  },
  {
   "cell_type": "code",
   "execution_count": null,
   "id": "d6438080",
   "metadata": {},
   "outputs": [],
   "source": [
    "from sklearn.preprocessing import scale\n",
    "from sklearn.datasets import load_iris\n",
    "from sklearn.cluster import KMeans\n",
    "import numpy as np\n",
    "import pandas as pd\n"
   ]
  },
  {
   "cell_type": "code",
   "execution_count": null,
   "id": "4ea6a89f",
   "metadata": {},
   "outputs": [],
   "source": [
    "iris = load_iris()\n",
    "iris_df = pd.DataFrame(data=iris.data, columns=[\"sepal_length\",\"sepal_width\",\"petal_length\",\"petal_width\"])\n",
    "iris_df.head()"
   ]
  },
  {
   "cell_type": "code",
   "execution_count": null,
   "id": "26bd478f",
   "metadata": {},
   "outputs": [],
   "source": [
    "kmeans = KMeans(n_clusters=3, max_iter=300, random_state=316)\n",
    "kmeans.fit(iris_df)"
   ]
  },
  {
   "cell_type": "code",
   "execution_count": null,
   "id": "9e674f1e",
   "metadata": {},
   "outputs": [],
   "source": [
    "print(kmeans.labels_)"
   ]
  },
  {
   "cell_type": "code",
   "execution_count": null,
   "id": "fbf1a006",
   "metadata": {},
   "outputs": [],
   "source": [
    "iris_df[\"target\"] = iris.target\n",
    "iris_df[\"cluster\"] = kmeans.labels_\n",
    "iris_result = iris_df.groupby([\"target\",\"cluster\"])[\"sepal_length\"].count()\n",
    "print(iris_result)"
   ]
  },
  {
   "cell_type": "markdown",
   "id": "a11f2615",
   "metadata": {},
   "source": [
    "### 군집화 평가\n",
    "\n",
    "#### 실루엣분석(Silhouette analysis)\n",
    "\n",
    "- 각 군집 간 거리가 얼마나 효율적으로 분리되어 있는지를 평가\n",
    "- 실루엣 계수(silhouette coefficient): 개별 데이터의 군집화 집표\n",
    "    - $a(i)$ : 해당 데이터 포인트와 같은 군집 내에 있는 다른 데이터 포인트와의 평균거리 \n",
    "    - $b(i)$ : 해당 데이터 포인트가 속하지 않는 군집 중 가장 가까운 군집과의 평균거리\n",
    "    $$ s(i) = \\frac{b(i)-a(i)}{\\max(a(i),b(i))}, \\qquad - \\leq s(i) \\leq 1  $$\n",
    "    - 1에 가까울수록 근처 군집과 멀리 떨어져 있음\n",
    "    - 0에 가까울수록 근처 군집과 가까움\n",
    "    - 음수는 다른 군집에 할당되어 있음"
   ]
  },
  {
   "cell_type": "code",
   "execution_count": null,
   "id": "0e029080",
   "metadata": {},
   "outputs": [],
   "source": [
    "from sklearn.metrics import silhouette_samples, silhouette_score\n"
   ]
  },
  {
   "cell_type": "code",
   "execution_count": null,
   "id": "55abcd8a",
   "metadata": {},
   "outputs": [],
   "source": [
    "iris_df[\"silhouette\"] = silhouette_samples(iris.data, iris_df[\"cluster\"])"
   ]
  },
  {
   "cell_type": "code",
   "execution_count": null,
   "id": "62b3a6e3",
   "metadata": {},
   "outputs": [],
   "source": [
    "ave_score = silhouette_score(iris.data,iris_df[\"cluster\"])\n",
    "print(\"SAS:{0:.4f}\".format(ave_score))"
   ]
  },
  {
   "cell_type": "code",
   "execution_count": null,
   "id": "ab2b6769",
   "metadata": {},
   "outputs": [],
   "source": [
    "iris_df.head()"
   ]
  },
  {
   "cell_type": "code",
   "execution_count": null,
   "id": "ca69948e",
   "metadata": {},
   "outputs": [],
   "source": [
    "iris_df.groupby(\"cluster\")[\"silhouette\"].mean()"
   ]
  },
  {
   "cell_type": "markdown",
   "id": "fb4bad21",
   "metadata": {},
   "source": [
    "## GMM(Gaussian Mixture Model)\n",
    "$$f(x) = \\sum_{k=1}^K w_k f_k (x), \\qquad f_k = N(\\mu_k , \\sigma_k^2) $$\n",
    "\n",
    "- 개별 정규분포의 평균과 분산 추정\n",
    "- 각 데이터가 어떤 정규분포에 해당되는지에 대한 확률 추정"
   ]
  },
  {
   "cell_type": "code",
   "execution_count": null,
   "id": "1dec373b",
   "metadata": {},
   "outputs": [],
   "source": [
    "from sklearn.mixture import GaussianMixture"
   ]
  },
  {
   "cell_type": "code",
   "execution_count": null,
   "id": "308b3739",
   "metadata": {},
   "outputs": [],
   "source": [
    "gmm = GaussianMixture(n_components=3, random_state=316).fit(iris.data)\n",
    "iris_df[\"gmm\"] = gmm.predict(iris.data)\n",
    "iris_df.head()"
   ]
  },
  {
   "cell_type": "code",
   "execution_count": null,
   "id": "f131a1c4",
   "metadata": {},
   "outputs": [],
   "source": [
    "iris_result = iris_df.groupby([\"target\"])[\"gmm\"].value_counts()\n",
    "print(iris_result)"
   ]
  },
  {
   "cell_type": "markdown",
   "id": "99b61c7a",
   "metadata": {},
   "source": [
    "## 기타 군집법\n",
    "\n",
    "- 평균이동(mean shift) : from sklearn.cluster import MeanShift\n",
    "- DBSCAN(density based spatial clustering of applications with noise): from sklearn.cluster import DBSCAN\n"
   ]
  },
  {
   "cell_type": "code",
   "execution_count": null,
   "id": "8dee8ea0",
   "metadata": {},
   "outputs": [],
   "source": []
  }
 ],
 "metadata": {
  "kernelspec": {
   "display_name": "Python 3 (ipykernel)",
   "language": "python",
   "name": "python3"
  },
  "language_info": {
   "codemirror_mode": {
    "name": "ipython",
    "version": 3
   },
   "file_extension": ".py",
   "mimetype": "text/x-python",
   "name": "python",
   "nbconvert_exporter": "python",
   "pygments_lexer": "ipython3",
   "version": "3.8.10"
  }
 },
 "nbformat": 4,
 "nbformat_minor": 5
}
