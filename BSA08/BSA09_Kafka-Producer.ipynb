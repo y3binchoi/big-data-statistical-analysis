{
 "cells": [
  {
   "cell_type": "code",
   "execution_count": null,
   "id": "be297bfc",
   "metadata": {},
   "outputs": [],
   "source": [
    "# !pip install kafka-python\n",
    "\n",
    "from time import sleep\n",
    "import json\n",
    "from kafka import KafkaProducer\n",
    "from datetime import datetime"
   ]
  },
  {
   "cell_type": "code",
   "execution_count": null,
   "id": "b3d131b7",
   "metadata": {},
   "outputs": [],
   "source": [
    "topic_name = \"testevents\"\n",
    "producer = KafkaProducer(bootstrap_servers=['localhost:9092'])"
   ]
  },
  {
   "cell_type": "code",
   "execution_count": null,
   "id": "0458ddfb",
   "metadata": {},
   "outputs": [],
   "source": [
    "producer.send(topic_name,b\"Hello, Kafka\")"
   ]
  },
  {
   "cell_type": "code",
   "execution_count": null,
   "id": "36d81b30",
   "metadata": {},
   "outputs": [],
   "source": [
    "now = datetime.now()\n",
    "now"
   ]
  },
  {
   "cell_type": "code",
   "execution_count": null,
   "id": "8f7c0445",
   "metadata": {},
   "outputs": [],
   "source": [
    "current_time = now.strftime(\"%d/%m/%Y %H:%M:%S\")\n",
    "current_time"
   ]
  },
  {
   "cell_type": "code",
   "execution_count": null,
   "id": "b1b39e15",
   "metadata": {},
   "outputs": [],
   "source": [
    "for i in range(10):\n",
    "    message = \"Message {}\".format(str(datetime.now().time()))\n",
    "    producer.send(topic_name,json.dumps(message).encode('utf-8'))\n",
    "    sleep(3)\n",
    "    print(\"Message sent \",i)\n",
    "    "
   ]
  },
  {
   "cell_type": "code",
   "execution_count": null,
   "id": "efe0c8c0",
   "metadata": {},
   "outputs": [],
   "source": [
    "producer.close()"
   ]
  },
  {
   "cell_type": "code",
   "execution_count": null,
   "id": "15990434",
   "metadata": {},
   "outputs": [],
   "source": []
  }
 ],
 "metadata": {
  "kernelspec": {
   "display_name": "Python 3 (ipykernel)",
   "language": "python",
   "name": "python3"
  },
  "language_info": {
   "codemirror_mode": {
    "name": "ipython",
    "version": 3
   },
   "file_extension": ".py",
   "mimetype": "text/x-python",
   "name": "python",
   "nbconvert_exporter": "python",
   "pygments_lexer": "ipython3",
   "version": "3.8.10"
  }
 },
 "nbformat": 4,
 "nbformat_minor": 5
}
