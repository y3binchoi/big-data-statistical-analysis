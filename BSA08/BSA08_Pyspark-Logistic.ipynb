{
 "cells": [
  {
   "cell_type": "markdown",
   "id": "390ffede",
   "metadata": {},
   "source": [
    "### Telco Customer Churn\n",
    "Focused customer retention programs\n",
    "\n",
    "#### Context\n",
    "\"Predict behavior to retain customers. You can analyze all relevant customer data and develop focused customer retention programs.\" [IBM Sample Data Sets]\n",
    "\n",
    "#### Content\n",
    "Each row represents a customer, each column contains customer’s attributes described on the column Metadata.\n",
    "\n",
    "The data set includes information about:\n",
    "\n",
    "-Customers who left within the last month – the column is called Churn\n",
    "-Services that each customer has signed up for – phone, multiple lines, internet, online security, online backup, device protection, tech support, and streaming TV and movies\n",
    "-Customer account information – how long they’ve been a customer, contract, payment method, paperless billing, monthly charges, and total charges\n",
    "-Demographic info about customers – gender, age range, and if they have partners and dependents\n",
    "\n",
    "#### Inspiration\n",
    "To explore this type of models and learn more about the subject.\n",
    "\n",
    "#### New version from IBM:\n",
    "https://community.ibm.com/community/user/businessanalytics/blogs/steven-macko/2019/07/11/telco-customer-churn-1113\n",
    "\n",
    "\n",
    "- 이 고객이 왜 이탈을 했는지 분석 (고객 이탈 모형)\n",
    "- 캐글 데이터"
   ]
  },
  {
   "cell_type": "markdown",
   "id": "86145237",
   "metadata": {},
   "source": [
    "파이스파크\n",
    "\n",
    "\n",
    "- 문자(범주형) -> 숫자 \n"
   ]
  },
  {
   "cell_type": "code",
   "execution_count": 1,
   "id": "9e3e6d8d",
   "metadata": {},
   "outputs": [],
   "source": [
    "from pyspark.sql import SparkSession\n",
    "\n",
    "spark =  SparkSession.builder.appName(\"churn\").getOrCreate()\n",
    "spark.conf.set(\"spark.sql.execution.arrow.pyspark.enabled\",\"true\")"
   ]
  },
  {
   "cell_type": "code",
   "execution_count": 2,
   "id": "468805c5",
   "metadata": {},
   "outputs": [
    {
     "name": "stdout",
     "output_type": "stream",
     "text": [
      "+----------+------+-------------+-------+----------+------+------------+----------------+---------------+-------------------+-------------------+-------------------+-------------------+-------------------+-------------------+--------------+----------------+--------------------+--------------+------------+-----+\n",
      "|customerID|gender|SeniorCitizen|Partner|Dependents|tenure|PhoneService|   MultipleLines|InternetService|     OnlineSecurity|       OnlineBackup|   DeviceProtection|        TechSupport|        StreamingTV|    StreamingMovies|      Contract|PaperlessBilling|       PaymentMethod|MonthlyCharges|TotalCharges|Churn|\n",
      "+----------+------+-------------+-------+----------+------+------------+----------------+---------------+-------------------+-------------------+-------------------+-------------------+-------------------+-------------------+--------------+----------------+--------------------+--------------+------------+-----+\n",
      "|7590-VHVEG|Female|            0|    Yes|        No|     1|          No|No phone service|            DSL|                 No|                Yes|                 No|                 No|                 No|                 No|Month-to-month|             Yes|    Electronic check|         29.85|       29.85|   No|\n",
      "|5575-GNVDE|  Male|            0|     No|        No|    34|         Yes|              No|            DSL|                Yes|                 No|                Yes|                 No|                 No|                 No|      One year|              No|        Mailed check|         56.95|      1889.5|   No|\n",
      "|3668-QPYBK|  Male|            0|     No|        No|     2|         Yes|              No|            DSL|                Yes|                Yes|                 No|                 No|                 No|                 No|Month-to-month|             Yes|        Mailed check|         53.85|      108.15|  Yes|\n",
      "|7795-CFOCW|  Male|            0|     No|        No|    45|          No|No phone service|            DSL|                Yes|                 No|                Yes|                Yes|                 No|                 No|      One year|              No|Bank transfer (au...|          42.3|     1840.75|   No|\n",
      "|9237-HQITU|Female|            0|     No|        No|     2|         Yes|              No|    Fiber optic|                 No|                 No|                 No|                 No|                 No|                 No|Month-to-month|             Yes|    Electronic check|          70.7|      151.65|  Yes|\n",
      "|9305-CDSKC|Female|            0|     No|        No|     8|         Yes|             Yes|    Fiber optic|                 No|                 No|                Yes|                 No|                Yes|                Yes|Month-to-month|             Yes|    Electronic check|         99.65|       820.5|  Yes|\n",
      "|1452-KIOVK|  Male|            0|     No|       Yes|    22|         Yes|             Yes|    Fiber optic|                 No|                Yes|                 No|                 No|                Yes|                 No|Month-to-month|             Yes|Credit card (auto...|          89.1|      1949.4|   No|\n",
      "|6713-OKOMC|Female|            0|     No|        No|    10|          No|No phone service|            DSL|                Yes|                 No|                 No|                 No|                 No|                 No|Month-to-month|              No|        Mailed check|         29.75|       301.9|   No|\n",
      "|7892-POOKP|Female|            0|    Yes|        No|    28|         Yes|             Yes|    Fiber optic|                 No|                 No|                Yes|                Yes|                Yes|                Yes|Month-to-month|             Yes|    Electronic check|         104.8|     3046.05|  Yes|\n",
      "|6388-TABGU|  Male|            0|     No|       Yes|    62|         Yes|              No|            DSL|                Yes|                Yes|                 No|                 No|                 No|                 No|      One year|              No|Bank transfer (au...|         56.15|     3487.95|   No|\n",
      "|9763-GRSKD|  Male|            0|    Yes|       Yes|    13|         Yes|              No|            DSL|                Yes|                 No|                 No|                 No|                 No|                 No|Month-to-month|             Yes|        Mailed check|         49.95|      587.45|   No|\n",
      "|7469-LKBCI|  Male|            0|     No|        No|    16|         Yes|              No|             No|No internet service|No internet service|No internet service|No internet service|No internet service|No internet service|      Two year|              No|Credit card (auto...|         18.95|       326.8|   No|\n",
      "|8091-TTVAX|  Male|            0|    Yes|        No|    58|         Yes|             Yes|    Fiber optic|                 No|                 No|                Yes|                 No|                Yes|                Yes|      One year|              No|Credit card (auto...|        100.35|      5681.1|   No|\n",
      "|0280-XJGEX|  Male|            0|     No|        No|    49|         Yes|             Yes|    Fiber optic|                 No|                Yes|                Yes|                 No|                Yes|                Yes|Month-to-month|             Yes|Bank transfer (au...|         103.7|      5036.3|  Yes|\n",
      "|5129-JLPIS|  Male|            0|     No|        No|    25|         Yes|              No|    Fiber optic|                Yes|                 No|                Yes|                Yes|                Yes|                Yes|Month-to-month|             Yes|    Electronic check|         105.5|     2686.05|   No|\n",
      "|3655-SNQYZ|Female|            0|    Yes|       Yes|    69|         Yes|             Yes|    Fiber optic|                Yes|                Yes|                Yes|                Yes|                Yes|                Yes|      Two year|              No|Credit card (auto...|        113.25|     7895.15|   No|\n",
      "|8191-XWSZG|Female|            0|     No|        No|    52|         Yes|              No|             No|No internet service|No internet service|No internet service|No internet service|No internet service|No internet service|      One year|              No|        Mailed check|         20.65|     1022.95|   No|\n",
      "|9959-WOFKT|  Male|            0|     No|       Yes|    71|         Yes|             Yes|    Fiber optic|                Yes|                 No|                Yes|                 No|                Yes|                Yes|      Two year|              No|Bank transfer (au...|         106.7|     7382.25|   No|\n",
      "|4190-MFLUW|Female|            0|    Yes|       Yes|    10|         Yes|              No|            DSL|                 No|                 No|                Yes|                Yes|                 No|                 No|Month-to-month|              No|Credit card (auto...|          55.2|      528.35|  Yes|\n",
      "|4183-MYFRB|Female|            0|     No|        No|    21|         Yes|              No|    Fiber optic|                 No|                Yes|                Yes|                 No|                 No|                Yes|Month-to-month|             Yes|    Electronic check|         90.05|      1862.9|   No|\n",
      "+----------+------+-------------+-------+----------+------+------------+----------------+---------------+-------------------+-------------------+-------------------+-------------------+-------------------+-------------------+--------------+----------------+--------------------+--------------+------------+-----+\n",
      "only showing top 20 rows\n",
      "\n"
     ]
    }
   ],
   "source": [
    "churn_df  = spark.read.csv(\"Telco-Customer-Churn.csv\",inferSchema=True,header=True)\n",
    "churn_df.show() "
   ]
  },
  {
   "cell_type": "code",
   "execution_count": 3,
   "id": "71e551ea",
   "metadata": {},
   "outputs": [
    {
     "name": "stdout",
     "output_type": "stream",
     "text": [
      "root\n",
      " |-- customerID: string (nullable = true)\n",
      " |-- gender: string (nullable = true)\n",
      " |-- SeniorCitizen: integer (nullable = true)\n",
      " |-- Partner: string (nullable = true)\n",
      " |-- Dependents: string (nullable = true)\n",
      " |-- tenure: integer (nullable = true)\n",
      " |-- PhoneService: string (nullable = true)\n",
      " |-- MultipleLines: string (nullable = true)\n",
      " |-- InternetService: string (nullable = true)\n",
      " |-- OnlineSecurity: string (nullable = true)\n",
      " |-- OnlineBackup: string (nullable = true)\n",
      " |-- DeviceProtection: string (nullable = true)\n",
      " |-- TechSupport: string (nullable = true)\n",
      " |-- StreamingTV: string (nullable = true)\n",
      " |-- StreamingMovies: string (nullable = true)\n",
      " |-- Contract: string (nullable = true)\n",
      " |-- PaperlessBilling: string (nullable = true)\n",
      " |-- PaymentMethod: string (nullable = true)\n",
      " |-- MonthlyCharges: double (nullable = true)\n",
      " |-- TotalCharges: string (nullable = true)\n",
      " |-- Churn: string (nullable = true)\n",
      "\n"
     ]
    }
   ],
   "source": [
    "churn_df.printSchema()"
   ]
  },
  {
   "cell_type": "markdown",
   "id": "e61c6f05",
   "metadata": {},
   "source": [
    "범주별로 숫자로 만드는 방법\n",
    "\n",
    "문자 -> 숫자 1234... -onehotencoding-> 더미변수 "
   ]
  },
  {
   "cell_type": "code",
   "execution_count": 4,
   "id": "ad99c9d8",
   "metadata": {},
   "outputs": [],
   "source": [
    "churn_df = churn_df.drop(\"customerID\") # 분석에 필요 없는 변수"
   ]
  },
  {
   "cell_type": "code",
   "execution_count": 5,
   "id": "5b0f599b",
   "metadata": {},
   "outputs": [
    {
     "data": {
      "text/plain": [
       "['gender',\n",
       " 'Partner',\n",
       " 'Dependents',\n",
       " 'PhoneService',\n",
       " 'MultipleLines',\n",
       " 'InternetService',\n",
       " 'OnlineSecurity',\n",
       " 'OnlineBackup',\n",
       " 'DeviceProtection',\n",
       " 'TechSupport',\n",
       " 'StreamingTV',\n",
       " 'StreamingMovies',\n",
       " 'Contract',\n",
       " 'PaperlessBilling',\n",
       " 'PaymentMethod',\n",
       " 'TotalCharges',\n",
       " 'Churn']"
      ]
     },
     "execution_count": 5,
     "metadata": {},
     "output_type": "execute_result"
    }
   ],
   "source": [
    "from pyspark.sql.types import StringType\n",
    "\n",
    "문자변수 = [변수.name for 변수 in churn_df.schema.fields if isinstance(변수.dataType, StringType)] # 스트링 타입인 변수 네임 출력\n",
    "문자변수"
   ]
  },
  {
   "cell_type": "code",
   "execution_count": 6,
   "id": "9b44857d",
   "metadata": {},
   "outputs": [],
   "source": [
    "from pyspark.ml.feature import StringIndexer, OneHotEncoder \n",
    "#  StringIndexer: 해당하는값을 인덱스로 표시해주는 것"
   ]
  },
  {
   "cell_type": "code",
   "execution_count": 7,
   "id": "05164d3f",
   "metadata": {},
   "outputs": [
    {
     "name": "stdout",
     "output_type": "stream",
     "text": [
      "root\n",
      " |-- gender: string (nullable = true)\n",
      " |-- SeniorCitizen: integer (nullable = true)\n",
      " |-- Partner: string (nullable = true)\n",
      " |-- Dependents: string (nullable = true)\n",
      " |-- tenure: integer (nullable = true)\n",
      " |-- PhoneService: string (nullable = true)\n",
      " |-- MultipleLines: string (nullable = true)\n",
      " |-- InternetService: string (nullable = true)\n",
      " |-- OnlineSecurity: string (nullable = true)\n",
      " |-- OnlineBackup: string (nullable = true)\n",
      " |-- DeviceProtection: string (nullable = true)\n",
      " |-- TechSupport: string (nullable = true)\n",
      " |-- StreamingTV: string (nullable = true)\n",
      " |-- StreamingMovies: string (nullable = true)\n",
      " |-- Contract: string (nullable = true)\n",
      " |-- PaperlessBilling: string (nullable = true)\n",
      " |-- PaymentMethod: string (nullable = true)\n",
      " |-- MonthlyCharges: double (nullable = true)\n",
      " |-- TotalCharges: string (nullable = true)\n",
      " |-- Churn: string (nullable = true)\n",
      " |-- gender_SI: double (nullable = false)\n",
      " |-- Partner_SI: double (nullable = false)\n",
      " |-- Dependents_SI: double (nullable = false)\n",
      " |-- PhoneService_SI: double (nullable = false)\n",
      " |-- MultipleLines_SI: double (nullable = false)\n",
      " |-- InternetService_SI: double (nullable = false)\n",
      " |-- OnlineSecurity_SI: double (nullable = false)\n",
      " |-- OnlineBackup_SI: double (nullable = false)\n",
      " |-- DeviceProtection_SI: double (nullable = false)\n",
      " |-- TechSupport_SI: double (nullable = false)\n",
      " |-- StreamingTV_SI: double (nullable = false)\n",
      " |-- StreamingMovies_SI: double (nullable = false)\n",
      " |-- Contract_SI: double (nullable = false)\n",
      " |-- PaperlessBilling_SI: double (nullable = false)\n",
      " |-- PaymentMethod_SI: double (nullable = false)\n",
      " |-- TotalCharges_SI: double (nullable = false)\n",
      " |-- Churn_SI: double (nullable = false)\n",
      "\n"
     ]
    }
   ],
   "source": [
    "## StringIndexer\n",
    "indexer  = StringIndexer(inputCols=문자변수,\n",
    "                         outputCols=[\"{}_SI\".format(c) for c in 문자변수])\n",
    "encode_df  = indexer.fit(churn_df).transform(churn_df)\n",
    "encode_df.printSchema()"
   ]
  },
  {
   "cell_type": "code",
   "execution_count": 28,
   "id": "66b1d404",
   "metadata": {},
   "outputs": [
    {
     "data": {
      "text/plain": [
       "['SeniorCitizen',\n",
       " 'tenure',\n",
       " 'MonthlyCharges',\n",
       " 'gender_SI',\n",
       " 'Partner_SI',\n",
       " 'Dependents_SI',\n",
       " 'PhoneService_SI',\n",
       " 'MultipleLines_SI',\n",
       " 'InternetService_SI',\n",
       " 'OnlineSecurity_SI',\n",
       " 'OnlineBackup_SI',\n",
       " 'DeviceProtection_SI',\n",
       " 'TechSupport_SI',\n",
       " 'StreamingTV_SI',\n",
       " 'StreamingMovies_SI',\n",
       " 'Contract_SI',\n",
       " 'PaperlessBilling_SI',\n",
       " 'PaymentMethod_SI',\n",
       " 'TotalCharges_SI']"
      ]
     },
     "execution_count": 28,
     "metadata": {},
     "output_type": "execute_result"
    }
   ],
   "source": [
    "설명변수 = [\"SeniorCitizen\", \"tenure\", \"MonthlyCharges\"]+[\"{}_SI\".format(c) for c in 문자변수] # 리스트 더하기\n",
    "설명변수 = 설명변수[0:-1]\n",
    "설명변수 "
   ]
  },
  {
   "cell_type": "code",
   "execution_count": 29,
   "id": "205ef857",
   "metadata": {},
   "outputs": [],
   "source": [
    "# 설명 변수에서 뭐 빼라고 했지...? 뭐가 반응변수였지 "
   ]
  },
  {
   "cell_type": "code",
   "execution_count": 30,
   "id": "934bb229",
   "metadata": {},
   "outputs": [
    {
     "name": "stdout",
     "output_type": "stream",
     "text": [
      "+--------------------+--------+\n",
      "|            features|Churn_SI|\n",
      "+--------------------+--------+\n",
      "|(19,[1,2,3,4,6,7,...|     0.0|\n",
      "|(19,[1,2,8,9,11,1...|     0.0|\n",
      "|(19,[1,2,8,9,10,1...|     1.0|\n",
      "|[0.0,45.0,42.3,0....|     0.0|\n",
      "|(19,[1,2,3,18],[2...|     1.0|\n",
      "|(19,[1,2,3,7,11,1...|     1.0|\n",
      "|(19,[1,2,5,7,10,1...|     0.0|\n",
      "|(19,[1,2,3,6,7,8,...|     0.0|\n",
      "|(19,[1,2,3,4,7,11...|     1.0|\n",
      "|(19,[1,2,5,8,9,10...|     0.0|\n",
      "|(19,[1,2,4,5,8,9,...|     0.0|\n",
      "|[0.0,16.0,18.95,0...|     0.0|\n",
      "|(19,[1,2,4,7,11,1...|     0.0|\n",
      "|(19,[1,2,7,10,11,...|     1.0|\n",
      "|(19,[1,2,9,11,12,...|     0.0|\n",
      "|[0.0,69.0,113.25,...|     0.0|\n",
      "|[0.0,52.0,20.65,1...|     0.0|\n",
      "|[0.0,71.0,106.7,0...|     0.0|\n",
      "|(19,[1,2,3,4,5,8,...|     1.0|\n",
      "|(19,[1,2,3,10,11,...|     0.0|\n",
      "+--------------------+--------+\n",
      "only showing top 20 rows\n",
      "\n"
     ]
    }
   ],
   "source": [
    "from pyspark.ml.feature import VectorAssembler\n",
    "\n",
    "변수묶음 = VectorAssembler(inputCols=설명변수,outputCol=\"features\")\n",
    "변환자료  = 변수묶음.transform(encode_df)\n",
    "변환자료.select(\"features\",\"Churn_SI\").show()"
   ]
  },
  {
   "cell_type": "code",
   "execution_count": 31,
   "id": "5bf9b678",
   "metadata": {},
   "outputs": [
    {
     "name": "stdout",
     "output_type": "stream",
     "text": [
      "+--------------------+--------+\n",
      "|            features|Churn_SI|\n",
      "+--------------------+--------+\n",
      "|(19,[1,2,3,4,6,7,...|     0.0|\n",
      "|(19,[1,2,8,9,11,1...|     0.0|\n",
      "|(19,[1,2,8,9,10,1...|     1.0|\n",
      "|[0.0,45.0,42.3,0....|     0.0|\n",
      "|(19,[1,2,3,18],[2...|     1.0|\n",
      "|(19,[1,2,3,7,11,1...|     1.0|\n",
      "|(19,[1,2,5,7,10,1...|     0.0|\n",
      "|(19,[1,2,3,6,7,8,...|     0.0|\n",
      "|(19,[1,2,3,4,7,11...|     1.0|\n",
      "|(19,[1,2,5,8,9,10...|     0.0|\n",
      "|(19,[1,2,4,5,8,9,...|     0.0|\n",
      "|[0.0,16.0,18.95,0...|     0.0|\n",
      "|(19,[1,2,4,7,11,1...|     0.0|\n",
      "|(19,[1,2,7,10,11,...|     1.0|\n",
      "|(19,[1,2,9,11,12,...|     0.0|\n",
      "|[0.0,69.0,113.25,...|     0.0|\n",
      "|[0.0,52.0,20.65,1...|     0.0|\n",
      "|[0.0,71.0,106.7,0...|     0.0|\n",
      "|(19,[1,2,3,4,5,8,...|     1.0|\n",
      "|(19,[1,2,3,10,11,...|     0.0|\n",
      "+--------------------+--------+\n",
      "only showing top 20 rows\n",
      "\n"
     ]
    }
   ],
   "source": [
    "분류자료 = 변환자료.select([\"features\",\"Churn_SI\"])\n",
    "분류자료.show()"
   ]
  },
  {
   "cell_type": "code",
   "execution_count": 32,
   "id": "7600872f",
   "metadata": {},
   "outputs": [],
   "source": [
    "from pyspark.ml.classification import LogisticRegression\n",
    "\n",
    "train_data, test_data =분류자료.randomSplit([0.7, 0.3], 316)"
   ]
  },
  {
   "cell_type": "code",
   "execution_count": 33,
   "id": "49346f3d",
   "metadata": {},
   "outputs": [
    {
     "data": {
      "text/plain": [
       "<pyspark.ml.classification.BinaryLogisticRegressionTrainingSummary at 0x19802cb9b50>"
      ]
     },
     "execution_count": 33,
     "metadata": {},
     "output_type": "execute_result"
    }
   ],
   "source": [
    "# 모형 설정, 핏팅\n",
    "분석모형 =  LogisticRegression(labelCol=\"Churn_SI\").fit(train_data) # labelColumn=반응변수 features=설명변수(default) 특별히 지정x\n",
    "# 어떤 패키지를 사용하냐에 따라 입력 방식이 다르다 \n",
    "분석모형.summary"
   ]
  },
  {
   "cell_type": "code",
   "execution_count": 34,
   "id": "5b420835",
   "metadata": {},
   "outputs": [
    {
     "name": "stderr",
     "output_type": "stream",
     "text": [
      "C:\\Users\\SM-PC\\AppData\\Local\\Programs\\Python\\Python39\\lib\\site-packages\\pyspark\\sql\\context.py:125: FutureWarning: Deprecated in 3.0.0. Use SparkSession.builder.getOrCreate() instead.\n",
      "  warnings.warn(\n"
     ]
    },
    {
     "name": "stdout",
     "output_type": "stream",
     "text": [
      "+-------------------------------------------------------------------------------------+--------+------------------------------------------+----------------------------------------+----------+\n",
      "|features                                                                             |Churn_SI|rawPrediction                             |probability                             |prediction|\n",
      "+-------------------------------------------------------------------------------------+--------+------------------------------------------+----------------------------------------+----------+\n",
      "|(19,[0,1,2,3,4,5,7,10,13,14,18],[1.0,32.0,100.4,1.0,1.0,1.0,1.0,1.0,1.0,1.0,3003.0]) |0.0     |[-0.36571838187741035,0.36571838187741035]|[0.4095760151697173,0.5904239848302827] |1.0       |\n",
      "|(19,[0,1,2,3,4,5,7,10,17,18],[1.0,34.0,79.6,1.0,1.0,1.0,1.0,1.0,1.0,2572.0])         |1.0     |[0.2818408242783337,-0.2818408242783337]  |[0.5699974686390334,0.43000253136096656]|0.0       |\n",
      "|(19,[0,1,2,3,4,5,7,11,13,17,18],[1.0,32.0,91.35,1.0,1.0,1.0,1.0,1.0,1.0,1.0,2710.0]) |0.0     |[-0.2306332824024786,0.2306332824024786]  |[0.44259590593745346,0.5574040940625465]|1.0       |\n",
      "|(19,[0,1,2,3,4,5,7,11,14,17,18],[1.0,59.0,88.75,1.0,1.0,1.0,1.0,1.0,1.0,3.0,4579.0]) |0.0     |[1.1493004938048261,-1.1493004938048261]  |[0.7593831260931916,0.24061687390680842]|0.0       |\n",
      "|(19,[0,1,2,3,4,5,7,13,14,17,18],[1.0,40.0,94.55,1.0,1.0,1.0,1.0,1.0,1.0,3.0,3333.0]) |1.0     |[0.21831739130367778,-0.21831739130367778]|[0.5543635938333119,0.4456364061666881] |0.0       |\n",
      "|(19,[0,1,2,3,4,5,7,13,14,18],[1.0,14.0,95.8,1.0,1.0,1.0,1.0,1.0,1.0,963.0])          |0.0     |[-1.1449662297969485,1.1449662297969485]  |[0.2414097224404222,0.7585902775595779] |1.0       |\n",
      "|(19,[0,1,2,3,4,5,7,13,16,17,18],[1.0,22.0,85.35,1.0,1.0,1.0,1.0,1.0,1.0,2.0,1843.0]) |0.0     |[0.06757433403764335,-0.06757433403764335]|[0.5168871580257968,0.48311284197420323]|0.0       |\n",
      "|(19,[0,1,2,3,4,5,8,16,18],[1.0,4.0,46.0,1.0,1.0,1.0,1.0,1.0,1658.0])                 |1.0     |[0.6255109641167933,-0.6255109641167933]  |[0.6514708914028279,0.3485291085971721] |0.0       |\n",
      "|(19,[0,1,2,3,4,5,9,12,13,17,18],[1.0,3.0,88.3,1.0,1.0,1.0,1.0,1.0,1.0,1.0,2591.0])   |1.0     |[-0.1074919801782499,0.1074919801782499]  |[0.47315285048545025,0.5268471495145497]|1.0       |\n",
      "|(19,[0,1,2,3,4,5,10,11,14,17,18],[1.0,23.0,88.45,1.0,1.0,1.0,1.0,1.0,1.0,2.0,2006.0])|0.0     |[0.04605313152744572,-0.04605313152744572]|[0.5115112484452452,0.4884887515547548] |0.0       |\n",
      "|(19,[0,1,2,3,4,5,11,12,13,14,18],[1.0,31.0,98.9,1.0,1.0,1.0,1.0,1.0,1.0,1.0,2728.0]) |1.0     |[0.16158102297414145,-0.16158102297414145]|[0.5403075965520228,0.45969240344797724]|0.0       |\n",
      "|(19,[0,1,2,3,4,5,11,13,14,15,18],[1.0,24.0,96.55,1.0,1.0,1.0,1.0,1.0,1.0,1.0,2147.0])|0.0     |[-0.08219892362606274,0.08219892362606274]|[0.47946183191488895,0.5205381680851111]|1.0       |\n",
      "|(19,[0,1,2,3,4,5,16,17,18],[1.0,47.0,70.55,1.0,1.0,1.0,1.0,2.0,3071.0])              |1.0     |[1.6685180284875152,-1.6685180284875152]  |[0.8413781358495818,0.15862186415041823]|0.0       |\n",
      "|(19,[0,1,2,3,4,5,18],[1.0,1.0,69.25,1.0,1.0,1.0,58.0])                               |1.0     |[-0.856583454045983,0.856583454045983]    |[0.29805365391227573,0.7019463460877242]|1.0       |\n",
      "|(19,[0,1,2,3,4,6,7,8,10,13,18],[1.0,40.0,39.3,1.0,1.0,1.0,2.0,1.0,1.0,1.0,1420.0])   |1.0     |[0.5959730531753404,-0.5959730531753404]  |[0.6447344647946184,0.3552655352053816] |0.0       |\n",
      "|(19,[0,1,2,3,4,6,7,8,10,18],[1.0,3.0,30.75,1.0,1.0,1.0,2.0,1.0,1.0,327.0])           |0.0     |[-0.537609150660174,0.537609150660174]    |[0.36874392981917153,0.6312560701808285]|1.0       |\n",
      "|(19,[0,1,2,3,4,6,7,8,18],[1.0,1.0,24.8,1.0,1.0,1.0,2.0,1.0,43.0])                    |1.0     |[-0.6985434965520549,0.6985434965520549]  |[0.33213523246431265,0.6678647675356874]|1.0       |\n",
      "|(19,[0,1,2,3,4,7,8,16,17,18],[1.0,55.0,51.65,1.0,1.0,1.0,1.0,1.0,2.0,2662.0])        |0.0     |[2.2059179541786675,-2.2059179541786675]  |[0.9007796877576323,0.09922031224236771]|0.0       |\n",
      "|(19,[0,1,2,3,4,7,9,18],[1.0,51.0,77.5,1.0,1.0,1.0,1.0,3448.0])                       |1.0     |[0.8789481820116873,-0.8789481820116873]  |[0.7066042111587817,0.2933957888412183] |0.0       |\n",
      "|(19,[0,1,2,3,4,7,10,11,13,14,18],[1.0,60.0,105.9,1.0,1.0,1.0,1.0,1.0,1.0,1.0,5255.0])|0.0     |[0.3588031241568097,-0.3588031241568097]  |[0.5887506733222967,0.4112493266777033] |0.0       |\n",
      "+-------------------------------------------------------------------------------------+--------+------------------------------------------+----------------------------------------+----------+\n",
      "only showing top 20 rows\n",
      "\n"
     ]
    }
   ],
   "source": [
    "분석모형.summary.predictions.show(truncate=False)  # truncate=True(default)\n",
    "# probability: 0일 확률"
   ]
  },
  {
   "cell_type": "code",
   "execution_count": 35,
   "id": "d3e739d8",
   "metadata": {},
   "outputs": [
    {
     "name": "stdout",
     "output_type": "stream",
     "text": [
      "+-------+-------------------+-------------------+\n",
      "|summary|           Churn_SI|         prediction|\n",
      "+-------+-------------------+-------------------+\n",
      "|  count|               4861|               4861|\n",
      "|   mean|0.26722896523349104|0.22053075498868546|\n",
      "| stddev|  0.442558399615584|  0.414647212499701|\n",
      "|    min|                0.0|                0.0|\n",
      "|    max|                1.0|                1.0|\n",
      "+-------+-------------------+-------------------+\n",
      "\n"
     ]
    }
   ],
   "source": [
    "분석모형.summary.predictions.describe().show()"
   ]
  },
  {
   "cell_type": "code",
   "execution_count": 36,
   "id": "550a3ada",
   "metadata": {},
   "outputs": [],
   "source": [
    "from pyspark.ml.evaluation import BinaryClassificationEvaluator # 이진 분류 평가 "
   ]
  },
  {
   "cell_type": "code",
   "execution_count": 37,
   "id": "a395d44a",
   "metadata": {},
   "outputs": [
    {
     "name": "stdout",
     "output_type": "stream",
     "text": [
      "+--------------------+--------+--------------------+--------------------+----------+\n",
      "|            features|Churn_SI|       rawPrediction|         probability|prediction|\n",
      "+--------------------+--------+--------------------+--------------------+----------+\n",
      "|(19,[0,1,2,3,4,5,...|     0.0|[0.39289610460907...|[0.59697968268466...|       0.0|\n",
      "|(19,[0,1,2,3,4,5,...|     0.0|[-0.5106428469780...|[0.37504283928831...|       1.0|\n",
      "|(19,[0,1,2,3,4,7,...|     0.0|[0.37758050400803...|[0.59328941763549...|       0.0|\n",
      "|(19,[0,1,2,3,4,7,...|     1.0|[-0.2833131118982...|[0.42964171039365...|       1.0|\n",
      "|(19,[0,1,2,3,4,7,...|     1.0|[-1.3971841060924...|[0.19826333152951...|       1.0|\n",
      "|(19,[0,1,2,3,4,7,...|     0.0|[1.47083134139576...|[0.81318371294332...|       0.0|\n",
      "|(19,[0,1,2,3,4,7,...|     0.0|[2.83696959075266...|[0.94464120275434...|       0.0|\n",
      "|(19,[0,1,2,3,4,7,...|     0.0|[2.44372859870398...|[0.92010162407723...|       0.0|\n",
      "|(19,[0,1,2,3,4,7,...|     1.0|[1.23476625008917...|[0.77465169064276...|       0.0|\n",
      "|(19,[0,1,2,3,4,7,...|     0.0|[1.50494484469236...|[0.81831082440597...|       0.0|\n",
      "|(19,[0,1,2,3,4,7,...|     1.0|[-1.3329720178930...|[0.20866818353709...|       1.0|\n",
      "|(19,[0,1,2,3,4,7,...|     0.0|[-0.1724455989742...|[0.45699511889019...|       1.0|\n",
      "|(19,[0,1,2,3,4,7,...|     1.0|[-1.6829580046652...|[0.15670417748967...|       1.0|\n",
      "|(19,[0,1,2,3,4,7,...|     0.0|[1.20621422192438...|[0.76962841388300...|       0.0|\n",
      "|(19,[0,1,2,3,4,7,...|     1.0|[1.26652594510152...|[0.78014746701431...|       0.0|\n",
      "|(19,[0,1,2,3,4,7,...|     0.0|[0.14061201406652...|[0.53509519813913...|       0.0|\n",
      "|(19,[0,1,2,3,4,7,...|     1.0|[-0.1212694893355...|[0.46971972777661...|       1.0|\n",
      "|(19,[0,1,2,3,4,7,...|     0.0|[1.27423451716911...|[0.78146676562079...|       0.0|\n",
      "|(19,[0,1,2,3,4,7,...|     0.0|[1.26782635946091...|[0.78037042944153...|       0.0|\n",
      "|(19,[0,1,2,3,4,7,...|     1.0|[-0.7418106259265...|[0.32260833667725...|       1.0|\n",
      "+--------------------+--------+--------------------+--------------------+----------+\n",
      "only showing top 20 rows\n",
      "\n"
     ]
    }
   ],
   "source": [
    "예측 = 분석모형.evaluate(test_data) # 분석 모형에 자체적으로 있음. 테스트 데이터로 모형을 평가. \n",
    "예측.predictions.show()"
   ]
  },
  {
   "cell_type": "code",
   "execution_count": 38,
   "id": "5afd7625",
   "metadata": {},
   "outputs": [
    {
     "data": {
      "text/plain": [
       "0.7145574855252274"
      ]
     },
     "execution_count": 38,
     "metadata": {},
     "output_type": "execute_result"
    }
   ],
   "source": [
    "평가 = BinaryClassificationEvaluator(rawPredictionCol=\"prediction\",labelCol=\"Churn_SI\")\n",
    "auc = 평가.evaluate(예측.predictions)\n",
    "auc # 보통 얼마나 잘 설명하는가(예측하는가) 기준 값. 0에 가까우면 설명력 안조음 0.5는 무작위.\n",
    "# tenure를 넣고 안넣고 차이 없을 땐 0.69 ... 이었음  "
   ]
  },
  {
   "cell_type": "code",
   "execution_count": null,
   "id": "a9325762",
   "metadata": {},
   "outputs": [],
   "source": []
  }
 ],
 "metadata": {
  "kernelspec": {
   "display_name": "Python 3 (ipykernel)",
   "language": "python",
   "name": "python3"
  },
  "language_info": {
   "codemirror_mode": {
    "name": "ipython",
    "version": 3
   },
   "file_extension": ".py",
   "mimetype": "text/x-python",
   "name": "python",
   "nbconvert_exporter": "python",
   "pygments_lexer": "ipython3",
   "version": "3.9.13"
  }
 },
 "nbformat": 4,
 "nbformat_minor": 5
}
