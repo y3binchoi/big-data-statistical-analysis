{
 "cells": [
  {
   "cell_type": "markdown",
   "id": "1928c469",
   "metadata": {},
   "source": [
    "## Pyspark Mllib\n",
    "### Linear Regression"
   ]
  },
  {
   "cell_type": "code",
   "execution_count": null,
   "id": "4f81745d",
   "metadata": {},
   "outputs": [],
   "source": [
    "from pyspark.sql import SparkSession\n",
    "\n",
    "spark = SparkSession.builder.appName('Regress').getOrCreate()\n",
    "spark.conf.set(\"spark.sql.execution.arrow.pyspark.enabled\",\"true\")"
   ]
  },
  {
   "cell_type": "code",
   "execution_count": null,
   "id": "5946ec4c",
   "metadata": {},
   "outputs": [],
   "source": [
    "고용_df = spark.read.csv(\"Employee.csv\",header=True,encoding='cp949',inferSchema=True)\n",
    "고용_df.printSchema()"
   ]
  },
  {
   "cell_type": "markdown",
   "id": "ac7329dd",
   "metadata": {},
   "source": [
    "### 자료의 척도 변환: log 변환"
   ]
  },
  {
   "cell_type": "code",
   "execution_count": null,
   "id": "f1c6ad2c",
   "metadata": {},
   "outputs": [],
   "source": [
    "from pyspark.sql.functions import log, exp\n",
    "\n",
    "고용_df = 고용_df.withColumn(\"salary_ln\",log(고용_df.salary))\n",
    "고용_df = 고용_df.withColumn(\"salbegin_ln\",log(고용_df.salbegin))\n",
    "\n",
    "고용_df.show()"
   ]
  },
  {
   "cell_type": "markdown",
   "id": "4d9dc647",
   "metadata": {},
   "source": [
    "### Handling categorical features"
   ]
  },
  {
   "cell_type": "code",
   "execution_count": null,
   "id": "16948658",
   "metadata": {},
   "outputs": [],
   "source": [
    "from pyspark.ml.feature import StringIndexer\n",
    "\n",
    "요인처리 = StringIndexer(inputCols=['gender','jobcat','minority'],\n",
    "                    outputCols=['gender_indexed','jobcat_indexed','min_indexed'])\n",
    "고용_df = 요인처리.fit(고용_df).transform(고용_df)\n",
    "고용_df.show()"
   ]
  },
  {
   "cell_type": "markdown",
   "id": "cb3f452b",
   "metadata": {},
   "source": [
    "### 다범주 변수 가변수 처리"
   ]
  },
  {
   "cell_type": "code",
   "execution_count": null,
   "id": "e225897c",
   "metadata": {},
   "outputs": [],
   "source": [
    "from pyspark.ml.feature import OneHotEncoder"
   ]
  },
  {
   "cell_type": "code",
   "execution_count": null,
   "id": "af18f201",
   "metadata": {},
   "outputs": [],
   "source": [
    "중간과정 = StringIndexer(inputCol='jobcat',outputCol='jobcat_step1').fit(고용_df).transform(고용_df)\n",
    "고용_df = OneHotEncoder(inputCol='jobcat_step1',outputCol=\"jobcat_vec\").fit(중간과정).transform(중간과정)\n",
    "고용_df.show()"
   ]
  },
  {
   "cell_type": "markdown",
   "id": "85160521",
   "metadata": {},
   "source": [
    "### 상호작용(Interaction)"
   ]
  },
  {
   "cell_type": "code",
   "execution_count": null,
   "id": "4cd37988",
   "metadata": {},
   "outputs": [],
   "source": [
    "from pyspark.ml.feature import Interaction"
   ]
  },
  {
   "cell_type": "code",
   "execution_count": null,
   "id": "a2b51103",
   "metadata": {},
   "outputs": [],
   "source": [
    "상호작용 = Interaction()\n",
    "상호작용.setInputCols([\"gender_indexed\", \"jobcat_vec\"])\n",
    "상호작용.setOutputCol(\"gender_jobcat\")\n",
    "고용_df = 상호작용.transform(고용_df)\n",
    "고용_df.show()"
   ]
  },
  {
   "cell_type": "markdown",
   "id": "d17f207c",
   "metadata": {},
   "source": [
    "### 설명변수 설정"
   ]
  },
  {
   "cell_type": "code",
   "execution_count": null,
   "id": "c41e1852",
   "metadata": {},
   "outputs": [],
   "source": [
    "from pyspark.ml.feature import VectorAssembler"
   ]
  },
  {
   "cell_type": "code",
   "execution_count": null,
   "id": "d021c9c8",
   "metadata": {},
   "outputs": [],
   "source": [
    "설명벡터 = VectorAssembler(inputCols=['salbegin_ln','jobtime','educ'], outputCol=\"설명변수\")\n",
    "변수묶음 = 설명벡터.transform(고용_df)\n",
    "변수묶음[\"salary_ln\",\"설명변수\"].show()"
   ]
  },
  {
   "cell_type": "code",
   "execution_count": null,
   "id": "cdc9f9df",
   "metadata": {},
   "outputs": [],
   "source": [
    "분석자료 = 변수묶음.select(\"salary\",\"설명변수\",\"salary_ln\")\n",
    "분석자료.show()"
   ]
  },
  {
   "cell_type": "markdown",
   "id": "87a9625d",
   "metadata": {},
   "source": [
    "### 학습자료와 검증자료 분할"
   ]
  },
  {
   "cell_type": "code",
   "execution_count": null,
   "id": "9e56e8b1",
   "metadata": {},
   "outputs": [],
   "source": [
    "from pyspark.ml.regression import LinearRegression\n",
    "학습자료, 검증자료 = 분석자료.randomSplit([0.75,0.25],seed=1)"
   ]
  },
  {
   "cell_type": "markdown",
   "id": "14b1ba1f",
   "metadata": {},
   "source": [
    "### 회귀분석"
   ]
  },
  {
   "cell_type": "code",
   "execution_count": null,
   "id": "f212b2bf",
   "metadata": {},
   "outputs": [],
   "source": [
    "회귀분석 = LinearRegression(featuresCol=\"설명변수\",labelCol=\"salary_ln\",predictionCol=\"예측값\")\n",
    "회귀적합 = 회귀분석.fit(학습자료)"
   ]
  },
  {
   "cell_type": "code",
   "execution_count": null,
   "id": "7f8cf5cd",
   "metadata": {},
   "outputs": [],
   "source": [
    "회귀적합.coefficients"
   ]
  },
  {
   "cell_type": "code",
   "execution_count": null,
   "id": "afc80188",
   "metadata": {},
   "outputs": [],
   "source": [
    "회귀적합.intercept"
   ]
  },
  {
   "cell_type": "code",
   "execution_count": null,
   "id": "25c63dbe",
   "metadata": {},
   "outputs": [],
   "source": [
    "print(\"R2:\",회귀적합.summary.r2)\n",
    "print(\"MSE:\",회귀적합.summary.meanSquaredError)"
   ]
  },
  {
   "cell_type": "code",
   "execution_count": null,
   "id": "de97bfba",
   "metadata": {},
   "outputs": [],
   "source": [
    "설명변수명 = ['salbegin','jobtime','educ']\n",
    "\n",
    "import pandas as pd\n",
    "pd.DataFrame({\"coefficients\":회귀적합.coefficients}, index=설명변수명)"
   ]
  },
  {
   "cell_type": "code",
   "execution_count": null,
   "id": "e81df778",
   "metadata": {},
   "outputs": [],
   "source": [
    "적합검증 = 회귀적합.evaluate(검증자료)\n",
    "적합검증.predictions.show()"
   ]
  },
  {
   "cell_type": "code",
   "execution_count": null,
   "id": "925e3da2",
   "metadata": {},
   "outputs": [],
   "source": [
    "예측자료 = 적합검증.predictions\n",
    "예측자료 = 예측자료.withColumn(\"salary_예측값\",exp(예측자료.예측값))\n",
    "예측자료.show()"
   ]
  },
  {
   "cell_type": "code",
   "execution_count": null,
   "id": "29497ec8",
   "metadata": {},
   "outputs": [],
   "source": [
    "### 모든 변수 적용"
   ]
  },
  {
   "cell_type": "code",
   "execution_count": null,
   "id": "035e7413",
   "metadata": {},
   "outputs": [],
   "source": [
    "설명벡터 = VectorAssembler(inputCols=['salbegin_ln','jobtime','educ','gender_indexed','jobcat_vec','min_indexed','gender_jobcat'], \n",
    "                       outputCol=\"설명변수\")\n",
    "변수묶음 = 설명벡터.transform(고용_df)\n",
    "변수묶음.show()"
   ]
  },
  {
   "cell_type": "code",
   "execution_count": null,
   "id": "c063ff38",
   "metadata": {},
   "outputs": [],
   "source": [
    "최종자료 = 변수묶음.select(\"설명변수\",\"salary\",\"salary_ln\")\n",
    "최종자료.show()\n",
    "학습자료, 검증자료 = 최종자료.randomSplit([0.75,0.25])"
   ]
  },
  {
   "cell_type": "code",
   "execution_count": null,
   "id": "3b0cf546",
   "metadata": {},
   "outputs": [],
   "source": [
    "회귀분석 = LinearRegression(featuresCol=\"설명변수\",labelCol=\"salary_ln\")\n",
    "회귀적합 = 회귀분석.fit(학습자료)\n"
   ]
  },
  {
   "cell_type": "code",
   "execution_count": null,
   "id": "2c3e812e",
   "metadata": {},
   "outputs": [],
   "source": [
    "회귀적합.coefficients"
   ]
  },
  {
   "cell_type": "code",
   "execution_count": null,
   "id": "1ce128b1",
   "metadata": {},
   "outputs": [],
   "source": [
    "회귀적합.summary.predictions.show()"
   ]
  },
  {
   "cell_type": "code",
   "execution_count": null,
   "id": "9b4852b6",
   "metadata": {},
   "outputs": [],
   "source": [
    "회귀적합.summary.residuals.show()"
   ]
  },
  {
   "cell_type": "code",
   "execution_count": null,
   "id": "de88af80",
   "metadata": {
    "scrolled": true
   },
   "outputs": [],
   "source": [
    "적합검증 = 회귀적합.evaluate(검증자료)\n",
    "적합검증.predictions.show()"
   ]
  },
  {
   "cell_type": "code",
   "execution_count": null,
   "id": "a97c0806",
   "metadata": {},
   "outputs": [],
   "source": [
    "예측자료 = 적합검증.predictions\n",
    "예측자료 = 예측자료.withColumn(\"salary_예측값\",exp(예측자료.prediction))\n",
    "예측자료.show()"
   ]
  },
  {
   "cell_type": "markdown",
   "id": "0a7ddf86",
   "metadata": {},
   "source": [
    "## 의사결정나무"
   ]
  },
  {
   "cell_type": "code",
   "execution_count": null,
   "id": "e08e5008",
   "metadata": {},
   "outputs": [],
   "source": [
    "from pyspark.ml.regression import DecisionTreeRegressor\n",
    "\n",
    "회귀나무 = DecisionTreeRegressor(featuresCol=\"설명변수\",labelCol=\"salary\")\n",
    "회귀나무적합 = 회귀나무.fit(학습자료)"
   ]
  },
  {
   "cell_type": "code",
   "execution_count": null,
   "id": "69f459ba",
   "metadata": {},
   "outputs": [],
   "source": [
    "회귀나무적합.featureImportances"
   ]
  },
  {
   "cell_type": "code",
   "execution_count": null,
   "id": "aa01629c",
   "metadata": {},
   "outputs": [],
   "source": [
    "회귀나무검증 = 회귀나무적합.transform(검증자료)\n",
    "회귀나무검증.show()"
   ]
  },
  {
   "cell_type": "code",
   "execution_count": null,
   "id": "8d3317cd",
   "metadata": {},
   "outputs": [],
   "source": [
    "회귀나무 = DecisionTreeRegressor(featuresCol=\"설명변수\",labelCol=\"salary_ln\")\n",
    "회귀나무적합 = 회귀나무.fit(학습자료)\n",
    "회귀나무검증 = 회귀나무적합.transform(검증자료)\n",
    "회귀나무검증 = 회귀나무검증.withColumn(\"salary_예측값\",exp(회귀나무검증.prediction))\n",
    "예측자료.show()"
   ]
  },
  {
   "cell_type": "markdown",
   "id": "e164abe2",
   "metadata": {},
   "source": [
    "## Gradient-boosted tree regression"
   ]
  },
  {
   "cell_type": "code",
   "execution_count": null,
   "id": "0db55bb2",
   "metadata": {},
   "outputs": [],
   "source": [
    "from pyspark.ml.regression import GBTRegressor\n",
    "\n",
    "gbt = GBTRegressor(featuresCol=\"설명변수\",labelCol=\"salary_ln\", maxIter=10)\n",
    "gbt적합 = gbt.fit(학습자료)\n",
    "gbt검증 = gbt적합.transform(검증자료)"
   ]
  },
  {
   "cell_type": "code",
   "execution_count": null,
   "id": "5b9586ae",
   "metadata": {},
   "outputs": [],
   "source": [
    "gbt검증.withColumn(\"salary_예측값\",exp(gbt검증.prediction)).show()\n"
   ]
  },
  {
   "cell_type": "code",
   "execution_count": null,
   "id": "c5c7cf62",
   "metadata": {},
   "outputs": [],
   "source": []
  }
 ],
 "metadata": {
  "kernelspec": {
   "display_name": "Python 3 (ipykernel)",
   "language": "python",
   "name": "python3"
  },
  "language_info": {
   "codemirror_mode": {
    "name": "ipython",
    "version": 3
   },
   "file_extension": ".py",
   "mimetype": "text/x-python",
   "name": "python",
   "nbconvert_exporter": "python",
   "pygments_lexer": "ipython3",
   "version": "3.8.10"
  }
 },
 "nbformat": 4,
 "nbformat_minor": 5
}
