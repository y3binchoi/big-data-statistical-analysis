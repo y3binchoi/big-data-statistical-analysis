{
 "cells": [
  {
   "cell_type": "code",
   "execution_count": 5,
   "id": "a64907d2",
   "metadata": {},
   "outputs": [
    {
     "name": "stdout",
     "output_type": "stream",
     "text": [
      "Requirement already satisfied: imblearn in c:\\users\\sm-pc\\appdata\\local\\programs\\python\\python39\\lib\\site-packages (0.0)\n",
      "Requirement already satisfied: imbalanced-learn in c:\\users\\sm-pc\\appdata\\local\\programs\\python\\python39\\lib\\site-packages (from imblearn) (0.10.1)\n",
      "Requirement already satisfied: numpy>=1.17.3 in c:\\users\\sm-pc\\appdata\\local\\programs\\python\\python39\\lib\\site-packages (from imbalanced-learn->imblearn) (1.23.5)\n",
      "Requirement already satisfied: scipy>=1.3.2 in c:\\users\\sm-pc\\appdata\\local\\programs\\python\\python39\\lib\\site-packages (from imbalanced-learn->imblearn) (1.10.1)\n",
      "Requirement already satisfied: scikit-learn>=1.0.2 in c:\\users\\sm-pc\\appdata\\local\\programs\\python\\python39\\lib\\site-packages (from imbalanced-learn->imblearn) (1.2.2)\n",
      "Requirement already satisfied: joblib>=1.1.1 in c:\\users\\sm-pc\\appdata\\local\\programs\\python\\python39\\lib\\site-packages (from imbalanced-learn->imblearn) (1.2.0)\n",
      "Requirement already satisfied: threadpoolctl>=2.0.0 in c:\\users\\sm-pc\\appdata\\local\\programs\\python\\python39\\lib\\site-packages (from imbalanced-learn->imblearn) (3.1.0)\n"
     ]
    }
   ],
   "source": [
    "### package install\n",
    "!pip install imblearn"
   ]
  },
  {
   "cell_type": "code",
   "execution_count": 4,
   "id": "72ca04ce",
   "metadata": {},
   "outputs": [
    {
     "name": "stdout",
     "output_type": "stream",
     "text": [
      "Requirement already satisfied: pip in c:\\users\\sm-pc\\appdata\\local\\programs\\python\\python39\\lib\\site-packages (23.0.1)\n",
      "Collecting pip\n",
      "  Downloading pip-23.1-py3-none-any.whl (2.1 MB)\n",
      "     ---------------------------------------- 0.0/2.1 MB ? eta -:--:--\n",
      "     ------ --------------------------------- 0.3/2.1 MB 9.9 MB/s eta 0:00:01\n",
      "     -------------- ------------------------- 0.7/2.1 MB 9.1 MB/s eta 0:00:01\n",
      "     ---------------------- ----------------- 1.1/2.1 MB 9.0 MB/s eta 0:00:01\n",
      "     ------------------------------ --------- 1.6/2.1 MB 8.4 MB/s eta 0:00:01\n",
      "     ---------------------------------------  2.1/2.1 MB 8.7 MB/s eta 0:00:01\n",
      "     ---------------------------------------- 2.1/2.1 MB 8.2 MB/s eta 0:00:00\n",
      "Installing collected packages: pip\n",
      "  Attempting uninstall: pip\n",
      "    Found existing installation: pip 23.0.1\n",
      "    Uninstalling pip-23.0.1:\n",
      "      Successfully uninstalled pip-23.0.1\n",
      "Successfully installed pip-23.1\n"
     ]
    }
   ],
   "source": [
    "!python.exe -m pip install --upgrade pip"
   ]
  },
  {
   "cell_type": "code",
   "execution_count": 8,
   "id": "9a2d4d80",
   "metadata": {},
   "outputs": [],
   "source": [
    "import pandas as pd     "
   ]
  },
  {
   "cell_type": "code",
   "execution_count": 9,
   "id": "ffde4a9e",
   "metadata": {},
   "outputs": [
    {
     "name": "stdout",
     "output_type": "stream",
     "text": [
      "<class 'pandas.core.frame.DataFrame'>\n",
      "RangeIndex: 284807 entries, 0 to 284806\n",
      "Data columns (total 31 columns):\n",
      " #   Column  Non-Null Count   Dtype  \n",
      "---  ------  --------------   -----  \n",
      " 0   Time    284807 non-null  float64\n",
      " 1   V1      284807 non-null  float64\n",
      " 2   V2      284807 non-null  float64\n",
      " 3   V3      284807 non-null  float64\n",
      " 4   V4      284807 non-null  float64\n",
      " 5   V5      284807 non-null  float64\n",
      " 6   V6      284807 non-null  float64\n",
      " 7   V7      284807 non-null  float64\n",
      " 8   V8      284807 non-null  float64\n",
      " 9   V9      284807 non-null  float64\n",
      " 10  V10     284807 non-null  float64\n",
      " 11  V11     284807 non-null  float64\n",
      " 12  V12     284807 non-null  float64\n",
      " 13  V13     284807 non-null  float64\n",
      " 14  V14     284807 non-null  float64\n",
      " 15  V15     284807 non-null  float64\n",
      " 16  V16     284807 non-null  float64\n",
      " 17  V17     284807 non-null  float64\n",
      " 18  V18     284807 non-null  float64\n",
      " 19  V19     284807 non-null  float64\n",
      " 20  V20     284807 non-null  float64\n",
      " 21  V21     284807 non-null  float64\n",
      " 22  V22     284807 non-null  float64\n",
      " 23  V23     284807 non-null  float64\n",
      " 24  V24     284807 non-null  float64\n",
      " 25  V25     284807 non-null  float64\n",
      " 26  V26     284807 non-null  float64\n",
      " 27  V27     284807 non-null  float64\n",
      " 28  V28     284807 non-null  float64\n",
      " 29  Amount  284807 non-null  float64\n",
      " 30  Class   284807 non-null  int64  \n",
      "dtypes: float64(30), int64(1)\n",
      "memory usage: 67.4 MB\n"
     ]
    }
   ],
   "source": [
    "카드자료 = pd.read_csv('/Bigdata/archive/creditcard.csv')\n",
    "카드자료.info()"
   ]
  },
  {
   "cell_type": "code",
   "execution_count": 10,
   "id": "c6e27ca6",
   "metadata": {},
   "outputs": [
    {
     "name": "stdout",
     "output_type": "stream",
     "text": [
      "<class 'pandas.core.frame.DataFrame'>\n",
      "RangeIndex: 284807 entries, 0 to 284806\n",
      "Data columns (total 31 columns):\n",
      " #   Column  Non-Null Count   Dtype   \n",
      "---  ------  --------------   -----   \n",
      " 0   Time    284807 non-null  float32 \n",
      " 1   V1      284807 non-null  float32 \n",
      " 2   V2      284807 non-null  float32 \n",
      " 3   V3      284807 non-null  float32 \n",
      " 4   V4      284807 non-null  float32 \n",
      " 5   V5      284807 non-null  float32 \n",
      " 6   V6      284807 non-null  float32 \n",
      " 7   V7      284807 non-null  float32 \n",
      " 8   V8      284807 non-null  float32 \n",
      " 9   V9      284807 non-null  float32 \n",
      " 10  V10     284807 non-null  float32 \n",
      " 11  V11     284807 non-null  float32 \n",
      " 12  V12     284807 non-null  float32 \n",
      " 13  V13     284807 non-null  float32 \n",
      " 14  V14     284807 non-null  float32 \n",
      " 15  V15     284807 non-null  float32 \n",
      " 16  V16     284807 non-null  float32 \n",
      " 17  V17     284807 non-null  float32 \n",
      " 18  V18     284807 non-null  float32 \n",
      " 19  V19     284807 non-null  float32 \n",
      " 20  V20     284807 non-null  float32 \n",
      " 21  V21     284807 non-null  float32 \n",
      " 22  V22     284807 non-null  float32 \n",
      " 23  V23     284807 non-null  float32 \n",
      " 24  V24     284807 non-null  float32 \n",
      " 25  V25     284807 non-null  float32 \n",
      " 26  V26     284807 non-null  float32 \n",
      " 27  V27     284807 non-null  float32 \n",
      " 28  V28     284807 non-null  float32 \n",
      " 29  Amount  284807 non-null  float32 \n",
      " 30  Class   284807 non-null  category\n",
      "dtypes: category(1), float32(30)\n",
      "memory usage: 32.9 MB\n"
     ]
    }
   ],
   "source": [
    "카드자료[\"Class\"] = 카드자료[\"Class\"].astype('category')\n",
    "for 변수명 in list(카드자료.columns[:-1]):\n",
    "    카드자료[변수명] = 카드자료[변수명].astype('float32')\n",
    "카드자료.info()"
   ]
  },
  {
   "cell_type": "code",
   "execution_count": 11,
   "id": "5ab0c94f",
   "metadata": {},
   "outputs": [],
   "source": [
    "카드자료.to_parquet('creditcard.parquet')"
   ]
  },
  {
   "cell_type": "code",
   "execution_count": 12,
   "id": "7b3a2cab",
   "metadata": {},
   "outputs": [
    {
     "data": {
      "text/plain": [
       "0    284315\n",
       "1       492\n",
       "Name: Class, dtype: int64"
      ]
     },
     "execution_count": 12,
     "metadata": {},
     "output_type": "execute_result"
    }
   ],
   "source": [
    "카드자료[\"Class\"].value_counts()"
   ]
  },
  {
   "cell_type": "code",
   "execution_count": 13,
   "id": "1f7a6862",
   "metadata": {},
   "outputs": [
    {
     "name": "stdout",
     "output_type": "stream",
     "text": [
      "<class 'pandas.core.frame.DataFrame'>\n",
      "RangeIndex: 284807 entries, 0 to 284806\n",
      "Data columns (total 30 columns):\n",
      " #   Column  Non-Null Count   Dtype  \n",
      "---  ------  --------------   -----  \n",
      " 0   Time    284807 non-null  float32\n",
      " 1   V1      284807 non-null  float32\n",
      " 2   V2      284807 non-null  float32\n",
      " 3   V3      284807 non-null  float32\n",
      " 4   V4      284807 non-null  float32\n",
      " 5   V5      284807 non-null  float32\n",
      " 6   V6      284807 non-null  float32\n",
      " 7   V7      284807 non-null  float32\n",
      " 8   V8      284807 non-null  float32\n",
      " 9   V9      284807 non-null  float32\n",
      " 10  V10     284807 non-null  float32\n",
      " 11  V11     284807 non-null  float32\n",
      " 12  V12     284807 non-null  float32\n",
      " 13  V13     284807 non-null  float32\n",
      " 14  V14     284807 non-null  float32\n",
      " 15  V15     284807 non-null  float32\n",
      " 16  V16     284807 non-null  float32\n",
      " 17  V17     284807 non-null  float32\n",
      " 18  V18     284807 non-null  float32\n",
      " 19  V19     284807 non-null  float32\n",
      " 20  V20     284807 non-null  float32\n",
      " 21  V21     284807 non-null  float32\n",
      " 22  V22     284807 non-null  float32\n",
      " 23  V23     284807 non-null  float32\n",
      " 24  V24     284807 non-null  float32\n",
      " 25  V25     284807 non-null  float32\n",
      " 26  V26     284807 non-null  float32\n",
      " 27  V27     284807 non-null  float32\n",
      " 28  V28     284807 non-null  float32\n",
      " 29  Amount  284807 non-null  float32\n",
      "dtypes: float32(30)\n",
      "memory usage: 32.6 MB\n"
     ]
    }
   ],
   "source": [
    "X = 카드자료.iloc[:,0:-1]\n",
    "X.info()"
   ]
  },
  {
   "cell_type": "code",
   "execution_count": 14,
   "id": "b55e0789",
   "metadata": {},
   "outputs": [
    {
     "name": "stdout",
     "output_type": "stream",
     "text": [
      "<class 'pandas.core.series.Series'>\n",
      "RangeIndex: 284807 entries, 0 to 284806\n",
      "Series name: Class\n",
      "Non-Null Count   Dtype   \n",
      "--------------   -----   \n",
      "284807 non-null  category\n",
      "dtypes: category(1)\n",
      "memory usage: 278.4 KB\n"
     ]
    }
   ],
   "source": [
    "y = 카드자료[\"Class\"]\n",
    "y.info()"
   ]
  },
  {
   "cell_type": "code",
   "execution_count": 16,
   "id": "a377256f",
   "metadata": {},
   "outputs": [],
   "source": [
    "from imblearn.over_sampling import SMOTE\n",
    "X_o, y_o = SMOTE(random_state=316, sampling_strategy=0.5).fit_resample(X,y)"
   ]
  },
  {
   "cell_type": "code",
   "execution_count": null,
   "id": "f28daa22",
   "metadata": {},
   "outputs": [],
   "source": []
  }
 ],
 "metadata": {
  "kernelspec": {
   "display_name": "Python 3 (ipykernel)",
   "language": "python",
   "name": "python3"
  },
  "language_info": {
   "codemirror_mode": {
    "name": "ipython",
    "version": 3
   },
   "file_extension": ".py",
   "mimetype": "text/x-python",
   "name": "python",
   "nbconvert_exporter": "python",
   "pygments_lexer": "ipython3",
   "version": "3.9.13"
  }
 },
 "nbformat": 4,
 "nbformat_minor": 5
}
