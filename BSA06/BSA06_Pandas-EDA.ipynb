{
 "cells": [
  {
   "cell_type": "code",
   "execution_count": null,
   "id": "9b3c1544",
   "metadata": {},
   "outputs": [],
   "source": [
    "import pandas as pd\n",
    "import seaborn as sns\n",
    "\n",
    "팁 = sns.load_dataset('tips')"
   ]
  },
  {
   "cell_type": "code",
   "execution_count": null,
   "id": "1467e51d",
   "metadata": {},
   "outputs": [],
   "source": [
    "팁.head()"
   ]
  },
  {
   "cell_type": "markdown",
   "id": "c15f25ea",
   "metadata": {},
   "source": [
    "### 기본적 통계"
   ]
  },
  {
   "cell_type": "code",
   "execution_count": null,
   "id": "3853f2c7",
   "metadata": {},
   "outputs": [],
   "source": [
    "## 수치자료\n",
    "팁.describe()"
   ]
  },
  {
   "cell_type": "code",
   "execution_count": null,
   "id": "43808f18",
   "metadata": {},
   "outputs": [],
   "source": [
    "# 범주형 데이터에 대해서도 요약을 보고 싶으면 include = 'all'  추가\n",
    "팁.describe(include=\"all\")"
   ]
  },
  {
   "cell_type": "code",
   "execution_count": null,
   "id": "0b3a9ef6",
   "metadata": {},
   "outputs": [],
   "source": [
    "팁['sex'].value_counts()"
   ]
  },
  {
   "cell_type": "code",
   "execution_count": null,
   "id": "616b3a4a",
   "metadata": {},
   "outputs": [],
   "source": [
    "팁[['sex','smoker','day','time']].value_counts()"
   ]
  },
  {
   "cell_type": "code",
   "execution_count": null,
   "id": "f7fb5b20",
   "metadata": {},
   "outputs": [],
   "source": [
    "# 상관계수\n",
    "팁.corr()"
   ]
  },
  {
   "cell_type": "markdown",
   "id": "c3f0b7ee",
   "metadata": {},
   "source": [
    "## 그룹별 분석"
   ]
  },
  {
   "cell_type": "code",
   "execution_count": null,
   "id": "726eec9f",
   "metadata": {},
   "outputs": [],
   "source": [
    "# 그룹별 평균\n",
    "팁.groupby('sex').mean()"
   ]
  },
  {
   "cell_type": "markdown",
   "id": "f59feb45",
   "metadata": {},
   "source": [
    "### df를 groupby()를 통해 부분 df로 나눈 후 함수적용"
   ]
  },
  {
   "cell_type": "code",
   "execution_count": null,
   "id": "514b6509",
   "metadata": {},
   "outputs": [],
   "source": [
    "for 성별, 그룹 in 팁.groupby('sex'):\n",
    "    print(성별)\n",
    "    display(그룹.head())"
   ]
  },
  {
   "cell_type": "markdown",
   "id": "d624fbb4",
   "metadata": {},
   "source": [
    "### 적용가능한 통계함수\n",
    "- count : 표본크기\n",
    "- sum : 합\n",
    "- mean : 평균\n",
    "- median : 중앙값\n",
    "- var, std : 분산, 표준편차\n",
    "- min, max :  최솟값, 최댓값\n",
    "- unique, nunique : 고유값, 고유값개수\n",
    "- prod : 곱\n",
    "- first, last : 첫번째 값, 마지막 값\n",
    "\n",
    "### .agg()를 활용하여 다중 통계 표시가능"
   ]
  },
  {
   "cell_type": "code",
   "execution_count": null,
   "id": "958f6c1e",
   "metadata": {},
   "outputs": [],
   "source": [
    "팁.groupby('sex').agg(['mean', 'std'])"
   ]
  },
  {
   "cell_type": "code",
   "execution_count": null,
   "id": "89c37c68",
   "metadata": {},
   "outputs": [],
   "source": [
    "팁.groupby(['sex','time']).agg(['mean', 'std'])"
   ]
  },
  {
   "cell_type": "markdown",
   "id": "efa833d9",
   "metadata": {},
   "source": [
    "### 컬럼별로 다룬 통계를 계산할 수 있음"
   ]
  },
  {
   "cell_type": "code",
   "execution_count": null,
   "id": "f073777d",
   "metadata": {},
   "outputs": [],
   "source": [
    "팁.groupby('sex').agg({'total_bill': ['mean','std'], 'tip': 'median', 'size': 'sum' })"
   ]
  },
  {
   "cell_type": "code",
   "execution_count": null,
   "id": "29bd1fbc",
   "metadata": {},
   "outputs": [],
   "source": [
    "# 소수점 자리 수 지정\n",
    "팁.groupby('sex').agg({'total_bill': ['mean','std'], 'tip': 'median', 'size': 'sum' }).round(2)"
   ]
  },
  {
   "cell_type": "code",
   "execution_count": null,
   "id": "e4367296",
   "metadata": {},
   "outputs": [],
   "source": [
    "### 사용자 정의 함수는 .agg()에 적용"
   ]
  },
  {
   "cell_type": "code",
   "execution_count": null,
   "id": "afb5d49b",
   "metadata": {},
   "outputs": [],
   "source": [
    "# CV(변동계수)\n",
    "팁.groupby('sex')[['total_bill', 'tip']].agg(lambda x: x.std()/x.mean())"
   ]
  },
  {
   "cell_type": "code",
   "execution_count": null,
   "id": "c43dd6c2",
   "metadata": {},
   "outputs": [],
   "source": [
    "타이타닉 = sns.load_dataset('titanic')\n",
    "타이타닉.head()"
   ]
  },
  {
   "cell_type": "code",
   "execution_count": null,
   "id": "25966b11",
   "metadata": {},
   "outputs": [],
   "source": [
    "타이타닉.isna().sum()"
   ]
  },
  {
   "cell_type": "markdown",
   "id": "b77e3340",
   "metadata": {},
   "source": [
    "### 그룹별 평균으로 결측값 대체"
   ]
  },
  {
   "cell_type": "code",
   "execution_count": null,
   "id": "2929a05f",
   "metadata": {},
   "outputs": [],
   "source": [
    "타이타닉.groupby(['sex','class'],group_keys=False)['age'].apply(lambda x: x.fillna(x.mean()))"
   ]
  },
  {
   "cell_type": "code",
   "execution_count": null,
   "id": "5f9606b5",
   "metadata": {},
   "outputs": [],
   "source": [
    "## 그룹별로 표준화\n",
    "팁.groupby(['sex','time'],group_keys=False)['tip'].apply(lambda x: (x-x.mean())/x.std())"
   ]
  },
  {
   "cell_type": "markdown",
   "id": "8239d7e0",
   "metadata": {},
   "source": [
    "### 특정 칼럼 값을 기준으로 데이터 정렬하기"
   ]
  },
  {
   "cell_type": "code",
   "execution_count": null,
   "id": "d6b195d6",
   "metadata": {},
   "outputs": [],
   "source": [
    "팁.sort_values(by=[\"sex\",\"tip\"],ascending=[True, False]).head()\n"
   ]
  },
  {
   "cell_type": "code",
   "execution_count": null,
   "id": "532fb151",
   "metadata": {},
   "outputs": [],
   "source": []
  }
 ],
 "metadata": {
  "kernelspec": {
   "display_name": "Python 3 (ipykernel)",
   "language": "python",
   "name": "python3"
  },
  "language_info": {
   "codemirror_mode": {
    "name": "ipython",
    "version": 3
   },
   "file_extension": ".py",
   "mimetype": "text/x-python",
   "name": "python",
   "nbconvert_exporter": "python",
   "pygments_lexer": "ipython3",
   "version": "3.8.10"
  }
 },
 "nbformat": 4,
 "nbformat_minor": 5
}
