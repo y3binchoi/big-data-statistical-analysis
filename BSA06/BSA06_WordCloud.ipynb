{
 "cells": [
  {
   "cell_type": "markdown",
   "metadata": {},
   "source": [
    "# 한글Word Cloud 작성"
   ]
  },
  {
   "cell_type": "markdown",
   "metadata": {},
   "source": [
    "## 한글형태소 분석 맟 처리방법"
   ]
  },
  {
   "cell_type": "code",
   "execution_count": null,
   "metadata": {
    "scrolled": true
   },
   "outputs": [],
   "source": [
    "독립선언 = open('독립선언서.txt',encoding='utf-8').read()\n",
    "독립선언"
   ]
  },
  {
   "cell_type": "code",
   "execution_count": null,
   "metadata": {},
   "outputs": [],
   "source": [
    "import matplotlib.pyplot as plt\n",
    "import matplotlib\n",
    "from wordcloud import WordCloud\n",
    "\n",
    "matplotlib.rcParams[\"font.family\"] = 'NanumGothic'\n",
    "폰트위치 = 'C:/Windows/Fonts/NanumGothic.ttf'  \n",
    "\n",
    "독립선언구름 = WordCloud(font_path = 폰트위치).generate(독립선언)\n",
    "plt.figure(figsize=(12,12))\n",
    "plt.imshow(독립선언구름)\n",
    "plt.axis(\"off\")\n",
    "plt.show()"
   ]
  },
  {
   "cell_type": "code",
   "execution_count": null,
   "metadata": {},
   "outputs": [],
   "source": [
    "## 한글 Word Cloud를 작성하기 위한 Packages 설치\n",
    "## pip install nltk, konlpy\n",
    "import nltk\n",
    "import konlpy"
   ]
  },
  {
   "cell_type": "markdown",
   "metadata": {},
   "source": [
    "## 형태소 분석\n",
    "### Hannanum: 한나눔. KAIST Semantic Web Research Center 개발.\n",
    "### http://semanticweb.kaist.ac.kr/hannanum/\n",
    "### Kkma: 꼬꼬마. 서울대학교 IDS(Intelligent Data Systems) 연구실 개발.\n",
    "### http://kkma.snu.ac.kr/\n",
    "### Komoran: 코모란. Shineware에서 개발.\n",
    "### https://github.com/shin285/KOMORAN\n",
    "### Mecab: 메카브. 일본어용 형태소 분석기를 한국어를 사용할 수 있도록 수정.\n",
    "### https://bitbucket.org/eunjeon/mecab-ko\n",
    "### Open Korean Text: 오픈 소스 한국어 분석기. 과거 트위터 형태소 분석기.\n",
    "### https://github.com/open-korean-text/open-korean-text"
   ]
  },
  {
   "cell_type": "code",
   "execution_count": null,
   "metadata": {},
   "outputs": [],
   "source": [
    "# 형태소 분석:  \n",
    "from konlpy.tag import Okt\n",
    "\n",
    "okt = Okt()\n",
    "## Open Korean Text: 오픈 소스 한국어 분석기. 과거 Twitter 형태소 분석기.\n",
    "## Twitter\" has changed to \"Okt\"  since KoNLPy v0.4.5\n"
   ]
  },
  {
   "cell_type": "markdown",
   "metadata": {},
   "source": [
    "### Okt를 이용한 문장처리\n",
    "- 정규화(normalization) 처리: .normalize()\n",
    "- 어구추출(Phrase extraction): .phrases()\n",
    "- 형태소 분석: .morphs()\n",
    "- 형태소 분석(품사포함): .pos()\n",
    "- 명사추출: .nouns()"
   ]
  },
  {
   "cell_type": "code",
   "execution_count": null,
   "metadata": {},
   "outputs": [],
   "source": [
    "## 명사추출\n",
    "okt.nouns(독립선언[:40])"
   ]
  },
  {
   "cell_type": "code",
   "execution_count": null,
   "metadata": {},
   "outputs": [],
   "source": [
    "인사 =\"안녕하세욬ㅋㅋㅋ 샤릉해\"\n",
    "print(okt.normalize(인사))"
   ]
  },
  {
   "cell_type": "code",
   "execution_count": null,
   "metadata": {},
   "outputs": [],
   "source": [
    "빅통분 = \"\"\"이 강의에서는 Windows 10, 11 하에서 Apache에서 제공하는 다양한 빅데이터처리 툴(Hadoop, Spark, Kafka 등)을 \n",
    "설치하고 환경 설정하는 작업을 직접 수행하기 때문에 컴퓨터에 대한 사전 지식이 없는 경우 수강하기 어려움. \n",
    "빅데이터의 특징인 3V와 같이 이 교과에서는 상당한 양과 다양한 내용을 빠르게 강의하기 때문에\n",
    "강의를 수강하는데 필요한 통계 지식(회귀분석, 다변량분석 등)을 사전에 알고 있어야 함. \n",
    "일부 R이나 scala도 사용하는 경우도 있으나 기본 프로그램 언어는 python이며 python에 대해 기본적인 내용은 알고 있어야 함.\n",
    "모든 프로젝트는 개인별로 평가를 받으며 별도의 팀프로젝트 없음.\n",
    "모든 프로그램은 직접 코딩해야 함(소스 코드는 워터마크가 숨겨진 이미지 형태로 제공).\n",
    "\"\"\""
   ]
  },
  {
   "cell_type": "code",
   "execution_count": null,
   "metadata": {},
   "outputs": [],
   "source": [
    "print(okt.phrases(빅통분))"
   ]
  },
  {
   "cell_type": "code",
   "execution_count": null,
   "metadata": {},
   "outputs": [],
   "source": [
    "print(okt.morphs(빅통분)) "
   ]
  },
  {
   "cell_type": "code",
   "execution_count": null,
   "metadata": {},
   "outputs": [],
   "source": [
    "print(okt.pos(빅통분))"
   ]
  },
  {
   "cell_type": "code",
   "execution_count": null,
   "metadata": {},
   "outputs": [],
   "source": [
    "print(okt.nouns(빅통분))"
   ]
  },
  {
   "cell_type": "code",
   "execution_count": null,
   "metadata": {},
   "outputs": [],
   "source": [
    "## koNLPy의 형태소 분석기와 NLTK의 Text 클래스를 결합하여 NLTK 기능을 사용\n",
    "from nltk import Text"
   ]
  },
  {
   "cell_type": "code",
   "execution_count": null,
   "metadata": {},
   "outputs": [],
   "source": [
    "기미독립선언 = Text(okt.nouns(독립선언))\n",
    "기미독립선언.plot(10)\n",
    "plt.show()"
   ]
  },
  {
   "cell_type": "code",
   "execution_count": null,
   "metadata": {},
   "outputs": [],
   "source": [
    "독립선언구름 = WordCloud(font_path=폰트위치)\n",
    "plt.figure(figsize=(13,13))\n",
    "plt.imshow(독립선언구름.generate_from_frequencies(기미독립선언.vocab()))\n",
    "plt.axis(\"off\")\n",
    "plt.show()"
   ]
  },
  {
   "cell_type": "code",
   "execution_count": null,
   "metadata": {},
   "outputs": [],
   "source": [
    "import numpy as np\n",
    "from PIL import Image\n",
    "\n",
    "바탕그림 = np.array(Image.open(\"한반도기.jpg\"))"
   ]
  },
  {
   "cell_type": "code",
   "execution_count": null,
   "metadata": {},
   "outputs": [],
   "source": [
    "plt.figure(figsize=(13,11))\n",
    "plt.imshow(바탕그림,cmap=plt.cm.gray,interpolation='bilinear')\n",
    "plt.axis(\"off\")\n",
    "plt.show()"
   ]
  },
  {
   "cell_type": "code",
   "execution_count": null,
   "metadata": {},
   "outputs": [],
   "source": [
    "독립선언구름 = WordCloud(background_color=\"white\",mask=바탕그림, font_path=폰트위치)\n",
    "plt.figure(figsize=(13,13))\n",
    "plt.imshow(독립선언구름.generate_from_frequencies(기미독립선언.vocab()))\n",
    "plt.axis(\"off\")\n",
    "plt.show()"
   ]
  },
  {
   "cell_type": "code",
   "execution_count": null,
   "metadata": {},
   "outputs": [],
   "source": [
    "독립선언구름 = WordCloud(background_color=\"white\",mask=바탕그림, font_path=폰트위치)\n",
    "plt.figure(figsize=(13,13))\n",
    "plt.imshow(독립선언구름.generate_from_frequencies(기미독립선언.vocab()))\n",
    "plt.axis(\"off\")\n",
    "plt.savefig(\"Korea.jpg\")"
   ]
  },
  {
   "cell_type": "code",
   "execution_count": null,
   "metadata": {},
   "outputs": [],
   "source": []
  }
 ],
 "metadata": {
  "kernelspec": {
   "display_name": "Python 3 (ipykernel)",
   "language": "python",
   "name": "python3"
  },
  "language_info": {
   "codemirror_mode": {
    "name": "ipython",
    "version": 3
   },
   "file_extension": ".py",
   "mimetype": "text/x-python",
   "name": "python",
   "nbconvert_exporter": "python",
   "pygments_lexer": "ipython3",
   "version": "3.8.10"
  }
 },
 "nbformat": 4,
 "nbformat_minor": 2
}
