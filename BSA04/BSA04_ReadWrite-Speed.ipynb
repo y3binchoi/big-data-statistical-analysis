{
 "cells": [
  {
   "cell_type": "code",
   "execution_count": 1,
   "id": "79787d2c",
   "metadata": {},
   "outputs": [],
   "source": [
    "import numpy as np\n",
    "import pandas as pd"
   ]
  },
  {
   "cell_type": "code",
   "execution_count": 2,
   "id": "eabdcdb5",
   "metadata": {},
   "outputs": [],
   "source": [
    "pd.options.display.float_format = '{:,.4f}'.format"
   ]
  },
  {
   "cell_type": "code",
   "execution_count": 5,
   "id": "bec3876f",
   "metadata": {},
   "outputs": [
    {
     "data": {
      "text/html": [
       "<div>\n",
       "<style scoped>\n",
       "    .dataframe tbody tr th:only-of-type {\n",
       "        vertical-align: middle;\n",
       "    }\n",
       "\n",
       "    .dataframe tbody tr th {\n",
       "        vertical-align: top;\n",
       "    }\n",
       "\n",
       "    .dataframe thead th {\n",
       "        text-align: right;\n",
       "    }\n",
       "</style>\n",
       "<table border=\"1\" class=\"dataframe\">\n",
       "  <thead>\n",
       "    <tr style=\"text-align: right;\">\n",
       "      <th></th>\n",
       "      <th>0</th>\n",
       "      <th>1</th>\n",
       "      <th>2</th>\n",
       "      <th>3</th>\n",
       "      <th>4</th>\n",
       "      <th>5</th>\n",
       "      <th>6</th>\n",
       "      <th>7</th>\n",
       "      <th>8</th>\n",
       "      <th>9</th>\n",
       "    </tr>\n",
       "  </thead>\n",
       "  <tbody>\n",
       "    <tr>\n",
       "      <th>0</th>\n",
       "      <td>0.5385</td>\n",
       "      <td>0.3704</td>\n",
       "      <td>0.9247</td>\n",
       "      <td>0.9073</td>\n",
       "      <td>0.1803</td>\n",
       "      <td>0.6831</td>\n",
       "      <td>0.4466</td>\n",
       "      <td>0.3691</td>\n",
       "      <td>0.8609</td>\n",
       "      <td>0.8697</td>\n",
       "    </tr>\n",
       "    <tr>\n",
       "      <th>1</th>\n",
       "      <td>0.0398</td>\n",
       "      <td>0.3301</td>\n",
       "      <td>0.4311</td>\n",
       "      <td>0.4759</td>\n",
       "      <td>0.6416</td>\n",
       "      <td>0.8858</td>\n",
       "      <td>0.0585</td>\n",
       "      <td>0.7372</td>\n",
       "      <td>0.8025</td>\n",
       "      <td>0.6372</td>\n",
       "    </tr>\n",
       "    <tr>\n",
       "      <th>2</th>\n",
       "      <td>0.5252</td>\n",
       "      <td>0.2025</td>\n",
       "      <td>0.3957</td>\n",
       "      <td>0.2358</td>\n",
       "      <td>0.7708</td>\n",
       "      <td>0.9113</td>\n",
       "      <td>0.8728</td>\n",
       "      <td>0.3462</td>\n",
       "      <td>0.9892</td>\n",
       "      <td>0.2890</td>\n",
       "    </tr>\n",
       "    <tr>\n",
       "      <th>3</th>\n",
       "      <td>0.1956</td>\n",
       "      <td>0.4016</td>\n",
       "      <td>0.2087</td>\n",
       "      <td>0.8256</td>\n",
       "      <td>0.5733</td>\n",
       "      <td>0.0593</td>\n",
       "      <td>0.5913</td>\n",
       "      <td>0.2617</td>\n",
       "      <td>0.3520</td>\n",
       "      <td>0.8141</td>\n",
       "    </tr>\n",
       "    <tr>\n",
       "      <th>4</th>\n",
       "      <td>0.2254</td>\n",
       "      <td>0.3948</td>\n",
       "      <td>0.1773</td>\n",
       "      <td>0.9609</td>\n",
       "      <td>0.6844</td>\n",
       "      <td>0.1102</td>\n",
       "      <td>0.6007</td>\n",
       "      <td>0.2121</td>\n",
       "      <td>0.9512</td>\n",
       "      <td>0.5529</td>\n",
       "    </tr>\n",
       "    <tr>\n",
       "      <th>...</th>\n",
       "      <td>...</td>\n",
       "      <td>...</td>\n",
       "      <td>...</td>\n",
       "      <td>...</td>\n",
       "      <td>...</td>\n",
       "      <td>...</td>\n",
       "      <td>...</td>\n",
       "      <td>...</td>\n",
       "      <td>...</td>\n",
       "      <td>...</td>\n",
       "    </tr>\n",
       "    <tr>\n",
       "      <th>99995</th>\n",
       "      <td>0.1085</td>\n",
       "      <td>0.5188</td>\n",
       "      <td>0.5024</td>\n",
       "      <td>0.3032</td>\n",
       "      <td>0.0115</td>\n",
       "      <td>0.2892</td>\n",
       "      <td>0.5133</td>\n",
       "      <td>0.2652</td>\n",
       "      <td>0.2126</td>\n",
       "      <td>0.8169</td>\n",
       "    </tr>\n",
       "    <tr>\n",
       "      <th>99996</th>\n",
       "      <td>0.5581</td>\n",
       "      <td>0.6223</td>\n",
       "      <td>0.7658</td>\n",
       "      <td>0.8865</td>\n",
       "      <td>0.1853</td>\n",
       "      <td>0.6950</td>\n",
       "      <td>0.9083</td>\n",
       "      <td>0.2327</td>\n",
       "      <td>0.8581</td>\n",
       "      <td>0.1195</td>\n",
       "    </tr>\n",
       "    <tr>\n",
       "      <th>99997</th>\n",
       "      <td>0.5309</td>\n",
       "      <td>0.2676</td>\n",
       "      <td>0.9231</td>\n",
       "      <td>0.0976</td>\n",
       "      <td>0.7808</td>\n",
       "      <td>0.7505</td>\n",
       "      <td>0.5773</td>\n",
       "      <td>0.7956</td>\n",
       "      <td>0.9689</td>\n",
       "      <td>0.3420</td>\n",
       "    </tr>\n",
       "    <tr>\n",
       "      <th>99998</th>\n",
       "      <td>0.6351</td>\n",
       "      <td>0.7411</td>\n",
       "      <td>0.5943</td>\n",
       "      <td>0.4028</td>\n",
       "      <td>0.4302</td>\n",
       "      <td>0.8472</td>\n",
       "      <td>0.7318</td>\n",
       "      <td>0.9690</td>\n",
       "      <td>0.0037</td>\n",
       "      <td>0.8796</td>\n",
       "    </tr>\n",
       "    <tr>\n",
       "      <th>99999</th>\n",
       "      <td>0.9805</td>\n",
       "      <td>0.9266</td>\n",
       "      <td>0.4662</td>\n",
       "      <td>0.5257</td>\n",
       "      <td>0.0499</td>\n",
       "      <td>0.3219</td>\n",
       "      <td>0.3080</td>\n",
       "      <td>0.2724</td>\n",
       "      <td>0.6924</td>\n",
       "      <td>0.0429</td>\n",
       "    </tr>\n",
       "  </tbody>\n",
       "</table>\n",
       "<p>100000 rows × 10 columns</p>\n",
       "</div>"
      ],
      "text/plain": [
       "           0      1      2      3      4      5      6      7      8      9\n",
       "0     0.5385 0.3704 0.9247 0.9073 0.1803 0.6831 0.4466 0.3691 0.8609 0.8697\n",
       "1     0.0398 0.3301 0.4311 0.4759 0.6416 0.8858 0.0585 0.7372 0.8025 0.6372\n",
       "2     0.5252 0.2025 0.3957 0.2358 0.7708 0.9113 0.8728 0.3462 0.9892 0.2890\n",
       "3     0.1956 0.4016 0.2087 0.8256 0.5733 0.0593 0.5913 0.2617 0.3520 0.8141\n",
       "4     0.2254 0.3948 0.1773 0.9609 0.6844 0.1102 0.6007 0.2121 0.9512 0.5529\n",
       "...      ...    ...    ...    ...    ...    ...    ...    ...    ...    ...\n",
       "99995 0.1085 0.5188 0.5024 0.3032 0.0115 0.2892 0.5133 0.2652 0.2126 0.8169\n",
       "99996 0.5581 0.6223 0.7658 0.8865 0.1853 0.6950 0.9083 0.2327 0.8581 0.1195\n",
       "99997 0.5309 0.2676 0.9231 0.0976 0.7808 0.7505 0.5773 0.7956 0.9689 0.3420\n",
       "99998 0.6351 0.7411 0.5943 0.4028 0.4302 0.8472 0.7318 0.9690 0.0037 0.8796\n",
       "99999 0.9805 0.9266 0.4662 0.5257 0.0499 0.3219 0.3080 0.2724 0.6924 0.0429\n",
       "\n",
       "[100000 rows x 10 columns]"
      ]
     },
     "execution_count": 5,
     "metadata": {},
     "output_type": "execute_result"
    }
   ],
   "source": [
    "# random 100,000 개의 관측개체 \n",
    "# 10 변수\n",
    "난수개수 = 100000\n",
    "변수개수 = 10\n",
    "values = np.random.random((난수개수, 변수개수))\n",
    "df = pd.DataFrame(values)\n",
    "df"
   ]
  },
  {
   "cell_type": "code",
   "execution_count": 6,
   "id": "063d5567",
   "metadata": {},
   "outputs": [],
   "source": [
    "# pandas dataframe"
   ]
  },
  {
   "cell_type": "code",
   "execution_count": 7,
   "id": "100cab45",
   "metadata": {},
   "outputs": [
    {
     "name": "stdout",
     "output_type": "stream",
     "text": [
      "<class 'pandas.core.frame.DataFrame'>\n",
      "RangeIndex: 100000 entries, 0 to 99999\n",
      "Data columns (total 10 columns):\n",
      " #   Column  Non-Null Count   Dtype  \n",
      "---  ------  --------------   -----  \n",
      " 0   A       100000 non-null  float64\n",
      " 1   B       100000 non-null  float64\n",
      " 2   C       100000 non-null  float64\n",
      " 3   D       100000 non-null  float64\n",
      " 4   E       100000 non-null  float64\n",
      " 5   F       100000 non-null  float64\n",
      " 6   G       100000 non-null  float64\n",
      " 7   H       100000 non-null  float64\n",
      " 8   I       100000 non-null  float64\n",
      " 9   J       100000 non-null  float64\n",
      "dtypes: float64(10)\n",
      "memory usage: 7.6 MB\n"
     ]
    }
   ],
   "source": [
    "df.columns = [\"A\",\"B\",\"C\",\"D\",\"E\",\"F\",\"G\",\"H\",\"I\",\"J\"]\n",
    "df.info()"
   ]
  },
  {
   "cell_type": "code",
   "execution_count": 8,
   "id": "9da0c05c",
   "metadata": {},
   "outputs": [],
   "source": [
    "test = df.head(n=10)"
   ]
  },
  {
   "cell_type": "code",
   "execution_count": 11,
   "id": "1b02ad2e",
   "metadata": {},
   "outputs": [
    {
     "data": {
      "text/html": [
       "<div>\n",
       "<style scoped>\n",
       "    .dataframe tbody tr th:only-of-type {\n",
       "        vertical-align: middle;\n",
       "    }\n",
       "\n",
       "    .dataframe tbody tr th {\n",
       "        vertical-align: top;\n",
       "    }\n",
       "\n",
       "    .dataframe thead th {\n",
       "        text-align: right;\n",
       "    }\n",
       "</style>\n",
       "<table border=\"1\" class=\"dataframe\">\n",
       "  <thead>\n",
       "    <tr style=\"text-align: right;\">\n",
       "      <th></th>\n",
       "      <th>A</th>\n",
       "      <th>B</th>\n",
       "      <th>C</th>\n",
       "      <th>D</th>\n",
       "      <th>E</th>\n",
       "      <th>F</th>\n",
       "      <th>G</th>\n",
       "      <th>H</th>\n",
       "      <th>I</th>\n",
       "      <th>J</th>\n",
       "    </tr>\n",
       "  </thead>\n",
       "  <tbody>\n",
       "    <tr>\n",
       "      <th>5</th>\n",
       "      <td>0.2658</td>\n",
       "      <td>0.6828</td>\n",
       "      <td>0.1090</td>\n",
       "      <td>0.9579</td>\n",
       "      <td>0.0709</td>\n",
       "      <td>0.2120</td>\n",
       "      <td>0.0152</td>\n",
       "      <td>0.7773</td>\n",
       "      <td>0.1271</td>\n",
       "      <td>0.2300</td>\n",
       "    </tr>\n",
       "    <tr>\n",
       "      <th>6</th>\n",
       "      <td>0.9935</td>\n",
       "      <td>0.5435</td>\n",
       "      <td>0.9430</td>\n",
       "      <td>0.4034</td>\n",
       "      <td>0.3197</td>\n",
       "      <td>0.4420</td>\n",
       "      <td>0.7517</td>\n",
       "      <td>0.3066</td>\n",
       "      <td>0.6515</td>\n",
       "      <td>0.7786</td>\n",
       "    </tr>\n",
       "    <tr>\n",
       "      <th>7</th>\n",
       "      <td>0.1918</td>\n",
       "      <td>0.1600</td>\n",
       "      <td>0.9348</td>\n",
       "      <td>0.6000</td>\n",
       "      <td>0.5524</td>\n",
       "      <td>0.7996</td>\n",
       "      <td>0.8843</td>\n",
       "      <td>0.8396</td>\n",
       "      <td>0.3019</td>\n",
       "      <td>0.0606</td>\n",
       "    </tr>\n",
       "    <tr>\n",
       "      <th>8</th>\n",
       "      <td>0.2711</td>\n",
       "      <td>0.1353</td>\n",
       "      <td>0.6824</td>\n",
       "      <td>0.7190</td>\n",
       "      <td>0.2548</td>\n",
       "      <td>0.0573</td>\n",
       "      <td>0.8174</td>\n",
       "      <td>0.0526</td>\n",
       "      <td>0.6485</td>\n",
       "      <td>0.3250</td>\n",
       "    </tr>\n",
       "    <tr>\n",
       "      <th>9</th>\n",
       "      <td>0.8514</td>\n",
       "      <td>0.5542</td>\n",
       "      <td>0.2063</td>\n",
       "      <td>0.5873</td>\n",
       "      <td>0.4901</td>\n",
       "      <td>0.2280</td>\n",
       "      <td>0.9449</td>\n",
       "      <td>0.3165</td>\n",
       "      <td>0.3662</td>\n",
       "      <td>0.2259</td>\n",
       "    </tr>\n",
       "  </tbody>\n",
       "</table>\n",
       "</div>"
      ],
      "text/plain": [
       "       A      B      C      D      E      F      G      H      I      J\n",
       "5 0.2658 0.6828 0.1090 0.9579 0.0709 0.2120 0.0152 0.7773 0.1271 0.2300\n",
       "6 0.9935 0.5435 0.9430 0.4034 0.3197 0.4420 0.7517 0.3066 0.6515 0.7786\n",
       "7 0.1918 0.1600 0.9348 0.6000 0.5524 0.7996 0.8843 0.8396 0.3019 0.0606\n",
       "8 0.2711 0.1353 0.6824 0.7190 0.2548 0.0573 0.8174 0.0526 0.6485 0.3250\n",
       "9 0.8514 0.5542 0.2063 0.5873 0.4901 0.2280 0.9449 0.3165 0.3662 0.2259"
      ]
     },
     "execution_count": 11,
     "metadata": {},
     "output_type": "execute_result"
    }
   ],
   "source": [
    "test.tail() # 10개 중 뒤의 5개"
   ]
  },
  {
   "cell_type": "code",
   "execution_count": 12,
   "id": "9eb0edaf",
   "metadata": {},
   "outputs": [
    {
     "name": "stdout",
     "output_type": "stream",
     "text": [
      "Collecting openpyxl\n",
      "  Downloading openpyxl-3.1.2-py2.py3-none-any.whl (249 kB)\n",
      "     ---------------------------------------- 0.0/250.0 kB ? eta -:--:--\n",
      "     ------------------------------------- 250.0/250.0 kB 15.0 MB/s eta 0:00:00\n",
      "Collecting et-xmlfile\n",
      "  Downloading et_xmlfile-1.1.0-py3-none-any.whl (4.7 kB)\n",
      "Installing collected packages: et-xmlfile, openpyxl\n",
      "Successfully installed et-xmlfile-1.1.0 openpyxl-3.1.2\n"
     ]
    }
   ],
   "source": [
    "!pip install openpyxl"
   ]
  },
  {
   "cell_type": "code",
   "execution_count": 13,
   "id": "d0b215fd",
   "metadata": {},
   "outputs": [
    {
     "data": {
      "text/html": [
       "<div>\n",
       "<style scoped>\n",
       "    .dataframe tbody tr th:only-of-type {\n",
       "        vertical-align: middle;\n",
       "    }\n",
       "\n",
       "    .dataframe tbody tr th {\n",
       "        vertical-align: top;\n",
       "    }\n",
       "\n",
       "    .dataframe thead th {\n",
       "        text-align: right;\n",
       "    }\n",
       "</style>\n",
       "<table border=\"1\" class=\"dataframe\">\n",
       "  <thead>\n",
       "    <tr style=\"text-align: right;\">\n",
       "      <th></th>\n",
       "      <th>read</th>\n",
       "      <th>write</th>\n",
       "    </tr>\n",
       "  </thead>\n",
       "  <tbody>\n",
       "  </tbody>\n",
       "</table>\n",
       "</div>"
      ],
      "text/plain": [
       "Empty DataFrame\n",
       "Columns: [read, write]\n",
       "Index: []"
      ]
     },
     "execution_count": 13,
     "metadata": {},
     "output_type": "execute_result"
    }
   ],
   "source": [
    "# empty frame\n",
    "df_result = pd.DataFrame(columns=['read','write'])\n",
    "df_result.head()"
   ]
  },
  {
   "cell_type": "code",
   "execution_count": 14,
   "id": "e748c77c",
   "metadata": {},
   "outputs": [
    {
     "ename": "SyntaxError",
     "evalue": "cannot assign to function call (1296529947.py, line 3)",
     "output_type": "error",
     "traceback": [
      "\u001b[1;36m  Cell \u001b[1;32mIn[14], line 3\u001b[1;36m\u001b[0m\n\u001b[1;33m    df_result.loc(['excel', 'write']) = tm.best\u001b[0m\n\u001b[1;37m    ^\u001b[0m\n\u001b[1;31mSyntaxError\u001b[0m\u001b[1;31m:\u001b[0m cannot assign to function call\n"
     ]
    }
   ],
   "source": [
    "#Excel\n",
    "# tm = %timeit -o df.to_excel('test_data.xlsx')\n",
    "# df_result.loc['excel', 'write'] = tm.best\n",
    "# tm = %timeit -o df= pd.read_excel('test_data.xlsx')\n",
    "# df_result.loc['excel', 'read'] = tm.best\n",
    "# 오래걸리니까 실행 x"
   ]
  },
  {
   "cell_type": "code",
   "execution_count": 15,
   "id": "850c4b19",
   "metadata": {},
   "outputs": [
    {
     "name": "stdout",
     "output_type": "stream",
     "text": [
      "653 ms ± 19.1 ms per loop (mean ± std. dev. of 7 runs, 1 loop each)\n",
      "99.1 ms ± 2.65 ms per loop (mean ± std. dev. of 7 runs, 10 loops each)\n"
     ]
    }
   ],
   "source": [
    "# CSV\n",
    "tm = %timeit -o df.to_csv('test_data.csv')\n",
    "df_result.loc['csv', 'write'] = tm.best\n",
    "tm = %timeit -o pd.read_csv('test_data.csv')\n",
    "df_result.loc['csv', 'read'] = tm.best"
   ]
  },
  {
   "cell_type": "code",
   "execution_count": 16,
   "id": "6d6ae232",
   "metadata": {},
   "outputs": [
    {
     "name": "stdout",
     "output_type": "stream",
     "text": [
      "1.59 ms ± 44.9 µs per loop (mean ± std. dev. of 7 runs, 1,000 loops each)\n",
      "2.36 ms ± 301 µs per loop (mean ± std. dev. of 7 runs, 100 loops each)\n"
     ]
    }
   ],
   "source": [
    "# pickle\n",
    "tm = %timeit -o df.to_pickle('test_data.pickle')\n",
    "df_result.loc['pickle', 'write'] = tm.best\n",
    "tm = %timeit -o pd.read_pickle('test_data.pickle')\n",
    "df_result.loc['pickle', 'read'] = tm.best"
   ]
  },
  {
   "cell_type": "code",
   "execution_count": 17,
   "id": "56827e1e",
   "metadata": {},
   "outputs": [
    {
     "name": "stdout",
     "output_type": "stream",
     "text": [
      "5.61 ms ± 160 µs per loop (mean ± std. dev. of 7 runs, 100 loops each)\n",
      "4.85 ms ± 130 µs per loop (mean ± std. dev. of 7 runs, 100 loops each)\n"
     ]
    }
   ],
   "source": [
    "# feather\n",
    "tm = %timeit -o df.to_feather('test_data.ftr')\n",
    "df_result.loc['feather', 'write'] = tm.best\n",
    "tm = %timeit -o pd.read_feather('test_data.ftr')\n",
    "df_result.loc['feather', 'read'] = tm.best"
   ]
  },
  {
   "cell_type": "code",
   "execution_count": 20,
   "id": "67f448e2",
   "metadata": {},
   "outputs": [
    {
     "name": "stdout",
     "output_type": "stream",
     "text": [
      "52.6 ms ± 982 µs per loop (mean ± std. dev. of 7 runs, 10 loops each)\n",
      "7.23 ms ± 78 µs per loop (mean ± std. dev. of 7 runs, 100 loops each)\n"
     ]
    }
   ],
   "source": [
    "# Parquet 파케이\n",
    "tm = %timeit -o df.to_parquet('test_data.parquet')\n",
    "df_result.loc['parquet', 'write'] = tm.best\n",
    "tm = %timeit -o pd.read_parquet('test_data.parquet')\n",
    "df_result.loc['parquet', 'read'] = tm.best"
   ]
  },
  {
   "cell_type": "code",
   "execution_count": null,
   "id": "704e3673",
   "metadata": {},
   "outputs": [],
   "source": [
    "# spark\n",
    "## 한글이 포함된 데이터 Employee.csv"
   ]
  }
 ],
 "metadata": {
  "kernelspec": {
   "display_name": "Python 3 (ipykernel)",
   "language": "python",
   "name": "python3"
  },
  "language_info": {
   "codemirror_mode": {
    "name": "ipython",
    "version": 3
   },
   "file_extension": ".py",
   "mimetype": "text/x-python",
   "name": "python",
   "nbconvert_exporter": "python",
   "pygments_lexer": "ipython3",
   "version": "3.9.13"
  }
 },
 "nbformat": 4,
 "nbformat_minor": 5
}
