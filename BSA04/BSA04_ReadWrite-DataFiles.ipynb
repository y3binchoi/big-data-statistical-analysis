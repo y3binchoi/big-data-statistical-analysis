{
 "cells": [
  {
   "cell_type": "markdown",
   "id": "46295b85",
   "metadata": {},
   "source": [
    "### Set up the environment variables for Pyspark, Java, Spark, and python\n",
    "- 오류 발생 시\n",
    "- 이미 환경변수 설정 했기 때문에 실행 x"
   ]
  },
  {
   "cell_type": "code",
   "execution_count": null,
   "id": "c13de822",
   "metadata": {},
   "outputs": [],
   "source": [
    "import os\n",
    "import sys\n",
    "os.environ['JAVA_HOME'] = \"C:\\Java\"\n",
    "os.environ['SPARK_HOME'] = \"C:\\spark-3.2.3\"\n",
    "os.environ['PYLIB'] = \"C:\\spark-3.2.3\\python\\lib\"\n",
    "sys.path.insert(0,os.environ['PYLIB']+\"\\py4j-0.10.9.5-src.zip\")\n",
    "sys.path.insert(0,os.environ['PYLIB']+\"\\pyspark.zip\")"
   ]
  },
  {
   "cell_type": "markdown",
   "id": "75561a60",
   "metadata": {},
   "source": [
    "#### Employee.csv\n",
    "- 한글포함\n",
    "- ANSI 형식으로 encoding"
   ]
  },
  {
   "cell_type": "code",
   "execution_count": 2,
   "id": "242c3363",
   "metadata": {},
   "outputs": [],
   "source": [
    "import pyspark\n",
    "import pandas as pd"
   ]
  },
  {
   "cell_type": "code",
   "execution_count": 3,
   "id": "1eab450d",
   "metadata": {},
   "outputs": [
    {
     "data": {
      "text/html": [
       "<div>\n",
       "<style scoped>\n",
       "    .dataframe tbody tr th:only-of-type {\n",
       "        vertical-align: middle;\n",
       "    }\n",
       "\n",
       "    .dataframe tbody tr th {\n",
       "        vertical-align: top;\n",
       "    }\n",
       "\n",
       "    .dataframe thead th {\n",
       "        text-align: right;\n",
       "    }\n",
       "</style>\n",
       "<table border=\"1\" class=\"dataframe\">\n",
       "  <thead>\n",
       "    <tr style=\"text-align: right;\">\n",
       "      <th></th>\n",
       "      <th>id</th>\n",
       "      <th>gender</th>\n",
       "      <th>educ</th>\n",
       "      <th>jobcat</th>\n",
       "      <th>salary</th>\n",
       "      <th>salbegin</th>\n",
       "      <th>jobtime</th>\n",
       "      <th>prevexp</th>\n",
       "      <th>minority</th>\n",
       "    </tr>\n",
       "  </thead>\n",
       "  <tbody>\n",
       "    <tr>\n",
       "      <th>0</th>\n",
       "      <td>1</td>\n",
       "      <td>남성</td>\n",
       "      <td>15</td>\n",
       "      <td>경영자</td>\n",
       "      <td>57000.0</td>\n",
       "      <td>27000</td>\n",
       "      <td>98</td>\n",
       "      <td>144</td>\n",
       "      <td>No</td>\n",
       "    </tr>\n",
       "    <tr>\n",
       "      <th>1</th>\n",
       "      <td>2</td>\n",
       "      <td>남성</td>\n",
       "      <td>16</td>\n",
       "      <td>사무직</td>\n",
       "      <td>40200.0</td>\n",
       "      <td>18750</td>\n",
       "      <td>98</td>\n",
       "      <td>36</td>\n",
       "      <td>No</td>\n",
       "    </tr>\n",
       "    <tr>\n",
       "      <th>2</th>\n",
       "      <td>3</td>\n",
       "      <td>여성</td>\n",
       "      <td>12</td>\n",
       "      <td>사무직</td>\n",
       "      <td>21450.0</td>\n",
       "      <td>12000</td>\n",
       "      <td>98</td>\n",
       "      <td>381</td>\n",
       "      <td>No</td>\n",
       "    </tr>\n",
       "    <tr>\n",
       "      <th>3</th>\n",
       "      <td>4</td>\n",
       "      <td>여성</td>\n",
       "      <td>8</td>\n",
       "      <td>사무직</td>\n",
       "      <td>21900.0</td>\n",
       "      <td>13200</td>\n",
       "      <td>98</td>\n",
       "      <td>190</td>\n",
       "      <td>No</td>\n",
       "    </tr>\n",
       "    <tr>\n",
       "      <th>4</th>\n",
       "      <td>5</td>\n",
       "      <td>남성</td>\n",
       "      <td>15</td>\n",
       "      <td>사무직</td>\n",
       "      <td>45000.0</td>\n",
       "      <td>21000</td>\n",
       "      <td>98</td>\n",
       "      <td>138</td>\n",
       "      <td>No</td>\n",
       "    </tr>\n",
       "    <tr>\n",
       "      <th>...</th>\n",
       "      <td>...</td>\n",
       "      <td>...</td>\n",
       "      <td>...</td>\n",
       "      <td>...</td>\n",
       "      <td>...</td>\n",
       "      <td>...</td>\n",
       "      <td>...</td>\n",
       "      <td>...</td>\n",
       "      <td>...</td>\n",
       "    </tr>\n",
       "    <tr>\n",
       "      <th>469</th>\n",
       "      <td>470</td>\n",
       "      <td>남성</td>\n",
       "      <td>12</td>\n",
       "      <td>사무직</td>\n",
       "      <td>26250.0</td>\n",
       "      <td>15750</td>\n",
       "      <td>64</td>\n",
       "      <td>69</td>\n",
       "      <td>Yes</td>\n",
       "    </tr>\n",
       "    <tr>\n",
       "      <th>470</th>\n",
       "      <td>471</td>\n",
       "      <td>남성</td>\n",
       "      <td>15</td>\n",
       "      <td>사무직</td>\n",
       "      <td>26400.0</td>\n",
       "      <td>15750</td>\n",
       "      <td>64</td>\n",
       "      <td>32</td>\n",
       "      <td>Yes</td>\n",
       "    </tr>\n",
       "    <tr>\n",
       "      <th>471</th>\n",
       "      <td>472</td>\n",
       "      <td>남성</td>\n",
       "      <td>15</td>\n",
       "      <td>사무직</td>\n",
       "      <td>39150.0</td>\n",
       "      <td>15750</td>\n",
       "      <td>63</td>\n",
       "      <td>46</td>\n",
       "      <td>No</td>\n",
       "    </tr>\n",
       "    <tr>\n",
       "      <th>472</th>\n",
       "      <td>473</td>\n",
       "      <td>여성</td>\n",
       "      <td>12</td>\n",
       "      <td>사무직</td>\n",
       "      <td>21450.0</td>\n",
       "      <td>12750</td>\n",
       "      <td>63</td>\n",
       "      <td>139</td>\n",
       "      <td>No</td>\n",
       "    </tr>\n",
       "    <tr>\n",
       "      <th>473</th>\n",
       "      <td>474</td>\n",
       "      <td>여성</td>\n",
       "      <td>12</td>\n",
       "      <td>사무직</td>\n",
       "      <td>29400.0</td>\n",
       "      <td>14250</td>\n",
       "      <td>63</td>\n",
       "      <td>9</td>\n",
       "      <td>No</td>\n",
       "    </tr>\n",
       "  </tbody>\n",
       "</table>\n",
       "<p>474 rows × 9 columns</p>\n",
       "</div>"
      ],
      "text/plain": [
       "      id gender  educ jobcat   salary  salbegin  jobtime  prevexp minority\n",
       "0      1     남성    15    경영자  57000.0     27000       98      144       No\n",
       "1      2     남성    16    사무직  40200.0     18750       98       36       No\n",
       "2      3     여성    12    사무직  21450.0     12000       98      381       No\n",
       "3      4     여성     8    사무직  21900.0     13200       98      190       No\n",
       "4      5     남성    15    사무직  45000.0     21000       98      138       No\n",
       "..   ...    ...   ...    ...      ...       ...      ...      ...      ...\n",
       "469  470     남성    12    사무직  26250.0     15750       64       69      Yes\n",
       "470  471     남성    15    사무직  26400.0     15750       64       32      Yes\n",
       "471  472     남성    15    사무직  39150.0     15750       63       46       No\n",
       "472  473     여성    12    사무직  21450.0     12750       63      139       No\n",
       "473  474     여성    12    사무직  29400.0     14250       63        9       No\n",
       "\n",
       "[474 rows x 9 columns]"
      ]
     },
     "execution_count": 3,
     "metadata": {},
     "output_type": "execute_result"
    }
   ],
   "source": [
    "pandasDF = pd.read_csv(\"Employee.csv\",encoding=\"ansi\")\n",
    "pandasDF"
   ]
  },
  {
   "cell_type": "markdown",
   "id": "8ce236f0",
   "metadata": {},
   "source": [
    "spark data 만들기"
   ]
  },
  {
   "cell_type": "code",
   "execution_count": 4,
   "id": "a85f947c",
   "metadata": {},
   "outputs": [],
   "source": [
    "from pyspark.sql import SparkSession"
   ]
  },
  {
   "cell_type": "code",
   "execution_count": 5,
   "id": "9c41f0f2",
   "metadata": {},
   "outputs": [],
   "source": [
    "스파크 = SparkSession.builder.appName('Test').getOrCreate()"
   ]
  },
  {
   "cell_type": "code",
   "execution_count": 6,
   "id": "e1b966de",
   "metadata": {},
   "outputs": [
    {
     "data": {
      "text/html": [
       "\n",
       "            <div>\n",
       "                <p><b>SparkSession - in-memory</b></p>\n",
       "                \n",
       "        <div>\n",
       "            <p><b>SparkContext</b></p>\n",
       "\n",
       "            <p><a href=\"http://BOOK-BTVAPP2IKK:4040\">Spark UI</a></p>\n",
       "\n",
       "            <dl>\n",
       "              <dt>Version</dt>\n",
       "                <dd><code>v3.2.3</code></dd>\n",
       "              <dt>Master</dt>\n",
       "                <dd><code>local[*]</code></dd>\n",
       "              <dt>AppName</dt>\n",
       "                <dd><code>Test</code></dd>\n",
       "            </dl>\n",
       "        </div>\n",
       "        \n",
       "            </div>\n",
       "        "
      ],
      "text/plain": [
       "<pyspark.sql.session.SparkSession at 0x1dfe9e88dc0>"
      ]
     },
     "execution_count": 6,
     "metadata": {},
     "output_type": "execute_result"
    }
   ],
   "source": [
    "스파크"
   ]
  },
  {
   "cell_type": "markdown",
   "id": "9d0bd60f",
   "metadata": {},
   "source": [
    "### 웹브라우저에서 localhost:4040 연결"
   ]
  },
  {
   "cell_type": "markdown",
   "id": "1cf3887c",
   "metadata": {},
   "source": [
    "### Pyspark에서 hdfs 데이터 불러오기\n",
    "Spark 경로를 찾지 못하는 경우\n",
    "```Python\n",
    "!pip install findspark\n",
    "import findspark\n",
    "import os\n",
    "findspark.find()\n",
    "findspark.init(os.environ.get(\"SPARK_HOME\"))\n",
    "```"
   ]
  },
  {
   "cell_type": "code",
   "execution_count": 7,
   "id": "235dab49",
   "metadata": {},
   "outputs": [
    {
     "name": "stdout",
     "output_type": "stream",
     "text": [
      "+---+------+----+------+------+--------+-------+-------+--------+\n",
      "|_c0|   _c1| _c2|   _c3|   _c4|     _c5|    _c6|    _c7|     _c8|\n",
      "+---+------+----+------+------+--------+-------+-------+--------+\n",
      "| id|gender|educ|jobcat|salary|salbegin|jobtime|prevexp|minority|\n",
      "|  1|  ����|  15| �濵��| 57000|   27000|     98|    144|      No|\n",
      "|  2|  ����|  16| �繫��| 40200|   18750|     98|     36|      No|\n",
      "|  3|  ����|  12| �繫��| 21450|   12000|     98|    381|      No|\n",
      "|  4|  ����|   8| �繫��| 21900|   13200|     98|    190|      No|\n",
      "|  5|  ����|  15| �繫��| 45000|   21000|     98|    138|      No|\n",
      "|  6|  ����|  15| �繫��| 32100|   13500|     98|     67|      No|\n",
      "|  7|  ����|  15| �繫��| 36000|   18750|     98|    114|      No|\n",
      "|  8|  ����|  12| �繫��| 21900|    9750|     98|      0|      No|\n",
      "|  9|  ����|  15| �繫��| 27900|   12750|     98|    115|      No|\n",
      "| 10|  ����|  12| �繫��| 24000|   13500|     98|    244|      No|\n",
      "| 11|  ����|  16| �繫��| 30300|   16500|     98|    143|      No|\n",
      "| 12|  ����|   8| �繫��| 28350|   12000|     98|     26|     Yes|\n",
      "| 13|  ����|  15| �繫��| 27750|   14250|     98|     34|     Yes|\n",
      "| 14|  ����|  15| �繫��| 35100|   16800|     98|    137|     Yes|\n",
      "| 15|  ����|  12| �繫��| 27300|   13500|     97|     66|      No|\n",
      "| 16|  ����|  12| �繫��| 40800|   15000|     97|     24|      No|\n",
      "| 17|  ����|  15| �繫��| 46000|   14250|     97|     48|      No|\n",
      "| 18|  ����|  16| �濵��|103750|   27510|     97|     70|      No|\n",
      "| 19|  ����|  12| �繫��| 42300|   14250|     97|    103|      No|\n",
      "+---+------+----+------+------+--------+-------+-------+--------+\n",
      "only showing top 20 rows\n",
      "\n"
     ]
    }
   ],
   "source": [
    "sparkDF = 스파크.read.csv(\"Employee.csv\")\n",
    "sparkDF.show()"
   ]
  },
  {
   "cell_type": "markdown",
   "id": "d1c1016c",
   "metadata": {},
   "source": [
    "# 컴퓨터 환경에 따른 실행 결과 차이\n",
    "\n",
    "CMD에서 start-dfs.cmd, start-yarn.cmd로 hadoop을 실행한 후 `hadoop fs -put Employee.csv spark_Employee.csv`가 바로 안되는 경우\n",
    "\n",
    "- put: `spark_Employee.csv': No such file or directory: `hdfs://localhost:9000/user/SM-PC/spark_Employee.csv'\n",
    "- 위와 같은 오류로 put이 안됨."
   ]
  },
  {
   "cell_type": "code",
   "execution_count": 9,
   "id": "2dbb21f3",
   "metadata": {},
   "outputs": [
    {
     "name": "stdout",
     "output_type": "stream",
     "text": [
      "+---+------+----+------+------+--------+-------+-------+--------+\n",
      "|_c0|   _c1| _c2|   _c3|   _c4|     _c5|    _c6|    _c7|     _c8|\n",
      "+---+------+----+------+------+--------+-------+-------+--------+\n",
      "| id|gender|educ|jobcat|salary|salbegin|jobtime|prevexp|minority|\n",
      "|  1|  ����|  15| �濵��| 57000|   27000|     98|    144|      No|\n",
      "|  2|  ����|  16| �繫��| 40200|   18750|     98|     36|      No|\n",
      "|  3|  ����|  12| �繫��| 21450|   12000|     98|    381|      No|\n",
      "|  4|  ����|   8| �繫��| 21900|   13200|     98|    190|      No|\n",
      "|  5|  ����|  15| �繫��| 45000|   21000|     98|    138|      No|\n",
      "|  6|  ����|  15| �繫��| 32100|   13500|     98|     67|      No|\n",
      "|  7|  ����|  15| �繫��| 36000|   18750|     98|    114|      No|\n",
      "|  8|  ����|  12| �繫��| 21900|    9750|     98|      0|      No|\n",
      "|  9|  ����|  15| �繫��| 27900|   12750|     98|    115|      No|\n",
      "| 10|  ����|  12| �繫��| 24000|   13500|     98|    244|      No|\n",
      "| 11|  ����|  16| �繫��| 30300|   16500|     98|    143|      No|\n",
      "| 12|  ����|   8| �繫��| 28350|   12000|     98|     26|     Yes|\n",
      "| 13|  ����|  15| �繫��| 27750|   14250|     98|     34|     Yes|\n",
      "| 14|  ����|  15| �繫��| 35100|   16800|     98|    137|     Yes|\n",
      "| 15|  ����|  12| �繫��| 27300|   13500|     97|     66|      No|\n",
      "| 16|  ����|  12| �繫��| 40800|   15000|     97|     24|      No|\n",
      "| 17|  ����|  15| �繫��| 46000|   14250|     97|     48|      No|\n",
      "| 18|  ����|  16| �濵��|103750|   27510|     97|     70|      No|\n",
      "| 19|  ����|  12| �繫��| 42300|   14250|     97|    103|      No|\n",
      "+---+------+----+------+------+--------+-------+-------+--------+\n",
      "only showing top 20 rows\n",
      "\n"
     ]
    }
   ],
   "source": [
    "# Hadoop 실행 후(stat-all.cmd)\n",
    "## CMD> hadoop fs -mkdir /Spark\n",
    "## CMD > hadoop fs -put Employee.csv /Spark/spark_Employee.csv\n",
    "\n",
    "sparkDF = 스파크.read.csv(\"hdfs://localhost:9000/Spark/spark_Employee.csv\")\n",
    "sparkDF.show()\n",
    "\n",
    "### 한글, 변수명(id)를 셀로 가져오는 문제"
   ]
  },
  {
   "cell_type": "code",
   "execution_count": 10,
   "id": "8594fa13",
   "metadata": {},
   "outputs": [
    {
     "data": {
      "text/plain": [
       "DataFrame[_c0: string, _c1: string, _c2: string, _c3: string, _c4: string, _c5: string, _c6: string, _c7: string, _c8: string]"
      ]
     },
     "execution_count": 10,
     "metadata": {},
     "output_type": "execute_result"
    }
   ],
   "source": [
    "# 한글 깨짐 해결\n",
    "## cp949가 어떤 것의 alias?\n",
    "sparkDF = 스파크.read.option('encoding','cp949').csv(\"hdfs://localhost:9000/Spark/spark_Employee.csv\")\n",
    "sparkDF # 형태를 보여줌"
   ]
  },
  {
   "cell_type": "code",
   "execution_count": 11,
   "id": "e9e415b8",
   "metadata": {},
   "outputs": [
    {
     "name": "stdout",
     "output_type": "stream",
     "text": [
      "+---+------+----+------+------+--------+-------+-------+--------+\n",
      "|_c0|   _c1| _c2|   _c3|   _c4|     _c5|    _c6|    _c7|     _c8|\n",
      "+---+------+----+------+------+--------+-------+-------+--------+\n",
      "| id|gender|educ|jobcat|salary|salbegin|jobtime|prevexp|minority|\n",
      "|  1|  남성|  15|경영자| 57000|   27000|     98|    144|      No|\n",
      "|  2|  남성|  16|사무직| 40200|   18750|     98|     36|      No|\n",
      "|  3|  여성|  12|사무직| 21450|   12000|     98|    381|      No|\n",
      "|  4|  여성|   8|사무직| 21900|   13200|     98|    190|      No|\n",
      "|  5|  남성|  15|사무직| 45000|   21000|     98|    138|      No|\n",
      "|  6|  남성|  15|사무직| 32100|   13500|     98|     67|      No|\n",
      "|  7|  남성|  15|사무직| 36000|   18750|     98|    114|      No|\n",
      "|  8|  여성|  12|사무직| 21900|    9750|     98|      0|      No|\n",
      "|  9|  여성|  15|사무직| 27900|   12750|     98|    115|      No|\n",
      "| 10|  여성|  12|사무직| 24000|   13500|     98|    244|      No|\n",
      "| 11|  여성|  16|사무직| 30300|   16500|     98|    143|      No|\n",
      "| 12|  남성|   8|사무직| 28350|   12000|     98|     26|     Yes|\n",
      "| 13|  남성|  15|사무직| 27750|   14250|     98|     34|     Yes|\n",
      "| 14|  여성|  15|사무직| 35100|   16800|     98|    137|     Yes|\n",
      "| 15|  남성|  12|사무직| 27300|   13500|     97|     66|      No|\n",
      "| 16|  남성|  12|사무직| 40800|   15000|     97|     24|      No|\n",
      "| 17|  남성|  15|사무직| 46000|   14250|     97|     48|      No|\n",
      "| 18|  남성|  16|경영자|103750|   27510|     97|     70|      No|\n",
      "| 19|  남성|  12|사무직| 42300|   14250|     97|    103|      No|\n",
      "+---+------+----+------+------+--------+-------+-------+--------+\n",
      "only showing top 20 rows\n",
      "\n"
     ]
    }
   ],
   "source": [
    "sparkDF.show()"
   ]
  },
  {
   "cell_type": "code",
   "execution_count": 12,
   "id": "d5c6f5fb",
   "metadata": {},
   "outputs": [],
   "source": [
    "# 헤더 지정\n",
    "sparkDF = 스파크.read.option('encoding','cp949').option('header','true').csv(\"hdfs://localhost:9000/Spark/spark_Employee.csv\")"
   ]
  },
  {
   "cell_type": "code",
   "execution_count": 13,
   "id": "a0b0dbab",
   "metadata": {},
   "outputs": [
    {
     "name": "stdout",
     "output_type": "stream",
     "text": [
      "+---+------+----+------+------+--------+-------+-------+--------+\n",
      "| id|gender|educ|jobcat|salary|salbegin|jobtime|prevexp|minority|\n",
      "+---+------+----+------+------+--------+-------+-------+--------+\n",
      "|  1|  남성|  15|경영자| 57000|   27000|     98|    144|      No|\n",
      "|  2|  남성|  16|사무직| 40200|   18750|     98|     36|      No|\n",
      "|  3|  여성|  12|사무직| 21450|   12000|     98|    381|      No|\n",
      "|  4|  여성|   8|사무직| 21900|   13200|     98|    190|      No|\n",
      "|  5|  남성|  15|사무직| 45000|   21000|     98|    138|      No|\n",
      "+---+------+----+------+------+--------+-------+-------+--------+\n",
      "only showing top 5 rows\n",
      "\n"
     ]
    }
   ],
   "source": [
    "sparkDF.show(5)  # 데이터를 보고싶을 때 spark dataframe에서 .show()"
   ]
  },
  {
   "cell_type": "code",
   "execution_count": 14,
   "id": "de839757",
   "metadata": {},
   "outputs": [
    {
     "data": {
      "text/plain": [
       "pyspark.sql.dataframe.DataFrame"
      ]
     },
     "execution_count": 14,
     "metadata": {},
     "output_type": "execute_result"
    }
   ],
   "source": [
    "type(sparkDF)  # pyspark가 제공하는 데이터 프레임"
   ]
  },
  {
   "cell_type": "code",
   "execution_count": 15,
   "id": "363afe2b",
   "metadata": {},
   "outputs": [
    {
     "data": {
      "text/plain": [
       "[Row(id='1', gender='남성', educ='15', jobcat='경영자', salary='57000', salbegin='27000', jobtime='98', prevexp='144', minority='No'),\n",
       " Row(id='2', gender='남성', educ='16', jobcat='사무직', salary='40200', salbegin='18750', jobtime='98', prevexp='36', minority='No'),\n",
       " Row(id='3', gender='여성', educ='12', jobcat='사무직', salary='21450', salbegin='12000', jobtime='98', prevexp='381', minority='No'),\n",
       " Row(id='4', gender='여성', educ='8', jobcat='사무직', salary='21900', salbegin='13200', jobtime='98', prevexp='190', minority='No'),\n",
       " Row(id='5', gender='남성', educ='15', jobcat='사무직', salary='45000', salbegin='21000', jobtime='98', prevexp='138', minority='No')]"
      ]
     },
     "execution_count": 15,
     "metadata": {},
     "output_type": "execute_result"
    }
   ],
   "source": [
    "sparkDF.head(5)"
   ]
  },
  {
   "cell_type": "code",
   "execution_count": 16,
   "id": "0bbb82af",
   "metadata": {},
   "outputs": [
    {
     "name": "stdout",
     "output_type": "stream",
     "text": [
      "root\n",
      " |-- id: string (nullable = true)\n",
      " |-- gender: string (nullable = true)\n",
      " |-- educ: string (nullable = true)\n",
      " |-- jobcat: string (nullable = true)\n",
      " |-- salary: string (nullable = true)\n",
      " |-- salbegin: string (nullable = true)\n",
      " |-- jobtime: string (nullable = true)\n",
      " |-- prevexp: string (nullable = true)\n",
      " |-- minority: string (nullable = true)\n",
      "\n"
     ]
    }
   ],
   "source": [
    "# 데이터의 구조\n",
    "sparkDF.printSchema()"
   ]
  },
  {
   "cell_type": "code",
   "execution_count": 17,
   "id": "a1309cd3",
   "metadata": {},
   "outputs": [
    {
     "name": "stdout",
     "output_type": "stream",
     "text": [
      "+---+------+----+------+--------+--------+-------+-------+--------+\n",
      "| id|gender|educ|jobcat|  salary|salbegin|jobtime|prevexp|minority|\n",
      "+---+------+----+------+--------+--------+-------+-------+--------+\n",
      "|  1|  남성|  15|경영자| 57000.0|   27000|     98|    144|      No|\n",
      "|  2|  남성|  16|사무직| 40200.0|   18750|     98|     36|      No|\n",
      "|  3|  여성|  12|사무직| 21450.0|   12000|     98|    381|      No|\n",
      "|  4|  여성|   8|사무직| 21900.0|   13200|     98|    190|      No|\n",
      "|  5|  남성|  15|사무직| 45000.0|   21000|     98|    138|      No|\n",
      "|  6|  남성|  15|사무직| 32100.0|   13500|     98|     67|      No|\n",
      "|  7|  남성|  15|사무직| 36000.0|   18750|     98|    114|      No|\n",
      "|  8|  여성|  12|사무직| 21900.0|    9750|     98|      0|      No|\n",
      "|  9|  여성|  15|사무직| 27900.0|   12750|     98|    115|      No|\n",
      "| 10|  여성|  12|사무직| 24000.0|   13500|     98|    244|      No|\n",
      "| 11|  여성|  16|사무직| 30300.0|   16500|     98|    143|      No|\n",
      "| 12|  남성|   8|사무직| 28350.0|   12000|     98|     26|     Yes|\n",
      "| 13|  남성|  15|사무직| 27750.0|   14250|     98|     34|     Yes|\n",
      "| 14|  여성|  15|사무직| 35100.0|   16800|     98|    137|     Yes|\n",
      "| 15|  남성|  12|사무직| 27300.0|   13500|     97|     66|      No|\n",
      "| 16|  남성|  12|사무직| 40800.0|   15000|     97|     24|      No|\n",
      "| 17|  남성|  15|사무직| 46000.0|   14250|     97|     48|      No|\n",
      "| 18|  남성|  16|경영자|103750.0|   27510|     97|     70|      No|\n",
      "| 19|  남성|  12|사무직| 42300.0|   14250|     97|    103|      No|\n",
      "| 20|  여성|  12|사무직| 26250.0|   11550|     97|     48|      No|\n",
      "+---+------+----+------+--------+--------+-------+-------+--------+\n",
      "only showing top 20 rows\n",
      "\n"
     ]
    }
   ],
   "source": [
    "# 위의 과정과 같은 걸 한 번에\n",
    "## smu: user name\n",
    "data = 스파크.read.csv(\"hdfs://localhost:9000/Spark/spark_Employee.csv\", header=True, encoding=\"cp949\", inferSchema=\"true\")\n",
    "data.show()"
   ]
  },
  {
   "cell_type": "markdown",
   "id": "706fcf2f",
   "metadata": {},
   "source": [
    "### DataFrame을 다른 형식으로 변환하고 저장/불러오기\n",
    "- pandas DataFrame $\\Longleftrightarrow$ spark DataFrame\n",
    "- csv $\\Longleftrightarrow$ parquet"
   ]
  },
  {
   "cell_type": "code",
   "execution_count": 18,
   "id": "9d7f9cab",
   "metadata": {},
   "outputs": [
    {
     "data": {
      "text/html": [
       "<div>\n",
       "<style scoped>\n",
       "    .dataframe tbody tr th:only-of-type {\n",
       "        vertical-align: middle;\n",
       "    }\n",
       "\n",
       "    .dataframe tbody tr th {\n",
       "        vertical-align: top;\n",
       "    }\n",
       "\n",
       "    .dataframe thead th {\n",
       "        text-align: right;\n",
       "    }\n",
       "</style>\n",
       "<table border=\"1\" class=\"dataframe\">\n",
       "  <thead>\n",
       "    <tr style=\"text-align: right;\">\n",
       "      <th></th>\n",
       "      <th>id</th>\n",
       "      <th>gender</th>\n",
       "      <th>educ</th>\n",
       "      <th>jobcat</th>\n",
       "      <th>salary</th>\n",
       "      <th>salbegin</th>\n",
       "      <th>jobtime</th>\n",
       "      <th>prevexp</th>\n",
       "      <th>minority</th>\n",
       "    </tr>\n",
       "  </thead>\n",
       "  <tbody>\n",
       "    <tr>\n",
       "      <th>0</th>\n",
       "      <td>1</td>\n",
       "      <td>남성</td>\n",
       "      <td>15</td>\n",
       "      <td>경영자</td>\n",
       "      <td>57000</td>\n",
       "      <td>27000</td>\n",
       "      <td>98</td>\n",
       "      <td>144</td>\n",
       "      <td>No</td>\n",
       "    </tr>\n",
       "    <tr>\n",
       "      <th>1</th>\n",
       "      <td>2</td>\n",
       "      <td>남성</td>\n",
       "      <td>16</td>\n",
       "      <td>사무직</td>\n",
       "      <td>40200</td>\n",
       "      <td>18750</td>\n",
       "      <td>98</td>\n",
       "      <td>36</td>\n",
       "      <td>No</td>\n",
       "    </tr>\n",
       "    <tr>\n",
       "      <th>2</th>\n",
       "      <td>3</td>\n",
       "      <td>여성</td>\n",
       "      <td>12</td>\n",
       "      <td>사무직</td>\n",
       "      <td>21450</td>\n",
       "      <td>12000</td>\n",
       "      <td>98</td>\n",
       "      <td>381</td>\n",
       "      <td>No</td>\n",
       "    </tr>\n",
       "    <tr>\n",
       "      <th>3</th>\n",
       "      <td>4</td>\n",
       "      <td>여성</td>\n",
       "      <td>8</td>\n",
       "      <td>사무직</td>\n",
       "      <td>21900</td>\n",
       "      <td>13200</td>\n",
       "      <td>98</td>\n",
       "      <td>190</td>\n",
       "      <td>No</td>\n",
       "    </tr>\n",
       "    <tr>\n",
       "      <th>4</th>\n",
       "      <td>5</td>\n",
       "      <td>남성</td>\n",
       "      <td>15</td>\n",
       "      <td>사무직</td>\n",
       "      <td>45000</td>\n",
       "      <td>21000</td>\n",
       "      <td>98</td>\n",
       "      <td>138</td>\n",
       "      <td>No</td>\n",
       "    </tr>\n",
       "  </tbody>\n",
       "</table>\n",
       "</div>"
      ],
      "text/plain": [
       "  id gender educ jobcat salary salbegin jobtime prevexp minority\n",
       "0  1     남성   15    경영자  57000    27000      98     144       No\n",
       "1  2     남성   16    사무직  40200    18750      98      36       No\n",
       "2  3     여성   12    사무직  21450    12000      98     381       No\n",
       "3  4     여성    8    사무직  21900    13200      98     190       No\n",
       "4  5     남성   15    사무직  45000    21000      98     138       No"
      ]
     },
     "execution_count": 18,
     "metadata": {},
     "output_type": "execute_result"
    }
   ],
   "source": [
    "pandasDF_spark = sparkDF.toPandas()\n",
    "pandasDF_spark.head()"
   ]
  },
  {
   "cell_type": "markdown",
   "id": "944010b6",
   "metadata": {},
   "source": [
    "#### pandas DataFrame을 spark DataFrame으로\n",
    "Apache Spark uses Apache Arrow which is an in-memory columnar format to transfer the data between Python and JVM. \n",
    "You need to enable to use Arrow as this is disabled by default and have Apache Arrow (PyArrow) install on all Spark cluster nodes using pip install pyspark[sql] or by directly downloading from Apache Arrow for Python."
   ]
  },
  {
   "cell_type": "code",
   "execution_count": 19,
   "id": "d0273d58",
   "metadata": {},
   "outputs": [],
   "source": [
    "### !pip install pyarrow\n",
    "## 메모리 관리에 관한?\n",
    "스파크.conf.set(\"spark.sql.execution.arrow.enabled\",\"true\")"
   ]
  },
  {
   "cell_type": "markdown",
   "id": "5634b34a",
   "metadata": {},
   "source": [
    "### When an error occurs, \n",
    "Spark automatically fallback to non-Arrow optimization implementation, this can be controlled by spark.sql.execution.arrow.pyspark.fallback.enabled.\n",
    "```pythpn\n",
    "spark.conf.set(\"spark.sql.execution.arrow.pyspark.fallback.enabled\",\"true\")\n",
    "```"
   ]
  },
  {
   "cell_type": "code",
   "execution_count": 20,
   "id": "82b063c2",
   "metadata": {},
   "outputs": [
    {
     "name": "stderr",
     "output_type": "stream",
     "text": [
      "C:\\Users\\SM-PC\\AppData\\Local\\Programs\\Python\\Python39\\lib\\site-packages\\pyspark\\sql\\pandas\\conversion.py:471: FutureWarning: iteritems is deprecated and will be removed in a future version. Use .items instead.\n",
      "  arrow_data = [[(c, t) for (_, c), t in zip(pdf_slice.iteritems(), arrow_types)]\n"
     ]
    }
   ],
   "source": [
    "sparkDF_pd  = 스파크.createDataFrame(pandasDF)  # 스파크DF <- 판다스DF 변환\n",
    "# 빨간색이 뜨지만 워닝이지 에러는 아님. 한 번 더 실행하면 안뜸."
   ]
  },
  {
   "cell_type": "code",
   "execution_count": 21,
   "id": "a1496b3a",
   "metadata": {},
   "outputs": [
    {
     "data": {
      "text/plain": [
       "pyspark.sql.dataframe.DataFrame"
      ]
     },
     "execution_count": 21,
     "metadata": {},
     "output_type": "execute_result"
    }
   ],
   "source": [
    "type(sparkDF_pd)"
   ]
  },
  {
   "cell_type": "code",
   "execution_count": 22,
   "id": "097d1bec",
   "metadata": {},
   "outputs": [
    {
     "name": "stdout",
     "output_type": "stream",
     "text": [
      "root\n",
      " |-- id: long (nullable = true)\n",
      " |-- gender: string (nullable = true)\n",
      " |-- educ: long (nullable = true)\n",
      " |-- jobcat: string (nullable = true)\n",
      " |-- salary: double (nullable = true)\n",
      " |-- salbegin: long (nullable = true)\n",
      " |-- jobtime: long (nullable = true)\n",
      " |-- prevexp: long (nullable = true)\n",
      " |-- minority: string (nullable = true)\n",
      "\n"
     ]
    }
   ],
   "source": [
    "sparkDF_pd.printSchema()"
   ]
  },
  {
   "cell_type": "code",
   "execution_count": 23,
   "id": "158607d7",
   "metadata": {},
   "outputs": [
    {
     "name": "stdout",
     "output_type": "stream",
     "text": [
      "+---+------+----+------+--------+--------+-------+-------+--------+\n",
      "| id|gender|educ|jobcat|  salary|salbegin|jobtime|prevexp|minority|\n",
      "+---+------+----+------+--------+--------+-------+-------+--------+\n",
      "|  1|  남성|  15|경영자| 57000.0|   27000|     98|    144|      No|\n",
      "|  2|  남성|  16|사무직| 40200.0|   18750|     98|     36|      No|\n",
      "|  3|  여성|  12|사무직| 21450.0|   12000|     98|    381|      No|\n",
      "|  4|  여성|   8|사무직| 21900.0|   13200|     98|    190|      No|\n",
      "|  5|  남성|  15|사무직| 45000.0|   21000|     98|    138|      No|\n",
      "|  6|  남성|  15|사무직| 32100.0|   13500|     98|     67|      No|\n",
      "|  7|  남성|  15|사무직| 36000.0|   18750|     98|    114|      No|\n",
      "|  8|  여성|  12|사무직| 21900.0|    9750|     98|      0|      No|\n",
      "|  9|  여성|  15|사무직| 27900.0|   12750|     98|    115|      No|\n",
      "| 10|  여성|  12|사무직| 24000.0|   13500|     98|    244|      No|\n",
      "| 11|  여성|  16|사무직| 30300.0|   16500|     98|    143|      No|\n",
      "| 12|  남성|   8|사무직| 28350.0|   12000|     98|     26|     Yes|\n",
      "| 13|  남성|  15|사무직| 27750.0|   14250|     98|     34|     Yes|\n",
      "| 14|  여성|  15|사무직| 35100.0|   16800|     98|    137|     Yes|\n",
      "| 15|  남성|  12|사무직| 27300.0|   13500|     97|     66|      No|\n",
      "| 16|  남성|  12|사무직| 40800.0|   15000|     97|     24|      No|\n",
      "| 17|  남성|  15|사무직| 46000.0|   14250|     97|     48|      No|\n",
      "| 18|  남성|  16|경영자|103750.0|   27510|     97|     70|      No|\n",
      "| 19|  남성|  12|사무직| 42300.0|   14250|     97|    103|      No|\n",
      "| 20|  여성|  12|사무직| 26250.0|   11550|     97|     48|      No|\n",
      "+---+------+----+------+--------+--------+-------+-------+--------+\n",
      "only showing top 20 rows\n",
      "\n"
     ]
    }
   ],
   "source": [
    "sparkDF_pd.show()"
   ]
  },
  {
   "cell_type": "markdown",
   "id": "f33d1997",
   "metadata": {},
   "source": [
    "#### Pandas에서\n",
    "작업하고 난 데이터를 저장하기."
   ]
  },
  {
   "cell_type": "code",
   "execution_count": 24,
   "id": "0ff18384",
   "metadata": {
    "scrolled": true
   },
   "outputs": [
    {
     "data": {
      "text/html": [
       "<div>\n",
       "<style scoped>\n",
       "    .dataframe tbody tr th:only-of-type {\n",
       "        vertical-align: middle;\n",
       "    }\n",
       "\n",
       "    .dataframe tbody tr th {\n",
       "        vertical-align: top;\n",
       "    }\n",
       "\n",
       "    .dataframe thead th {\n",
       "        text-align: right;\n",
       "    }\n",
       "</style>\n",
       "<table border=\"1\" class=\"dataframe\">\n",
       "  <thead>\n",
       "    <tr style=\"text-align: right;\">\n",
       "      <th></th>\n",
       "      <th>id</th>\n",
       "      <th>gender</th>\n",
       "      <th>educ</th>\n",
       "      <th>jobcat</th>\n",
       "      <th>salary</th>\n",
       "      <th>salbegin</th>\n",
       "      <th>jobtime</th>\n",
       "      <th>prevexp</th>\n",
       "      <th>minority</th>\n",
       "    </tr>\n",
       "  </thead>\n",
       "  <tbody>\n",
       "    <tr>\n",
       "      <th>0</th>\n",
       "      <td>1</td>\n",
       "      <td>남성</td>\n",
       "      <td>15</td>\n",
       "      <td>경영자</td>\n",
       "      <td>57000.0</td>\n",
       "      <td>27000</td>\n",
       "      <td>98</td>\n",
       "      <td>144</td>\n",
       "      <td>No</td>\n",
       "    </tr>\n",
       "    <tr>\n",
       "      <th>1</th>\n",
       "      <td>2</td>\n",
       "      <td>남성</td>\n",
       "      <td>16</td>\n",
       "      <td>사무직</td>\n",
       "      <td>40200.0</td>\n",
       "      <td>18750</td>\n",
       "      <td>98</td>\n",
       "      <td>36</td>\n",
       "      <td>No</td>\n",
       "    </tr>\n",
       "    <tr>\n",
       "      <th>2</th>\n",
       "      <td>3</td>\n",
       "      <td>여성</td>\n",
       "      <td>12</td>\n",
       "      <td>사무직</td>\n",
       "      <td>21450.0</td>\n",
       "      <td>12000</td>\n",
       "      <td>98</td>\n",
       "      <td>381</td>\n",
       "      <td>No</td>\n",
       "    </tr>\n",
       "    <tr>\n",
       "      <th>3</th>\n",
       "      <td>4</td>\n",
       "      <td>여성</td>\n",
       "      <td>8</td>\n",
       "      <td>사무직</td>\n",
       "      <td>21900.0</td>\n",
       "      <td>13200</td>\n",
       "      <td>98</td>\n",
       "      <td>190</td>\n",
       "      <td>No</td>\n",
       "    </tr>\n",
       "    <tr>\n",
       "      <th>4</th>\n",
       "      <td>5</td>\n",
       "      <td>남성</td>\n",
       "      <td>15</td>\n",
       "      <td>사무직</td>\n",
       "      <td>45000.0</td>\n",
       "      <td>21000</td>\n",
       "      <td>98</td>\n",
       "      <td>138</td>\n",
       "      <td>No</td>\n",
       "    </tr>\n",
       "  </tbody>\n",
       "</table>\n",
       "</div>"
      ],
      "text/plain": [
       "   id gender  educ jobcat   salary  salbegin  jobtime  prevexp minority\n",
       "0   1     남성    15    경영자  57000.0     27000       98      144       No\n",
       "1   2     남성    16    사무직  40200.0     18750       98       36       No\n",
       "2   3     여성    12    사무직  21450.0     12000       98      381       No\n",
       "3   4     여성     8    사무직  21900.0     13200       98      190       No\n",
       "4   5     남성    15    사무직  45000.0     21000       98      138       No"
      ]
     },
     "execution_count": 24,
     "metadata": {},
     "output_type": "execute_result"
    }
   ],
   "source": [
    "pandasDF.to_csv('pandas_Employee.csv')\n",
    "pandasDF.to_parquet('pandas_Employee.parquet')\n",
    "pandasPQ  = pd.read_parquet('pandas_Employee.parquet')\n",
    "pandasPQ.head()\n",
    "# 내 컴퓨터의 D:/Bigdata/Examples 에 저장된다."
   ]
  },
  {
   "cell_type": "code",
   "execution_count": 29,
   "id": "3e469a2f",
   "metadata": {},
   "outputs": [
    {
     "data": {
      "text/html": [
       "<div>\n",
       "<style scoped>\n",
       "    .dataframe tbody tr th:only-of-type {\n",
       "        vertical-align: middle;\n",
       "    }\n",
       "\n",
       "    .dataframe tbody tr th {\n",
       "        vertical-align: top;\n",
       "    }\n",
       "\n",
       "    .dataframe thead th {\n",
       "        text-align: right;\n",
       "    }\n",
       "</style>\n",
       "<table border=\"1\" class=\"dataframe\">\n",
       "  <thead>\n",
       "    <tr style=\"text-align: right;\">\n",
       "      <th></th>\n",
       "      <th>Unnamed: 0</th>\n",
       "      <th>id</th>\n",
       "      <th>gender</th>\n",
       "      <th>educ</th>\n",
       "      <th>jobcat</th>\n",
       "      <th>salary</th>\n",
       "      <th>salbegin</th>\n",
       "      <th>jobtime</th>\n",
       "      <th>prevexp</th>\n",
       "      <th>minority</th>\n",
       "    </tr>\n",
       "  </thead>\n",
       "  <tbody>\n",
       "    <tr>\n",
       "      <th>0</th>\n",
       "      <td>0</td>\n",
       "      <td>1</td>\n",
       "      <td>남성</td>\n",
       "      <td>15</td>\n",
       "      <td>경영자</td>\n",
       "      <td>57000.0</td>\n",
       "      <td>27000</td>\n",
       "      <td>98</td>\n",
       "      <td>144</td>\n",
       "      <td>No</td>\n",
       "    </tr>\n",
       "    <tr>\n",
       "      <th>1</th>\n",
       "      <td>1</td>\n",
       "      <td>2</td>\n",
       "      <td>남성</td>\n",
       "      <td>16</td>\n",
       "      <td>사무직</td>\n",
       "      <td>40200.0</td>\n",
       "      <td>18750</td>\n",
       "      <td>98</td>\n",
       "      <td>36</td>\n",
       "      <td>No</td>\n",
       "    </tr>\n",
       "    <tr>\n",
       "      <th>2</th>\n",
       "      <td>2</td>\n",
       "      <td>3</td>\n",
       "      <td>여성</td>\n",
       "      <td>12</td>\n",
       "      <td>사무직</td>\n",
       "      <td>21450.0</td>\n",
       "      <td>12000</td>\n",
       "      <td>98</td>\n",
       "      <td>381</td>\n",
       "      <td>No</td>\n",
       "    </tr>\n",
       "    <tr>\n",
       "      <th>3</th>\n",
       "      <td>3</td>\n",
       "      <td>4</td>\n",
       "      <td>여성</td>\n",
       "      <td>8</td>\n",
       "      <td>사무직</td>\n",
       "      <td>21900.0</td>\n",
       "      <td>13200</td>\n",
       "      <td>98</td>\n",
       "      <td>190</td>\n",
       "      <td>No</td>\n",
       "    </tr>\n",
       "    <tr>\n",
       "      <th>4</th>\n",
       "      <td>4</td>\n",
       "      <td>5</td>\n",
       "      <td>남성</td>\n",
       "      <td>15</td>\n",
       "      <td>사무직</td>\n",
       "      <td>45000.0</td>\n",
       "      <td>21000</td>\n",
       "      <td>98</td>\n",
       "      <td>138</td>\n",
       "      <td>No</td>\n",
       "    </tr>\n",
       "  </tbody>\n",
       "</table>\n",
       "</div>"
      ],
      "text/plain": [
       "   Unnamed: 0  id gender  educ jobcat   salary  salbegin  jobtime  prevexp  \\\n",
       "0           0   1     남성    15    경영자  57000.0     27000       98      144   \n",
       "1           1   2     남성    16    사무직  40200.0     18750       98       36   \n",
       "2           2   3     여성    12    사무직  21450.0     12000       98      381   \n",
       "3           3   4     여성     8    사무직  21900.0     13200       98      190   \n",
       "4           4   5     남성    15    사무직  45000.0     21000       98      138   \n",
       "\n",
       "  minority  \n",
       "0       No  \n",
       "1       No  \n",
       "2       No  \n",
       "3       No  \n",
       "4       No  "
      ]
     },
     "execution_count": 29,
     "metadata": {},
     "output_type": "execute_result"
    }
   ],
   "source": [
    "pandasCSV = pd.read_csv('pandas_Employee.csv')\n",
    "pandasCSV.head()"
   ]
  },
  {
   "cell_type": "markdown",
   "id": "c375a47d",
   "metadata": {},
   "source": [
    "#### Spark에서 \n",
    "- sparkDF.write.csv(\"경로/파일이름\")\n",
    "- sparkDF.format('csv').save(\"경로/파일이름\")\n",
    "- 기존 파일이 있는 경우 \n",
    "    - 덮어쓰기: sparkDF.write.mode('overwrite').csv(\"경로/파일이름\")\n",
    "    - 추가하기: sparkDF.write.mode('append').csv(\"경로/파일이름\")\n",
    "    - 무시하기: sparkDF.write.mode('ignore').csv(\"경로/파일이름\")\n",
    "    - 오류발생: sparkDF.write.mode('error').csv(\"경로/파일이름\")  $\\Leftarrow$ default\n",
    "    "
   ]
  },
  {
   "cell_type": "code",
   "execution_count": 25,
   "id": "5fa91a52",
   "metadata": {},
   "outputs": [
    {
     "name": "stdout",
     "output_type": "stream",
     "text": [
      "+---+------+----+------+------+--------+-------+-------+--------+\n",
      "| id|gender|educ|jobcat|salary|salbegin|jobtime|prevexp|minority|\n",
      "+---+------+----+------+------+--------+-------+-------+--------+\n",
      "|  1|  남성|  15|경영자| 57000|   27000|     98|    144|      No|\n",
      "|  2|  남성|  16|사무직| 40200|   18750|     98|     36|      No|\n",
      "|  3|  여성|  12|사무직| 21450|   12000|     98|    381|      No|\n",
      "|  4|  여성|   8|사무직| 21900|   13200|     98|    190|      No|\n",
      "|  5|  남성|  15|사무직| 45000|   21000|     98|    138|      No|\n",
      "+---+------+----+------+------+--------+-------+-------+--------+\n",
      "only showing top 5 rows\n",
      "\n"
     ]
    }
   ],
   "source": [
    "sparkDF.write.csv(\"hdfs://localhost:9000/Spark/hadoop_Employee.csv\")\n",
    "sparkDF.write.parquet(\"hdfs://localhost:9000/Spark/hadoop_Employee.parquet\")\n",
    "sparkPQ = 스파크.read.parquet(\"hdfs://localhost:9000/Spark/hadoop_Employee.parquet\")\n",
    "sparkPQ.show(5)\n",
    "# hadoop에 저장된다.\n",
    "## parquet를 불러올 땐 header, encoding 안해도 된다\n",
    "## 정보가 다 저장되어 있음"
   ]
  },
  {
   "cell_type": "code",
   "execution_count": 28,
   "id": "3d8953b8",
   "metadata": {},
   "outputs": [
    {
     "name": "stdout",
     "output_type": "stream",
     "text": [
      "+---+----+---+------+-----+-----+---+---+---+\n",
      "|  1|남성| 15|경영자|57000|27000| 98|144| No|\n",
      "+---+----+---+------+-----+-----+---+---+---+\n",
      "|  2|남성| 16|사무직|40200|18750| 98| 36| No|\n",
      "|  3|여성| 12|사무직|21450|12000| 98|381| No|\n",
      "|  4|여성|  8|사무직|21900|13200| 98|190| No|\n",
      "|  5|남성| 15|사무직|45000|21000| 98|138| No|\n",
      "|  6|남성| 15|사무직|32100|13500| 98| 67| No|\n",
      "+---+----+---+------+-----+-----+---+---+---+\n",
      "only showing top 5 rows\n",
      "\n"
     ]
    }
   ],
   "source": [
    "#sparkDF_pd.write.csv(\"/Spark/sparkdf_Employee.csv\")\n",
    "sparkDF_pd = 스파크.read.csv(\"hdfs://localhost:9000/Spark/hadoop_Employee.csv\",header=True)\n",
    "sparkDF_pd.show(5)\n",
    "# header가 사라졌다."
   ]
  },
  {
   "cell_type": "code",
   "execution_count": 33,
   "id": "b66de90a",
   "metadata": {},
   "outputs": [],
   "source": [
    "import pyspark\n",
    "from pyspark.sql import SparkSession\n",
    "\n",
    "스파크 = SparkSession.builder.appName(\"hdfs\").getOrCreate()"
   ]
  },
  {
   "cell_type": "code",
   "execution_count": 34,
   "id": "ab04e9f5",
   "metadata": {},
   "outputs": [
    {
     "name": "stdout",
     "output_type": "stream",
     "text": [
      "+------+-----------------------------------+\n",
      "|rating|                               text|\n",
      "+------+-----------------------------------+\n",
      "|     4|  여행에 집중할수 있게 편안한 휴...|\n",
      "|     4|     2일 이상 연박시 침대, 이불,...|\n",
      "|     4|  지인에소개로온 호텔  깨끗하고 ...|\n",
      "|     5|  방에 딱 들어서자마자 눈이 휘둥...|\n",
      "|     5|  저녁에 맥주한잔 하는게 좋아서 ...|\n",
      "|     1|바다전망이라해서 기대했는데 영아...|\n",
      "|     5|  손님이 없는 날이라고 가장 바다...|\n",
      "|     5| 엄마와 둘이 여행왔다가 가격대비...|\n",
      "|     5|  딸 둘과의 4일동안의 제주여행줌...|\n",
      "|     5|     제주여행 2일차!!! 호텔 휘슬...|\n",
      "|     5|   예전에 그랜드 호텔일 때 저희 ...|\n",
      "|     5| 지금까지 제주여행을 다니면서 여...|\n",
      "|     5|  엄마랑 첫 제주도 여행인데 침구...|\n",
      "|     5| 친구가 제주도에 놀러와서 투숙을...|\n",
      "|     5| 차를 좋아하는 아이들에게는 최고...|\n",
      "|     5| 직원분들은 눈만 마주쳐도 도와주...|\n",
      "|     5|  조식조타하여 일부러 저녁 많이 ...|\n",
      "|     5|  신제주에 위치한 매우 깨끗한 호...|\n",
      "|     4|    모녀 여행 중 제주시 1박을 위...|\n",
      "|     5| 슈페리어킹룸에 하루 숙박한 후기...|\n",
      "+------+-----------------------------------+\n",
      "only showing top 20 rows\n",
      "\n"
     ]
    }
   ],
   "source": [
    "## CMD> hadoop fs -mkdir /Text\n",
    "## CMD> hadoop fs -put 제주호텔리뷰.csv /Text/.\n",
    "data = 스파크.read.csv(\"hdfs://localhost:9000/Text/jeju_hotel.csv\", header=True, inferSchema=\"true\")\n",
    "data.show()"
   ]
  },
  {
   "cell_type": "code",
   "execution_count": 35,
   "id": "fe702d7e",
   "metadata": {},
   "outputs": [],
   "source": [
    "pd_df = data.toPandas()"
   ]
  },
  {
   "cell_type": "code",
   "execution_count": 36,
   "id": "11ff4e23",
   "metadata": {},
   "outputs": [
    {
     "data": {
      "text/html": [
       "<div>\n",
       "<style scoped>\n",
       "    .dataframe tbody tr th:only-of-type {\n",
       "        vertical-align: middle;\n",
       "    }\n",
       "\n",
       "    .dataframe tbody tr th {\n",
       "        vertical-align: top;\n",
       "    }\n",
       "\n",
       "    .dataframe thead th {\n",
       "        text-align: right;\n",
       "    }\n",
       "</style>\n",
       "<table border=\"1\" class=\"dataframe\">\n",
       "  <thead>\n",
       "    <tr style=\"text-align: right;\">\n",
       "      <th></th>\n",
       "      <th>rating</th>\n",
       "      <th>text</th>\n",
       "    </tr>\n",
       "  </thead>\n",
       "  <tbody>\n",
       "    <tr>\n",
       "      <th>0</th>\n",
       "      <td>4</td>\n",
       "      <td>여행에 집중할수 있게 편안한 휴식을 제공하는 호텔이었습니다. 위치선정 또한 적당한 ...</td>\n",
       "    </tr>\n",
       "    <tr>\n",
       "      <th>1</th>\n",
       "      <td>4</td>\n",
       "      <td>2일 이상 연박시 침대, 이불, 베게등 침구류 교체 및 어메니티 보강이 필요해 보입...</td>\n",
       "    </tr>\n",
       "    <tr>\n",
       "      <th>2</th>\n",
       "      <td>4</td>\n",
       "      <td>지인에소개로온 호텔  깨끗하고 좋은거같아요 처음에는 없는게 많아 많이  당황했는데 ...</td>\n",
       "    </tr>\n",
       "    <tr>\n",
       "      <th>3</th>\n",
       "      <td>5</td>\n",
       "      <td>방에 딱 들어서자마자 눈이 휘둥그레질정도로 이렇게 넓은 호텔 처음 와본 것 같아요!...</td>\n",
       "    </tr>\n",
       "    <tr>\n",
       "      <th>4</th>\n",
       "      <td>5</td>\n",
       "      <td>저녁에 맥주한잔 하는게 좋아서 렌트 안하고 뚜벅이 하기로 했는데 호텔 바로 앞에 버...</td>\n",
       "    </tr>\n",
       "  </tbody>\n",
       "</table>\n",
       "</div>"
      ],
      "text/plain": [
       "   rating                                               text\n",
       "0       4  여행에 집중할수 있게 편안한 휴식을 제공하는 호텔이었습니다. 위치선정 또한 적당한 ...\n",
       "1       4  2일 이상 연박시 침대, 이불, 베게등 침구류 교체 및 어메니티 보강이 필요해 보입...\n",
       "2       4  지인에소개로온 호텔  깨끗하고 좋은거같아요 처음에는 없는게 많아 많이  당황했는데 ...\n",
       "3       5  방에 딱 들어서자마자 눈이 휘둥그레질정도로 이렇게 넓은 호텔 처음 와본 것 같아요!...\n",
       "4       5  저녁에 맥주한잔 하는게 좋아서 렌트 안하고 뚜벅이 하기로 했는데 호텔 바로 앞에 버..."
      ]
     },
     "execution_count": 36,
     "metadata": {},
     "output_type": "execute_result"
    }
   ],
   "source": [
    "pd_df.head()"
   ]
  },
  {
   "cell_type": "code",
   "execution_count": 37,
   "id": "dcc40e3c",
   "metadata": {},
   "outputs": [],
   "source": [
    "# 폴더 생성하며 해당 폴더에 지정한 형태로 파일 저장\n",
    "## 헤더 넣고 세이브\n",
    "## Text 안의 csv라는 폴더에\n",
    "data.coalesce(1).write.format(\"com.databricks.spark.csv\").option(\"header\", \"true\").save(\"hdfs://localhost:9000/Text/csv\")"
   ]
  },
  {
   "cell_type": "code",
   "execution_count": 38,
   "id": "9775afb6",
   "metadata": {},
   "outputs": [],
   "source": [
    "data.write.parquet(\"hdfs://localhost:9000/Text/parquet\")"
   ]
  },
  {
   "cell_type": "code",
   "execution_count": 41,
   "id": "8d8ef4bd",
   "metadata": {},
   "outputs": [
    {
     "name": "stdout",
     "output_type": "stream",
     "text": [
      "+------+---------------------------------+\n",
      "|rating|                             text|\n",
      "+------+---------------------------------+\n",
      "|     4|여행에 집중할수 있게 편안한 휴...|\n",
      "|     4|   2일 이상 연박시 침대, 이불,...|\n",
      "|     4|지인에소개로온 호텔  깨끗하고 ...|\n",
      "|     5|방에 딱 들어서자마자 눈이 휘둥...|\n",
      "|     5|저녁에 맥주한잔 하는게 좋아서 ...|\n",
      "+------+---------------------------------+\n",
      "only showing top 5 rows\n",
      "\n"
     ]
    }
   ],
   "source": [
    "sparkDF_jeju = 스파크.read.csv(\"hdfs://localhost:9000/Text/csv\",header=True)\n",
    "sparkDF_jeju.show(5)"
   ]
  }
 ],
 "metadata": {
  "kernelspec": {
   "display_name": "Python 3 (ipykernel)",
   "language": "python",
   "name": "python3"
  },
  "language_info": {
   "codemirror_mode": {
    "name": "ipython",
    "version": 3
   },
   "file_extension": ".py",
   "mimetype": "text/x-python",
   "name": "python",
   "nbconvert_exporter": "python",
   "pygments_lexer": "ipython3",
   "version": "3.9.13"
  }
 },
 "nbformat": 4,
 "nbformat_minor": 5
}
