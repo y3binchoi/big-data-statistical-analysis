{
 "cells": [
  {
   "cell_type": "markdown",
   "id": "0cba9935",
   "metadata": {},
   "source": [
    "## SNS 데이터 가져오기\n",
    "\n",
    "- package: snscrape\n",
    "    - a scraper for social networking services (SNS)\n",
    "    - Facebook, Instagram, Mastodon, Reddit, Telegram, Twitter, VKontakte, Weibo\n",
    "https://github.com/JustAnotherArchivist/snscrape"
   ]
  },
  {
   "cell_type": "code",
   "execution_count": 1,
   "id": "25b55b6b",
   "metadata": {},
   "outputs": [
    {
     "name": "stdout",
     "output_type": "stream",
     "text": [
      "Collecting snscrape\n",
      "  Downloading snscrape-0.6.1.20230314-py3-none-any.whl (71 kB)\n",
      "     ---------------------------------------- 0.0/71.6 kB ? eta -:--:--\n",
      "     ---------------------------------------- 71.6/71.6 kB 3.8 MB/s eta 0:00:00\n",
      "Requirement already satisfied: beautifulsoup4 in c:\\users\\sm-pc\\appdata\\local\\programs\\python\\python39\\lib\\site-packages (from snscrape) (4.11.2)\n",
      "Collecting filelock\n",
      "  Downloading filelock-3.9.1-py3-none-any.whl (9.7 kB)\n",
      "Collecting lxml\n",
      "  Downloading lxml-4.9.2-cp39-cp39-win_amd64.whl (3.9 MB)\n",
      "     ---------------------------------------- 0.0/3.9 MB ? eta -:--:--\n",
      "     -- ------------------------------------- 0.3/3.9 MB 17.3 MB/s eta 0:00:01\n",
      "     ------ --------------------------------- 0.6/3.9 MB 8.0 MB/s eta 0:00:01\n",
      "     ---------- ----------------------------- 1.0/3.9 MB 8.1 MB/s eta 0:00:01\n",
      "     -------------- ------------------------- 1.4/3.9 MB 8.0 MB/s eta 0:00:01\n",
      "     ------------------ --------------------- 1.8/3.9 MB 8.7 MB/s eta 0:00:01\n",
      "     ---------------------- ----------------- 2.2/3.9 MB 8.8 MB/s eta 0:00:01\n",
      "     -------------------------- ------------- 2.6/3.9 MB 8.7 MB/s eta 0:00:01\n",
      "     ------------------------------- -------- 3.1/3.9 MB 8.5 MB/s eta 0:00:01\n",
      "     ------------------------------------ --- 3.6/3.9 MB 8.7 MB/s eta 0:00:01\n",
      "     ---------------------------------------- 3.9/3.9 MB 8.9 MB/s eta 0:00:00\n",
      "Collecting requests[socks]\n",
      "  Downloading requests-2.28.2-py3-none-any.whl (62 kB)\n",
      "     ---------------------------------------- 0.0/62.8 kB ? eta -:--:--\n",
      "     ---------------------------------------- 62.8/62.8 kB ? eta 0:00:00\n",
      "Requirement already satisfied: soupsieve>1.2 in c:\\users\\sm-pc\\appdata\\local\\programs\\python\\python39\\lib\\site-packages (from beautifulsoup4->snscrape) (2.4)\n",
      "Collecting urllib3<1.27,>=1.21.1\n",
      "  Downloading urllib3-1.26.15-py2.py3-none-any.whl (140 kB)\n",
      "     ---------------------------------------- 0.0/140.9 kB ? eta -:--:--\n",
      "     -------------------------------------- 140.9/140.9 kB 8.2 MB/s eta 0:00:00\n",
      "Collecting certifi>=2017.4.17\n",
      "  Downloading certifi-2022.12.7-py3-none-any.whl (155 kB)\n",
      "     ---------------------------------------- 0.0/155.3 kB ? eta -:--:--\n",
      "     -------------------------------------- 155.3/155.3 kB 9.1 MB/s eta 0:00:00\n",
      "Requirement already satisfied: idna<4,>=2.5 in c:\\users\\sm-pc\\appdata\\local\\programs\\python\\python39\\lib\\site-packages (from requests[socks]->snscrape) (3.4)\n",
      "Collecting charset-normalizer<4,>=2\n",
      "  Downloading charset_normalizer-3.1.0-cp39-cp39-win_amd64.whl (97 kB)\n",
      "     ---------------------------------------- 0.0/97.1 kB ? eta -:--:--\n",
      "     ---------------------------------------- 97.1/97.1 kB 5.8 MB/s eta 0:00:00\n",
      "Collecting PySocks!=1.5.7,>=1.5.6\n",
      "  Downloading PySocks-1.7.1-py3-none-any.whl (16 kB)\n",
      "Installing collected packages: urllib3, PySocks, lxml, filelock, charset-normalizer, certifi, requests, snscrape\n",
      "Successfully installed PySocks-1.7.1 certifi-2022.12.7 charset-normalizer-3.1.0 filelock-3.9.1 lxml-4.9.2 requests-2.28.2 snscrape-0.6.1.20230314 urllib3-1.26.15\n"
     ]
    }
   ],
   "source": [
    "!pip install snscrape"
   ]
  },
  {
   "cell_type": "code",
   "execution_count": 3,
   "id": "4bf5d859",
   "metadata": {},
   "outputs": [
    {
     "name": "stdout",
     "output_type": "stream",
     "text": [
      "Collecting pandas\n",
      "  Downloading pandas-1.5.3-cp39-cp39-win_amd64.whl (10.9 MB)\n",
      "     ---------------------------------------- 0.0/10.9 MB ? eta -:--:--\n",
      "      --------------------------------------- 0.3/10.9 MB 7.7 MB/s eta 0:00:02\n",
      "     -- ------------------------------------- 0.6/10.9 MB 7.8 MB/s eta 0:00:02\n",
      "     --- ------------------------------------ 0.9/10.9 MB 7.5 MB/s eta 0:00:02\n",
      "     ---- ----------------------------------- 1.2/10.9 MB 6.7 MB/s eta 0:00:02\n",
      "     ---- ----------------------------------- 1.3/10.9 MB 6.0 MB/s eta 0:00:02\n",
      "     ----- ---------------------------------- 1.4/10.9 MB 5.4 MB/s eta 0:00:02\n",
      "     ----- ---------------------------------- 1.5/10.9 MB 4.8 MB/s eta 0:00:02\n",
      "     ----- ---------------------------------- 1.6/10.9 MB 4.4 MB/s eta 0:00:03\n",
      "     ------ --------------------------------- 1.7/10.9 MB 4.0 MB/s eta 0:00:03\n",
      "     ------ --------------------------------- 1.8/10.9 MB 3.9 MB/s eta 0:00:03\n",
      "     ------ --------------------------------- 1.8/10.9 MB 3.8 MB/s eta 0:00:03\n",
      "     ------- -------------------------------- 2.0/10.9 MB 3.8 MB/s eta 0:00:03\n",
      "     -------- ------------------------------- 2.2/10.9 MB 3.8 MB/s eta 0:00:03\n",
      "     -------- ------------------------------- 2.4/10.9 MB 3.8 MB/s eta 0:00:03\n",
      "     --------- ------------------------------ 2.7/10.9 MB 3.8 MB/s eta 0:00:03\n",
      "     ---------- ----------------------------- 2.9/10.9 MB 4.0 MB/s eta 0:00:02\n",
      "     ----------- ---------------------------- 3.0/10.9 MB 3.9 MB/s eta 0:00:03\n",
      "     ----------- ---------------------------- 3.2/10.9 MB 3.9 MB/s eta 0:00:03\n",
      "     ----------- ---------------------------- 3.3/10.9 MB 3.8 MB/s eta 0:00:03\n",
      "     ------------ --------------------------- 3.4/10.9 MB 3.7 MB/s eta 0:00:03\n",
      "     ------------ --------------------------- 3.5/10.9 MB 3.6 MB/s eta 0:00:03\n",
      "     ------------- -------------------------- 3.7/10.9 MB 3.7 MB/s eta 0:00:02\n",
      "     -------------- ------------------------- 3.9/10.9 MB 3.7 MB/s eta 0:00:02\n",
      "     --------------- ------------------------ 4.1/10.9 MB 3.7 MB/s eta 0:00:02\n",
      "     --------------- ------------------------ 4.3/10.9 MB 3.7 MB/s eta 0:00:02\n",
      "     ---------------- ----------------------- 4.6/10.9 MB 3.8 MB/s eta 0:00:02\n",
      "     ----------------- ---------------------- 4.8/10.9 MB 3.8 MB/s eta 0:00:02\n",
      "     ------------------ --------------------- 5.1/10.9 MB 4.0 MB/s eta 0:00:02\n",
      "     -------------------- ------------------- 5.5/10.9 MB 4.1 MB/s eta 0:00:02\n",
      "     --------------------- ------------------ 5.8/10.9 MB 4.1 MB/s eta 0:00:02\n",
      "     ---------------------- ----------------- 6.1/10.9 MB 4.2 MB/s eta 0:00:02\n",
      "     ----------------------- ---------------- 6.4/10.9 MB 4.3 MB/s eta 0:00:02\n",
      "     ------------------------ --------------- 6.7/10.9 MB 4.4 MB/s eta 0:00:01\n",
      "     ------------------------- -------------- 7.0/10.9 MB 4.4 MB/s eta 0:00:01\n",
      "     -------------------------- ------------- 7.4/10.9 MB 4.5 MB/s eta 0:00:01\n",
      "     ---------------------------- ----------- 7.8/10.9 MB 4.6 MB/s eta 0:00:01\n",
      "     ------------------------------ --------- 8.2/10.9 MB 4.8 MB/s eta 0:00:01\n",
      "     ------------------------------- -------- 8.7/10.9 MB 4.9 MB/s eta 0:00:01\n",
      "     --------------------------------- ------ 9.1/10.9 MB 5.0 MB/s eta 0:00:01\n",
      "     ---------------------------------- ----- 9.4/10.9 MB 5.0 MB/s eta 0:00:01\n",
      "     ----------------------------------- ---- 9.7/10.9 MB 5.1 MB/s eta 0:00:01\n",
      "     ------------------------------------ --- 10.1/10.9 MB 5.1 MB/s eta 0:00:01\n",
      "     -------------------------------------- - 10.5/10.9 MB 5.2 MB/s eta 0:00:01\n",
      "     ---------------------------------------  10.9/10.9 MB 5.2 MB/s eta 0:00:01\n",
      "     ---------------------------------------- 10.9/10.9 MB 5.2 MB/s eta 0:00:00\n",
      "Requirement already satisfied: python-dateutil>=2.8.1 in c:\\users\\sm-pc\\appdata\\local\\programs\\python\\python39\\lib\\site-packages (from pandas) (2.8.2)\n",
      "Collecting pytz>=2020.1\n",
      "  Downloading pytz-2022.7.1-py2.py3-none-any.whl (499 kB)\n",
      "     ---------------------------------------- 0.0/499.4 kB ? eta -:--:--\n",
      "     --------------------------------- --- 450.6/499.4 kB 14.2 MB/s eta 0:00:01\n",
      "     ------------------------------------- 499.4/499.4 kB 10.4 MB/s eta 0:00:00\n",
      "Collecting numpy>=1.20.3\n",
      "  Downloading numpy-1.24.2-cp39-cp39-win_amd64.whl (14.9 MB)\n",
      "     ---------------------------------------- 0.0/14.9 MB ? eta -:--:--\n",
      "      --------------------------------------- 0.3/14.9 MB 9.6 MB/s eta 0:00:02\n",
      "     - -------------------------------------- 0.6/14.9 MB 8.1 MB/s eta 0:00:02\n",
      "     -- ------------------------------------- 0.9/14.9 MB 6.8 MB/s eta 0:00:03\n",
      "     -- ------------------------------------- 1.0/14.9 MB 5.8 MB/s eta 0:00:03\n",
      "     --- ------------------------------------ 1.1/14.9 MB 4.9 MB/s eta 0:00:03\n",
      "     --- ------------------------------------ 1.4/14.9 MB 5.2 MB/s eta 0:00:03\n",
      "     ---- ----------------------------------- 1.8/14.9 MB 5.6 MB/s eta 0:00:03\n",
      "     ----- ---------------------------------- 2.1/14.9 MB 5.8 MB/s eta 0:00:03\n",
      "     ------ --------------------------------- 2.5/14.9 MB 6.1 MB/s eta 0:00:03\n",
      "     ------- -------------------------------- 2.9/14.9 MB 6.4 MB/s eta 0:00:02\n",
      "     --------- ------------------------------ 3.3/14.9 MB 6.5 MB/s eta 0:00:02\n",
      "     ---------- ----------------------------- 3.8/14.9 MB 6.9 MB/s eta 0:00:02\n",
      "     ----------- ---------------------------- 4.2/14.9 MB 7.1 MB/s eta 0:00:02\n",
      "     ------------ --------------------------- 4.7/14.9 MB 7.3 MB/s eta 0:00:02\n",
      "     ------------- -------------------------- 5.2/14.9 MB 7.5 MB/s eta 0:00:02\n",
      "     --------------- ------------------------ 5.6/14.9 MB 7.6 MB/s eta 0:00:02\n",
      "     ---------------- ----------------------- 6.0/14.9 MB 7.6 MB/s eta 0:00:02\n",
      "     ----------------- ---------------------- 6.5/14.9 MB 7.9 MB/s eta 0:00:02\n",
      "     ------------------ --------------------- 6.9/14.9 MB 7.8 MB/s eta 0:00:02\n",
      "     ------------------- -------------------- 7.3/14.9 MB 7.9 MB/s eta 0:00:01\n",
      "     -------------------- ------------------- 7.7/14.9 MB 7.9 MB/s eta 0:00:01\n",
      "     --------------------- ------------------ 8.1/14.9 MB 8.0 MB/s eta 0:00:01\n",
      "     ----------------------- ---------------- 8.6/14.9 MB 8.1 MB/s eta 0:00:01\n",
      "     ----------------------- ---------------- 8.9/14.9 MB 8.0 MB/s eta 0:00:01\n",
      "     ------------------------- -------------- 9.4/14.9 MB 8.1 MB/s eta 0:00:01\n",
      "     -------------------------- ------------- 9.8/14.9 MB 8.0 MB/s eta 0:00:01\n",
      "     --------------------------- ------------ 10.3/14.9 MB 8.1 MB/s eta 0:00:01\n",
      "     ---------------------------- ----------- 10.7/14.9 MB 8.3 MB/s eta 0:00:01\n",
      "     ------------------------------ --------- 11.2/14.9 MB 8.4 MB/s eta 0:00:01\n",
      "     ------------------------------- -------- 11.6/14.9 MB 9.0 MB/s eta 0:00:01\n",
      "     -------------------------------- ------- 12.1/14.9 MB 9.1 MB/s eta 0:00:01\n",
      "     --------------------------------- ------ 12.5/14.9 MB 9.2 MB/s eta 0:00:01\n",
      "     ---------------------------------- ----- 13.0/14.9 MB 9.2 MB/s eta 0:00:01\n",
      "     ------------------------------------ --- 13.5/14.9 MB 9.5 MB/s eta 0:00:01\n",
      "     ------------------------------------- -- 13.9/14.9 MB 9.5 MB/s eta 0:00:01\n",
      "     -------------------------------------- - 14.4/14.9 MB 9.5 MB/s eta 0:00:01\n",
      "     ---------------------------------------  14.7/14.9 MB 9.4 MB/s eta 0:00:01\n",
      "     ---------------------------------------  14.9/14.9 MB 9.4 MB/s eta 0:00:01\n",
      "     ---------------------------------------- 14.9/14.9 MB 9.0 MB/s eta 0:00:00\n",
      "Requirement already satisfied: six>=1.5 in c:\\users\\sm-pc\\appdata\\local\\programs\\python\\python39\\lib\\site-packages (from python-dateutil>=2.8.1->pandas) (1.16.0)\n",
      "Installing collected packages: pytz, numpy, pandas\n",
      "Successfully installed numpy-1.24.2 pandas-1.5.3 pytz-2022.7.1\n"
     ]
    }
   ],
   "source": [
    "!pip install pandas"
   ]
  },
  {
   "cell_type": "markdown",
   "id": "6ae9cde1",
   "metadata": {},
   "source": [
    "### Twitter 데이터 가져오기"
   ]
  },
  {
   "cell_type": "code",
   "execution_count": 4,
   "id": "af18b0cf",
   "metadata": {},
   "outputs": [],
   "source": [
    "import pandas as pd\n",
    "import snscrape.modules.twitter as sntwitter"
   ]
  },
  {
   "cell_type": "code",
   "execution_count": 5,
   "id": "5fc7d75b",
   "metadata": {},
   "outputs": [],
   "source": [
    "스크레이퍼 = sntwitter.TwitterSearchScraper(\"#python\")"
   ]
  },
  {
   "cell_type": "code",
   "execution_count": 6,
   "id": "f3cf3579",
   "metadata": {},
   "outputs": [
    {
     "data": {
      "text/plain": [
       "<snscrape.modules.twitter.TwitterSearchScraper at 0x19c4d496130>"
      ]
     },
     "execution_count": 6,
     "metadata": {},
     "output_type": "execute_result"
    }
   ],
   "source": [
    "스크레이퍼"
   ]
  },
  {
   "cell_type": "code",
   "execution_count": 7,
   "id": "96155046",
   "metadata": {},
   "outputs": [],
   "source": [
    "for 트위 in 스크레이퍼.get_items():\n",
    "    break"
   ]
  },
  {
   "cell_type": "code",
   "execution_count": 8,
   "id": "4ccbae29",
   "metadata": {},
   "outputs": [
    {
     "data": {
      "text/plain": [
       "Tweet(url='https://twitter.com/ChirchirJane/status/1635889912040812544', date=datetime.datetime(2023, 3, 15, 6, 25, 23, tzinfo=datetime.timezone.utc), rawContent='#Python,#kibe,Pope Francis,Super Petrol,#Champions League,EPRA,20th Of March,Sonko,Hot Air,Haaland', renderedContent='#Python,#kibe,Pope Francis,Super Petrol,#Champions League,EPRA,20th Of March,Sonko,Hot Air,Haaland', id=1635889912040812544, user=User(username='ChirchirJane', id=1605513239869247490, displayname='jane chirchir', rawDescription='', renderedDescription='', descriptionLinks=None, verified=False, created=datetime.datetime(2022, 12, 21, 10, 39, 31, tzinfo=datetime.timezone.utc), followersCount=6, friendsCount=6, statusesCount=149, favouritesCount=141, listedCount=0, mediaCount=1, location='', protected=False, link=None, profileImageUrl='https://abs.twimg.com/sticky/default_profile_images/default_profile_normal.png', profileBannerUrl=None, label=None), replyCount=0, retweetCount=0, likeCount=0, quoteCount=0, conversationId=1635889912040812544, lang='en', source='<a href=\"http://twitter.com/download/android\" rel=\"nofollow\">Twitter for Android</a>', sourceUrl='http://twitter.com/download/android', sourceLabel='Twitter for Android', links=None, media=None, retweetedTweet=None, quotedTweet=Tweet(url='https://twitter.com/kimse_vin/status/1635883413503631361', date=datetime.datetime(2023, 3, 15, 5, 59, 33, tzinfo=datetime.timezone.utc), rawContent='Women need to take up more space in Tech inorder to  to close the gender pay gap,to close talent shortage,to generate impact and more revenue,to generate innovation among others. \\nwatch out and take advantage of the all female ALX Cohort via the link: https://t.co/wdtpXHV3Ko https://t.co/op7xa6747F', renderedContent='Women need to take up more space in Tech inorder to  to close the gender pay gap,to close talent shortage,to generate impact and more revenue,to generate innovation among others. \\nwatch out and take advantage of the all female ALX Cohort via the link: aif.la/3Sk9TIw https://t.co/op7xa6747F', id=1635883413503631361, user=User(username='kimse_vin', id=1451481583408517133, displayname=\"El'nuski\", rawDescription='Online Influencer', renderedDescription='Online Influencer', descriptionLinks=None, verified=False, created=datetime.datetime(2021, 10, 22, 9, 32, 47, tzinfo=datetime.timezone.utc), followersCount=4882, friendsCount=3811, statusesCount=687, favouritesCount=3442, listedCount=0, mediaCount=60, location='Mombasa, Kenya ', protected=False, link=None, profileImageUrl='https://pbs.twimg.com/profile_images/1635130866111328256/wa0LyLT5_normal.jpg', profileBannerUrl=None, label=None), replyCount=0, retweetCount=5, likeCount=5, quoteCount=5, conversationId=1635883413503631361, lang='en', source='<a href=\"http://twitter.com/download/android\" rel=\"nofollow\">Twitter for Android</a>', sourceUrl='http://twitter.com/download/android', sourceLabel='Twitter for Android', links=[TextLink(text='aif.la/3Sk9TIw', url='http://aif.la/3Sk9TIw', tcourl='https://t.co/wdtpXHV3Ko', indices=(252, 275))], media=[Photo(previewUrl='https://pbs.twimg.com/media/FrPTSm0WIAcHyJS?format=jpg&name=small', fullUrl='https://pbs.twimg.com/media/FrPTSm0WIAcHyJS?format=jpg&name=orig', altText=None)], retweetedTweet=None, quotedTweet=None, inReplyToTweetId=None, inReplyToUser=None, mentionedUsers=None, coordinates=None, place=None, hashtags=None, cashtags=None, card=None, viewCount=61, vibe=None), inReplyToTweetId=None, inReplyToUser=None, mentionedUsers=None, coordinates=None, place=None, hashtags=['Python', 'kibe', 'Champions'], cashtags=None, card=None, viewCount=None, vibe=None)"
      ]
     },
     "execution_count": 8,
     "metadata": {},
     "output_type": "execute_result"
    }
   ],
   "source": [
    "트위"
   ]
  },
  {
   "cell_type": "code",
   "execution_count": 9,
   "id": "9e96682f",
   "metadata": {},
   "outputs": [
    {
     "name": "stdout",
     "output_type": "stream",
     "text": [
      "[datetime.datetime(2023, 3, 15, 6, 25, 23, tzinfo=datetime.timezone.utc), 1635889912040812544, '#Python,#kibe,Pope Francis,Super Petrol,#Champions League,EPRA,20th Of March,Sonko,Hot Air,Haaland', 'ChirchirJane', 0, 0]\n"
     ]
    }
   ],
   "source": [
    "트위자료 = [트위.date, 트위.id, 트위.rawContent, 트위.user.username, 트위.likeCount, 트위.retweetCount]\n",
    "print(트위자료)"
   ]
  },
  {
   "cell_type": "code",
   "execution_count": 10,
   "id": "a17b36c5",
   "metadata": {},
   "outputs": [],
   "source": [
    "스크레이퍼 = sntwitter.TwitterSearchScraper(\"#python\")\n",
    "트윗묶음 = []\n",
    "for i, 트윗 in enumerate(스크레이퍼.get_items()):\n",
    "    트윗자료 = [트윗.date, 트윗.id, 트윗.rawContent, 트윗.user.username, 트윗.likeCount, 트윗.retweetCount]\n",
    "    트윗묶음.append(트윗자료)\n",
    "    if i > 50: break"
   ]
  },
  {
   "cell_type": "code",
   "execution_count": 11,
   "id": "db34595b",
   "metadata": {},
   "outputs": [
    {
     "data": {
      "text/plain": [
       "52"
      ]
     },
     "execution_count": 11,
     "metadata": {},
     "output_type": "execute_result"
    }
   ],
   "source": [
    "len(트윗묶음)"
   ]
  },
  {
   "cell_type": "code",
   "execution_count": 12,
   "id": "6d294416",
   "metadata": {},
   "outputs": [
    {
     "data": {
      "text/html": [
       "<div>\n",
       "<style scoped>\n",
       "    .dataframe tbody tr th:only-of-type {\n",
       "        vertical-align: middle;\n",
       "    }\n",
       "\n",
       "    .dataframe tbody tr th {\n",
       "        vertical-align: top;\n",
       "    }\n",
       "\n",
       "    .dataframe thead th {\n",
       "        text-align: right;\n",
       "    }\n",
       "</style>\n",
       "<table border=\"1\" class=\"dataframe\">\n",
       "  <thead>\n",
       "    <tr style=\"text-align: right;\">\n",
       "      <th></th>\n",
       "      <th>date</th>\n",
       "      <th>id</th>\n",
       "      <th>content</th>\n",
       "      <th>username</th>\n",
       "      <th>likeCount</th>\n",
       "      <th>retweetCount</th>\n",
       "    </tr>\n",
       "  </thead>\n",
       "  <tbody>\n",
       "    <tr>\n",
       "      <th>0</th>\n",
       "      <td>2023-03-15 06:31:20+00:00</td>\n",
       "      <td>1635891410317484032</td>\n",
       "      <td>Grab a copy of updated ADVANCED TAXATION revis...</td>\n",
       "      <td>Leshon_mwikali</td>\n",
       "      <td>0</td>\n",
       "      <td>0</td>\n",
       "    </tr>\n",
       "    <tr>\n",
       "      <th>1</th>\n",
       "      <td>2023-03-15 06:31:06+00:00</td>\n",
       "      <td>1635891351672745984</td>\n",
       "      <td>I am a #RaspberryPi #Python scripted bot\\nThis...</td>\n",
       "      <td>pihole_fosser</td>\n",
       "      <td>0</td>\n",
       "      <td>0</td>\n",
       "    </tr>\n",
       "    <tr>\n",
       "      <th>2</th>\n",
       "      <td>2023-03-15 06:31:03+00:00</td>\n",
       "      <td>1635891339249197056</td>\n",
       "      <td>Crescens is looking for a Senior Azure Cloud D...</td>\n",
       "      <td>PythonJobsFeed</td>\n",
       "      <td>0</td>\n",
       "      <td>0</td>\n",
       "    </tr>\n",
       "    <tr>\n",
       "      <th>3</th>\n",
       "      <td>2023-03-15 06:31:03+00:00</td>\n",
       "      <td>1635891338276118532</td>\n",
       "      <td>HAN IT Staffing is looking for a Security Mana...</td>\n",
       "      <td>PythonJobsFeed</td>\n",
       "      <td>0</td>\n",
       "      <td>0</td>\n",
       "    </tr>\n",
       "    <tr>\n",
       "      <th>4</th>\n",
       "      <td>2023-03-15 06:31:02+00:00</td>\n",
       "      <td>1635891337252810752</td>\n",
       "      <td>RightWorks Staffing is looking for a Quality P...</td>\n",
       "      <td>PythonJobsFeed</td>\n",
       "      <td>0</td>\n",
       "      <td>0</td>\n",
       "    </tr>\n",
       "  </tbody>\n",
       "</table>\n",
       "</div>"
      ],
      "text/plain": [
       "                       date                   id  \\\n",
       "0 2023-03-15 06:31:20+00:00  1635891410317484032   \n",
       "1 2023-03-15 06:31:06+00:00  1635891351672745984   \n",
       "2 2023-03-15 06:31:03+00:00  1635891339249197056   \n",
       "3 2023-03-15 06:31:03+00:00  1635891338276118532   \n",
       "4 2023-03-15 06:31:02+00:00  1635891337252810752   \n",
       "\n",
       "                                             content        username  \\\n",
       "0  Grab a copy of updated ADVANCED TAXATION revis...  Leshon_mwikali   \n",
       "1  I am a #RaspberryPi #Python scripted bot\\nThis...   pihole_fosser   \n",
       "2  Crescens is looking for a Senior Azure Cloud D...  PythonJobsFeed   \n",
       "3  HAN IT Staffing is looking for a Security Mana...  PythonJobsFeed   \n",
       "4  RightWorks Staffing is looking for a Quality P...  PythonJobsFeed   \n",
       "\n",
       "   likeCount  retweetCount  \n",
       "0          0             0  \n",
       "1          0             0  \n",
       "2          0             0  \n",
       "3          0             0  \n",
       "4          0             0  "
      ]
     },
     "execution_count": 12,
     "metadata": {},
     "output_type": "execute_result"
    }
   ],
   "source": [
    "트윗_df  = pd.DataFrame(트윗묶음,columns=[\"date\",\"id\",\"content\",\"username\",\"likeCount\",\"retweetCount\"])\n",
    "트윗_df.head()"
   ]
  },
  {
   "cell_type": "code",
   "execution_count": 13,
   "id": "d00e5a82",
   "metadata": {},
   "outputs": [
    {
     "data": {
      "text/html": [
       "<div>\n",
       "<style scoped>\n",
       "    .dataframe tbody tr th:only-of-type {\n",
       "        vertical-align: middle;\n",
       "    }\n",
       "\n",
       "    .dataframe tbody tr th {\n",
       "        vertical-align: top;\n",
       "    }\n",
       "\n",
       "    .dataframe thead th {\n",
       "        text-align: right;\n",
       "    }\n",
       "</style>\n",
       "<table border=\"1\" class=\"dataframe\">\n",
       "  <thead>\n",
       "    <tr style=\"text-align: right;\">\n",
       "      <th></th>\n",
       "      <th>date</th>\n",
       "      <th>id</th>\n",
       "      <th>content</th>\n",
       "      <th>username</th>\n",
       "      <th>likeCount</th>\n",
       "      <th>retweetCount</th>\n",
       "    </tr>\n",
       "  </thead>\n",
       "  <tbody>\n",
       "    <tr>\n",
       "      <th>47</th>\n",
       "      <td>2023-03-15 06:18:45+00:00</td>\n",
       "      <td>1635888244494573569</td>\n",
       "      <td>#Hiringnow for #Python #NoSQL #SQL #PostgreSQL...</td>\n",
       "      <td>CodeMonk_Tweets</td>\n",
       "      <td>0</td>\n",
       "      <td>0</td>\n",
       "    </tr>\n",
       "    <tr>\n",
       "      <th>48</th>\n",
       "      <td>2023-03-15 06:18:18+00:00</td>\n",
       "      <td>1635888129562542082</td>\n",
       "      <td>✅Follow @Sachintukumar For More \\n\\n#SQL #Data...</td>\n",
       "      <td>Sachintukumar</td>\n",
       "      <td>1</td>\n",
       "      <td>0</td>\n",
       "    </tr>\n",
       "    <tr>\n",
       "      <th>49</th>\n",
       "      <td>2023-03-15 06:17:38+00:00</td>\n",
       "      <td>1635887962050142210</td>\n",
       "      <td>@pyquantnews @savetonotion #thread #python</td>\n",
       "      <td>realAkanyaCO</td>\n",
       "      <td>0</td>\n",
       "      <td>0</td>\n",
       "    </tr>\n",
       "    <tr>\n",
       "      <th>50</th>\n",
       "      <td>2023-03-15 06:17:08+00:00</td>\n",
       "      <td>1635887839182458880</td>\n",
       "      <td>📈 How much do we learn ❓\\n\\n@DataFlairWS @Khul...</td>\n",
       "      <td>IamAritraG</td>\n",
       "      <td>1</td>\n",
       "      <td>0</td>\n",
       "    </tr>\n",
       "    <tr>\n",
       "      <th>51</th>\n",
       "      <td>2023-03-15 06:16:53+00:00</td>\n",
       "      <td>1635887774132740097</td>\n",
       "      <td>Don't waste your time calling for a seat! With...</td>\n",
       "      <td>panda_shuttles</td>\n",
       "      <td>0</td>\n",
       "      <td>0</td>\n",
       "    </tr>\n",
       "  </tbody>\n",
       "</table>\n",
       "</div>"
      ],
      "text/plain": [
       "                        date                   id  \\\n",
       "47 2023-03-15 06:18:45+00:00  1635888244494573569   \n",
       "48 2023-03-15 06:18:18+00:00  1635888129562542082   \n",
       "49 2023-03-15 06:17:38+00:00  1635887962050142210   \n",
       "50 2023-03-15 06:17:08+00:00  1635887839182458880   \n",
       "51 2023-03-15 06:16:53+00:00  1635887774132740097   \n",
       "\n",
       "                                              content         username  \\\n",
       "47  #Hiringnow for #Python #NoSQL #SQL #PostgreSQL...  CodeMonk_Tweets   \n",
       "48  ✅Follow @Sachintukumar For More \\n\\n#SQL #Data...    Sachintukumar   \n",
       "49         @pyquantnews @savetonotion #thread #python     realAkanyaCO   \n",
       "50  📈 How much do we learn ❓\\n\\n@DataFlairWS @Khul...       IamAritraG   \n",
       "51  Don't waste your time calling for a seat! With...   panda_shuttles   \n",
       "\n",
       "    likeCount  retweetCount  \n",
       "47          0             0  \n",
       "48          1             0  \n",
       "49          0             0  \n",
       "50          1             0  \n",
       "51          0             0  "
      ]
     },
     "execution_count": 13,
     "metadata": {},
     "output_type": "execute_result"
    }
   ],
   "source": [
    "트윗_df.tail()"
   ]
  },
  {
   "cell_type": "markdown",
   "id": "76dec9fe",
   "metadata": {},
   "source": [
    "### 진행바(Progress Bar) 추가\n",
    "\n",
    "- 간지나게 돌아가는게 보고 싶을 때"
   ]
  },
  {
   "cell_type": "code",
   "execution_count": 14,
   "id": "031c0243",
   "metadata": {},
   "outputs": [
    {
     "name": "stdout",
     "output_type": "stream",
     "text": [
      "Collecting tqdm\n",
      "  Downloading tqdm-4.65.0-py3-none-any.whl (77 kB)\n",
      "     ---------------------------------------- 0.0/77.1 kB ? eta -:--:--\n",
      "     ---------------------------------------- 77.1/77.1 kB 4.2 MB/s eta 0:00:00\n",
      "Requirement already satisfied: colorama in c:\\users\\sm-pc\\appdata\\local\\programs\\python\\python39\\lib\\site-packages (from tqdm) (0.4.6)\n",
      "Installing collected packages: tqdm\n",
      "Successfully installed tqdm-4.65.0\n"
     ]
    }
   ],
   "source": [
    "!pip install tqdm"
   ]
  },
  {
   "cell_type": "code",
   "execution_count": 15,
   "id": "e10147a3",
   "metadata": {},
   "outputs": [],
   "source": [
    "from tqdm.notebook import tqdm"
   ]
  },
  {
   "cell_type": "code",
   "execution_count": 16,
   "id": "74c6ed3b",
   "metadata": {},
   "outputs": [
    {
     "data": {
      "application/vnd.jupyter.widget-view+json": {
       "model_id": "3eea40acd3a047d2b47ef4ce35795fe0",
       "version_major": 2,
       "version_minor": 0
      },
      "text/plain": [
       "진행률:   0%|          | 0/1000 [00:00<?, ?it/s]"
      ]
     },
     "metadata": {},
     "output_type": "display_data"
    },
    {
     "data": {
      "text/html": [
       "<div>\n",
       "<style scoped>\n",
       "    .dataframe tbody tr th:only-of-type {\n",
       "        vertical-align: middle;\n",
       "    }\n",
       "\n",
       "    .dataframe tbody tr th {\n",
       "        vertical-align: top;\n",
       "    }\n",
       "\n",
       "    .dataframe thead th {\n",
       "        text-align: right;\n",
       "    }\n",
       "</style>\n",
       "<table border=\"1\" class=\"dataframe\">\n",
       "  <thead>\n",
       "    <tr style=\"text-align: right;\">\n",
       "      <th></th>\n",
       "      <th>date</th>\n",
       "      <th>id</th>\n",
       "      <th>content</th>\n",
       "      <th>username</th>\n",
       "      <th>likeCount</th>\n",
       "      <th>retweetCount</th>\n",
       "    </tr>\n",
       "  </thead>\n",
       "  <tbody>\n",
       "    <tr>\n",
       "      <th>0</th>\n",
       "      <td>2023-03-15 06:40:05+00:00</td>\n",
       "      <td>1635893613044600832</td>\n",
       "      <td>twitterでプログラミングを学んでいる人を見ていると手段と目的を取り違えている人が多いよ...</td>\n",
       "      <td>mhPZPibVjOUsZaZ</td>\n",
       "      <td>1</td>\n",
       "      <td>0</td>\n",
       "    </tr>\n",
       "    <tr>\n",
       "      <th>1</th>\n",
       "      <td>2023-03-15 06:39:26+00:00</td>\n",
       "      <td>1635893450729046016</td>\n",
       "      <td>Visualize your data to gain insights and commu...</td>\n",
       "      <td>gladinvarghese</td>\n",
       "      <td>0</td>\n",
       "      <td>0</td>\n",
       "    </tr>\n",
       "    <tr>\n",
       "      <th>2</th>\n",
       "      <td>2023-03-15 06:39:22+00:00</td>\n",
       "      <td>1635893433016676352</td>\n",
       "      <td>How to Become an Artificial Intelligence Engin...</td>\n",
       "      <td>learnitguide</td>\n",
       "      <td>1</td>\n",
       "      <td>0</td>\n",
       "    </tr>\n",
       "    <tr>\n",
       "      <th>3</th>\n",
       "      <td>2023-03-15 06:38:50+00:00</td>\n",
       "      <td>1635893297997651968</td>\n",
       "      <td>I will soon showcase my #Web3 2 weeks journey ...</td>\n",
       "      <td>ishkeven</td>\n",
       "      <td>1</td>\n",
       "      <td>0</td>\n",
       "    </tr>\n",
       "    <tr>\n",
       "      <th>4</th>\n",
       "      <td>2023-03-15 06:38:34+00:00</td>\n",
       "      <td>1635893231874461696</td>\n",
       "      <td>A coworking space that was designed  with you ...</td>\n",
       "      <td>CCareerbridge</td>\n",
       "      <td>0</td>\n",
       "      <td>0</td>\n",
       "    </tr>\n",
       "  </tbody>\n",
       "</table>\n",
       "</div>"
      ],
      "text/plain": [
       "                       date                   id  \\\n",
       "0 2023-03-15 06:40:05+00:00  1635893613044600832   \n",
       "1 2023-03-15 06:39:26+00:00  1635893450729046016   \n",
       "2 2023-03-15 06:39:22+00:00  1635893433016676352   \n",
       "3 2023-03-15 06:38:50+00:00  1635893297997651968   \n",
       "4 2023-03-15 06:38:34+00:00  1635893231874461696   \n",
       "\n",
       "                                             content         username  \\\n",
       "0  twitterでプログラミングを学んでいる人を見ていると手段と目的を取り違えている人が多いよ...  mhPZPibVjOUsZaZ   \n",
       "1  Visualize your data to gain insights and commu...   gladinvarghese   \n",
       "2  How to Become an Artificial Intelligence Engin...     learnitguide   \n",
       "3  I will soon showcase my #Web3 2 weeks journey ...         ishkeven   \n",
       "4  A coworking space that was designed  with you ...    CCareerbridge   \n",
       "\n",
       "   likeCount  retweetCount  \n",
       "0          1             0  \n",
       "1          0             0  \n",
       "2          1             0  \n",
       "3          1             0  \n",
       "4          0             0  "
      ]
     },
     "execution_count": 16,
     "metadata": {},
     "output_type": "execute_result"
    }
   ],
   "source": [
    "스크레이퍼 = sntwitter.TwitterSearchScraper(\"#python\")\n",
    "트윗묶음 = []\n",
    "n_트윗묶음 = 1_000  # 1000번을 하겠다\n",
    "for i, 트윗 in tqdm(enumerate(스크레이퍼.get_items()),desc=\"진행률\",total=n_트윗묶음):\n",
    "    트윗자료 = [트윗.date, 트윗.id, 트윗.rawContent, 트윗.user.username, 트윗.likeCount, 트윗.retweetCount]\n",
    "    트윗묶음.append(트윗자료)\n",
    "    if i > n_트윗묶음: break\n",
    "        \n",
    "트윗_df  = pd.DataFrame(트윗묶음,columns=[\"date\",\"id\",\"content\",\"username\",\"likeCount\",\"retweetCount\"])\n",
    "트윗_df.head()"
   ]
  },
  {
   "cell_type": "code",
   "execution_count": null,
   "id": "4ef4b8e5",
   "metadata": {},
   "outputs": [],
   "source": []
  }
 ],
 "metadata": {
  "kernelspec": {
   "display_name": "Python 3 (ipykernel)",
   "language": "python",
   "name": "python3"
  },
  "language_info": {
   "codemirror_mode": {
    "name": "ipython",
    "version": 3
   },
   "file_extension": ".py",
   "mimetype": "text/x-python",
   "name": "python",
   "nbconvert_exporter": "python",
   "pygments_lexer": "ipython3",
   "version": "3.9.13"
  }
 },
 "nbformat": 4,
 "nbformat_minor": 5
}
